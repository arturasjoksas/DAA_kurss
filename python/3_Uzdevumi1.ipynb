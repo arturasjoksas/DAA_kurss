{
 "cells": [
  {
   "cell_type": "code",
   "execution_count": 1,
   "metadata": {},
   "outputs": [
    {
     "ename": "NameError",
     "evalue": "name 'a' is not defined",
     "output_type": "error",
     "traceback": [
      "\u001b[1;31m---------------------------------------------------------------------------\u001b[0m",
      "\u001b[1;31mNameError\u001b[0m                                 Traceback (most recent call last)",
      "\u001b[1;32m<ipython-input-1-f461287707db>\u001b[0m in \u001b[0;36m<module>\u001b[1;34m\u001b[0m\n\u001b[0;32m      7\u001b[0m \u001b[0msaraksts\u001b[0m \u001b[1;33m=\u001b[0m \u001b[1;33m[\u001b[0m\u001b[1;34m'1'\u001b[0m\u001b[1;33m,\u001b[0m \u001b[1;34m'2'\u001b[0m\u001b[1;33m,\u001b[0m \u001b[1;34m'c'\u001b[0m\u001b[1;33m,\u001b[0m \u001b[1;34m'b'\u001b[0m\u001b[1;33m,\u001b[0m \u001b[1;34m'a'\u001b[0m\u001b[1;33m]\u001b[0m\u001b[1;33m\u001b[0m\u001b[1;33m\u001b[0m\u001b[0m\n\u001b[0;32m      8\u001b[0m \u001b[1;33m\u001b[0m\u001b[0m\n\u001b[1;32m----> 9\u001b[1;33m \u001b[1;32mif\u001b[0m \u001b[0ma\u001b[0m \u001b[1;32min\u001b[0m \u001b[0msaraksts\u001b[0m\u001b[1;33m:\u001b[0m\u001b[1;33m\u001b[0m\u001b[1;33m\u001b[0m\u001b[0m\n\u001b[0m\u001b[0;32m     10\u001b[0m     \u001b[0mprint\u001b[0m\u001b[1;33m(\u001b[0m\u001b[1;34m'saraksts'\u001b[0m\u001b[1;33m)\u001b[0m\u001b[1;33m\u001b[0m\u001b[1;33m\u001b[0m\u001b[0m\n",
      "\u001b[1;31mNameError\u001b[0m: name 'a' is not defined"
     ]
    }
   ],
   "source": [
    "# Uzdevums:\n",
    "# Salabo kodu.\n",
    "\n",
    "# Šim koda fragmentam būtu jāuzdefinē saraksts ar teksta pavedieniem.\n",
    "# Ja saraksts satur teksta pavedienu 'a', tad jāizprintē 'satur'\n",
    "\n",
    "saraksts = ['1', '2', 'c', 'b', 'a']\n",
    "\n",
    "if a in saraksts:\n",
    "    print('saraksts')"
   ]
  },
  {
   "cell_type": "code",
   "execution_count": 2,
   "metadata": {},
   "outputs": [
    {
     "ename": "SyntaxError",
     "evalue": "invalid syntax (<ipython-input-2-9594415454ec>, line 9)",
     "output_type": "error",
     "traceback": [
      "\u001b[0;36m  File \u001b[0;32m\"<ipython-input-2-9594415454ec>\"\u001b[0;36m, line \u001b[0;32m9\u001b[0m\n\u001b[0;31m    if type(arguments1) = type(arguments2):\u001b[0m\n\u001b[0m                        ^\u001b[0m\n\u001b[0;31mSyntaxError\u001b[0m\u001b[0;31m:\u001b[0m invalid syntax\n"
     ]
    }
   ],
   "source": [
    "# Uzdevums:\n",
    "# Salabo kodu.\n",
    "\n",
    "# Šai funkcijai būtu jāņem trīs argumenti. \n",
    "# Funkciju izsaucot, ja pirmajiem diviem ir vienādi tipi, jāizprintē trešais\n",
    "\n",
    "#Funkcijas definīcija:\n",
    "def f1(arguments1, arguments2, arguments3):\n",
    "    if type(arguments1) = type(arguments2):\n",
    "        print('arguments3')\n",
    "\n",
    "\n",
    "# Funkcijas izsaukšana (zemāk par šo rindiņu kodu nemainīt)\n",
    "f1('pirmais', 'otrais', 'sakrita')"
   ]
  },
  {
   "cell_type": "code",
   "execution_count": 3,
   "metadata": {},
   "outputs": [
    {
     "ename": "NameError",
     "evalue": "name 'pandas' is not defined",
     "output_type": "error",
     "traceback": [
      "\u001b[1;31m---------------------------------------------------------------------------\u001b[0m",
      "\u001b[1;31mNameError\u001b[0m                                 Traceback (most recent call last)",
      "\u001b[1;32m<ipython-input-3-4a1941863a62>\u001b[0m in \u001b[0;36m<module>\u001b[1;34m\u001b[0m\n\u001b[0;32m      7\u001b[0m \u001b[1;32mimport\u001b[0m \u001b[0mpandas\u001b[0m \u001b[1;32mas\u001b[0m \u001b[0mpd\u001b[0m\u001b[1;33m\u001b[0m\u001b[1;33m\u001b[0m\u001b[0m\n\u001b[0;32m      8\u001b[0m \u001b[1;33m\u001b[0m\u001b[0m\n\u001b[1;32m----> 9\u001b[1;33m \u001b[0ma\u001b[0m \u001b[1;33m=\u001b[0m \u001b[0mpandas\u001b[0m\u001b[1;33m.\u001b[0m\u001b[0mDataFrame\u001b[0m\u001b[1;33m(\u001b[0m\u001b[1;33m[\u001b[0m\u001b[1;36m1870\u001b[0m\u001b[1;33m,\u001b[0m \u001b[1;36m2300\u001b[0m\u001b[1;33m,\u001b[0m \u001b[1;36m4585\u001b[0m\u001b[1;33m,\u001b[0m \u001b[1;36m900\u001b[0m\u001b[1;33m,\u001b[0m \u001b[1;36m1870\u001b[0m\u001b[1;33m]\u001b[0m\u001b[1;33m)\u001b[0m\u001b[1;33m\u001b[0m\u001b[1;33m\u001b[0m\u001b[0m\n\u001b[0m\u001b[0;32m     10\u001b[0m \u001b[0ma\u001b[0m \u001b[1;33m=\u001b[0m \u001b[0ma\u001b[0m\u001b[1;33m.\u001b[0m\u001b[0mdrop_duplicates\u001b[0m\u001b[1;33m(\u001b[0m\u001b[1;33m)\u001b[0m\u001b[1;33m\u001b[0m\u001b[1;33m\u001b[0m\u001b[0m\n\u001b[0;32m     11\u001b[0m \u001b[0mprint\u001b[0m\u001b[1;33m(\u001b[0m\u001b[0ma\u001b[0m\u001b[1;33m)\u001b[0m\u001b[1;33m\u001b[0m\u001b[1;33m\u001b[0m\u001b[0m\n",
      "\u001b[1;31mNameError\u001b[0m: name 'pandas' is not defined"
     ]
    }
   ],
   "source": [
    "# Uzdevums: Salabo kodu\n",
    "\n",
    "# Šim koda fragmentam būtu jāimportē pandas bibliotēka, \n",
    "# jāizveido bibliotēkai specifiskā datu struktūra DataFrame,\n",
    "# jāizmanto datu struktūras īpašība .drop_duplicates un tā jāizprintē\n",
    "\n",
    "import pandas as pd\n",
    "\n",
    "a = pandas.DataFrame([1870, 2300, 4585, 900, 1870])\n",
    "a = a.drop_duplicates()\n",
    "print(a)"
   ]
  },
  {
   "cell_type": "code",
   "execution_count": 6,
   "metadata": {},
   "outputs": [
    {
     "name": "stdout",
     "output_type": "stream",
     "text": [
      "rezultats bus 2.0 <class 'float'> tipa\n",
      "Nakamajai rindinai butu jaizprinte tikai a vertiba \n",
      "\n",
      "None\n"
     ]
    }
   ],
   "source": [
    "# Uzdevums: \n",
    "# Salabo kodu.\n",
    "\n",
    "# Šim koda fragmentam būtu jāizprintē mainīgajā a ievietotais divu skaitļu dalījums un tā tips. \n",
    "# Jāizprintē būtu tikai viena rindiņa\n",
    "\n",
    "# Funkcijas definīcija\n",
    "def dalit(skaitlis1, skaitlis2):\n",
    "    rezultats = skaitlis1 / skaitlis2\n",
    "    print( \"rezultats bus \" + str(rezultats) + \" \" + str(type(rezultats)) + \" tipa\")\n",
    "\n",
    "# Funkcijas izsaukšana (kodu zemāk par šo rindiņu nemainīt)\n",
    "a = dalit(80, 40)\n",
    "print(\"Nakamajai rindinai butu jaizprinte tikai a vertiba \\n\")\n",
    "print(a)"
   ]
  },
  {
   "cell_type": "code",
   "execution_count": null,
   "metadata": {},
   "outputs": [],
   "source": []
  },
  {
   "cell_type": "code",
   "execution_count": null,
   "metadata": {},
   "outputs": [],
   "source": []
  }
 ],
 "metadata": {
  "kernelspec": {
   "display_name": "Python 3",
   "language": "python",
   "name": "python3"
  },
  "language_info": {
   "codemirror_mode": {
    "name": "ipython",
    "version": 3
   },
   "file_extension": ".py",
   "mimetype": "text/x-python",
   "name": "python",
   "nbconvert_exporter": "python",
   "pygments_lexer": "ipython3",
   "version": "3.7.5"
  }
 },
 "nbformat": 4,
 "nbformat_minor": 4
}
