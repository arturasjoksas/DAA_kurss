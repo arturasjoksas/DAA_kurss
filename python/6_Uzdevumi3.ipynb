{
 "cells": [
  {
   "cell_type": "markdown",
   "metadata": {},
   "source": [
    "**!!!** Šajā nodarbībā vairāk darbosimies ar datu struktūru iebūvētajām funkcijām. Atveriet šīs divas lapas un pētiet iebūvētās funkcijas.  \n",
    "\n",
    "https://docs.python.org/3/tutorial/datastructures.html\n",
    "\n",
    "https://www.w3schools.com/python/python_ref_dictionary.asp"
   ]
  },
  {
   "cell_type": "code",
   "execution_count": 7,
   "metadata": {},
   "outputs": [
    {
     "name": "stdout",
     "output_type": "stream",
     "text": [
      "['A', 'N', 'N', 'A']\n",
      "['A', 'N', 'N', 'A']\n",
      "palindroms\n",
      "[687, 5, 12]\n",
      "[687, 5, 12]\n",
      "palindroms\n"
     ]
    }
   ],
   "source": [
    "# Uzdevums:\n",
    "# Uzrakstiet funkciju, kas pārbauda vai saraksts ir \"palindroms\" (lasās vienādi no abām pusēm). \n",
    "# Pozitīvā gadījumā jāizprintē viena ziņa, negatīvā gadījumā cita.\n",
    "# Jāizmanto list tipa iebūvētās funkcijas.\n",
    "sar = ['A','N','N','A']\n",
    "\n",
    "sar2 = [12, 5,687]\n",
    "\n",
    "import copy\n",
    "\n",
    "def check_palindrome(saraksts):\n",
    "#     copy_of_sar = copy.deepcopy(saraksts)\n",
    "    copy_of_sar = saraksts\n",
    "    saraksts.reverse()\n",
    "    if copy_of_sar == saraksts:\n",
    "        print(\"palindroms\")\n",
    "    else:\n",
    "        print(\"nav palindroms\")\n",
    "\n",
    "check_palindrome(sar)\n",
    "check_palindrome(sar2)"
   ]
  },
  {
   "cell_type": "code",
   "execution_count": 11,
   "metadata": {},
   "outputs": [
    {
     "name": "stdout",
     "output_type": "stream",
     "text": [
      "\n",
      " trying to find  9  in  [5, 7, 18, 96, [2, 3], 9, 98, 'vards', 4, 5] :\n",
      "5\n",
      "\n",
      " trying to find  5  in  [5, 7, 18, 96, [2, 3], 9, 98, 'vards', 4, 5] :\n",
      "0\n",
      "\n",
      " trying to find  9  in  [17, 9, 80] :\n",
      "1\n"
     ]
    }
   ],
   "source": [
    "# Uzdevums:\n",
    "# Izmantojot saraksta iebūvētās funkcijas, papildiniet doto funkciju tā, lai tā\n",
    "# izprintētu indeksu, kuram atbilst pirmā sarakstā sastopamā vērtība.\n",
    "# Ja \n",
    "\n",
    "# Testējama saraksta piemērs\n",
    "x = [5,7,18,96, [2,3],9, 98, \"vards\", 4, 5]\n",
    "\n",
    "def find(given_list, given_value):\n",
    "    # Try/except (citās valodās pazīstama kā try/catch struktūra) \n",
    "    # atļauj noķert potenciāli paredzamu kļūdu, lai tā neapturētu koda darbību.\n",
    "    try:\n",
    "        # Uzdevuma loģika iet šeit:\n",
    "        print(\"\\n trying to find \", given_value,\" in \",given_list,\":\")\n",
    "        res = given_list.index(given_value)\n",
    "        print(res)\n",
    "        \n",
    "    except ValueError:\n",
    "        print(\"List did not contain the vaue\")\n",
    "        \n",
    "find(x, 9) # Jāizprintē 5\n",
    "find(x, 5) # Jāizprintē 0\n",
    "find([17, 9, 80], 9) # jāizprintē 1\n",
    "# Visiem šiem būtu jāizprintē pozitīvi rezultāti t.i. indeksi"
   ]
  },
  {
   "cell_type": "code",
   "execution_count": 10,
   "metadata": {},
   "outputs": [
    {
     "name": "stdout",
     "output_type": "stream",
     "text": [
      "1\n",
      "2\n",
      "3\n",
      "2\n",
      "1\n",
      "4\n",
      "3\n",
      "4\n",
      "1\n"
     ]
    }
   ],
   "source": [
    "# Uzrakstiet kodu, kurš pārbauda vai kāda 3x3 matrica ir simetriska t.i.\n",
    "# jebkuram a un b izpildās kritērijs  m[a][b] == m[b][a]\n",
    "# matrica ir vienkārši 2-d skaitļu masīvs jeb tabula. Implementēt to var arī ar sarakstiem\n",
    "\n",
    "# Simetriskas matricas piemērs:\n",
    "m = [[1,2,3],[2,1,4],[3,4,1]]\n",
    "# for row in m:\n",
    "#     print(row)\n",
    "    \n",
    "# Kods iet šeit:\n",
    "\n",
    "karogs = True\n",
    "\n",
    "for a in range(0,3):\n",
    "    for b in range(0,3):\n",
    "        if m[a][b] != m[b][a]:\n",
    "            karogs = False\n",
    "\n",
    "if karogs:\n",
    "    print(\"Simetriska\")\n",
    "else:\n",
    "    print(\"Nav simetriska\")\n",
    "        \n",
    "\n"
   ]
  },
  {
   "cell_type": "code",
   "execution_count": 12,
   "metadata": {},
   "outputs": [],
   "source": [
    "# Uzdevums:\n",
    "# 1. Izveidojiet vārdnīcu v1 par atslēgām izmantojot visus 4 primitīvos tipus\n",
    "# 2. Izveidojiet vārdnīcu v2 ar 3 līmeņiem ar vismaz 2 atslēgām katrā līmenī\n",
    "\n",
    "dct = {'Universitates':{'RSU':{'Komunikaciju':2000, 'Medicinas': 3700}, 'RTU':{}}, 'Augstskolas':{'RPIVA':{'A':17, 'B':21}, 'Turiba':{'C':15, 'D': 48}}}\n"
   ]
  },
  {
   "cell_type": "code",
   "execution_count": 17,
   "metadata": {},
   "outputs": [
    {
     "name": "stdout",
     "output_type": "stream",
     "text": [
      "[1, 2, 6, 8, 14, 20, 28, 48]\n",
      "[1, 2, 6, 8, 14, 20, 28, 48]\n"
     ]
    }
   ],
   "source": [
    "# Uzdevums:\n",
    "# Uzrakstiet kodu, kurš sakārto visus dota veselu skaitļu saraksta elementus, atverot arī sarakstā ievietotus sarakstus.\n",
    "# Izprintējiet sakārtoto sarakstu\n",
    "# !!! Pieņemiet, ka sakārtojamā sarakstā iekšā esošajā sarakstā nav citu sarakstu.\n",
    "# Advancēti: Implementējiet šo funkciju tā, lai tiktu atvērti saraksti, kas atrodas sarakstos patvaļīgā dziļumā.\n",
    "\n",
    "# Ja uzdots saraksts:\n",
    "piemers = [2,6,8,[14, 48, 1], 28,20]\n",
    "# ,tad sakārtotam sarakstam būtu jābūt [1,2,6,8,14,20,28,48]. \n",
    "\n",
    "\n",
    "x = []\n",
    "for element in piemers:\n",
    "    if type(element) == int:\n",
    "        x.append(element)\n",
    "    if type(element) == list:\n",
    "        for subelement in element:\n",
    "            x.append(subelement)\n",
    "\n",
    "# print(piemers)\n",
    "x.sort()\n",
    "print(x)\n",
    "    \n",
    "z = []\n",
    "def f(something):\n",
    "    if type(something) == list:\n",
    "        for element in something:\n",
    "            f(element)\n",
    "    if type(something) == int:\n",
    "        z.append(something)\n",
    "\n",
    "f(piemers)\n",
    "z.sort()\n",
    "print(z)"
   ]
  },
  {
   "cell_type": "code",
   "execution_count": null,
   "metadata": {},
   "outputs": [],
   "source": []
  },
  {
   "cell_type": "code",
   "execution_count": 20,
   "metadata": {},
   "outputs": [
    {
     "name": "stdout",
     "output_type": "stream",
     "text": [
      "\n",
      " <class 'list'>\n"
     ]
    }
   ],
   "source": [
    "\n",
    "# https://www.w3schools.com/python/python_ref_dictionary.asp\n",
    "\n",
    "# Uzdevums:\n",
    "# Atrodiet un izprintējiet visas atslēgas dotās vārdnīcas augšējajā līmenī, \n",
    "# izmantojot iebūvētās vārdnīcas funkcijas\n",
    "\n",
    "d = {'a': {'b':1, 'c':2},'d':3,'e':{'f':5, 'g': 6}, 'h':{'a':7, 'i':8}}\n",
    "\n",
    "type(d.keys())\n",
    "l = list(d.keys())\n",
    "\n",
    "print(\"\\n\", type(l))\n",
    "\n"
   ]
  },
  {
   "cell_type": "code",
   "execution_count": null,
   "metadata": {},
   "outputs": [],
   "source": [
    "# Uzdevums:\n",
    "# Atrodiet un izprintējiet visas atslēgas dotajā vārdnīcā. "
   ]
  },
  {
   "cell_type": "code",
   "execution_count": null,
   "metadata": {},
   "outputs": [],
   "source": [
    "\n",
    "\n",
    "# Advancēti: \n",
    "# Atrodiet vai ir kādas atslēgas, kas dotajā vārdnīcā atkārtojās. \n",
    "# Ja ir, tad izprintējiet tikai tās. Pretējā gadījumā jāizprintē visas atslēgas."
   ]
  },
  {
   "cell_type": "code",
   "execution_count": 24,
   "metadata": {},
   "outputs": [],
   "source": [
    "d1 = {1:'a', 3:'b'}"
   ]
  },
  {
   "cell_type": "code",
   "execution_count": 25,
   "metadata": {},
   "outputs": [],
   "source": [
    "d2 = {4: 'd', 5: {6:'f', 7:'g'}}"
   ]
  },
  {
   "cell_type": "code",
   "execution_count": 27,
   "metadata": {},
   "outputs": [],
   "source": [
    "res = {1:'a', 3:'b', 4: 'd', 5: {6:'f', 7:'g'}}"
   ]
  },
  {
   "cell_type": "code",
   "execution_count": null,
   "metadata": {},
   "outputs": [],
   "source": []
  }
 ],
 "metadata": {
  "kernelspec": {
   "display_name": "Python 3",
   "language": "python",
   "name": "python3"
  },
  "language_info": {
   "codemirror_mode": {
    "name": "ipython",
    "version": 3
   },
   "file_extension": ".py",
   "mimetype": "text/x-python",
   "name": "python",
   "nbconvert_exporter": "python",
   "pygments_lexer": "ipython3",
   "version": "3.8.3"
  }
 },
 "nbformat": 4,
 "nbformat_minor": 2
}
