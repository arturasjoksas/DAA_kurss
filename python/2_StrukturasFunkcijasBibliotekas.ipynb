{
 "cells": [
  {
   "cell_type": "markdown",
   "metadata": {},
   "source": [
    "# Operācijas ar tipu īpašībām, vienkāršākās datu struktūras\n",
    "\n",
    "**Visiem Python datu tipiem ir savas atļautās darbības un iebūvētās funkcijas.**  "
   ]
  },
  {
   "cell_type": "code",
   "execution_count": 1,
   "metadata": {},
   "outputs": [],
   "source": [
    "# Uzdevums: Izpildiet šo šūnu\n",
    "a = 70\n",
    "b = 7.2\n",
    "c = \"Septiņi\"\n",
    "d = (7 == 7)"
   ]
  },
  {
   "cell_type": "code",
   "execution_count": 3,
   "metadata": {},
   "outputs": [],
   "source": [
    "# Uzdevums:\n",
    "# Aiz mainīgā nosaukuma bez atstarpes ielieciet punktu un nospiediet Tab taustiņu."
   ]
  },
  {
   "cell_type": "code",
   "execution_count": null,
   "metadata": {},
   "outputs": [],
   "source": []
  },
  {
   "cell_type": "code",
   "execution_count": null,
   "metadata": {},
   "outputs": [],
   "source": [
    "# Uzdevums:\n",
    "# Izpētiet atšķirīgās tipu īpašības tipiem ar kuriem mēs esam strādājuši (float, int, str). \n",
    "# Atrodiet, ko dara viena no šīm īpašībām katram tipam (tās var būt arī funkcijas)\n",
    "\n"
   ]
  },
  {
   "cell_type": "markdown",
   "metadata": {},
   "source": [
    "## list datu struktūra"
   ]
  },
  {
   "cell_type": "code",
   "execution_count": null,
   "metadata": {},
   "outputs": [],
   "source": [
    "# Šī ir tukša saraksta definīcija\n",
    "lst = []\n",
    "\n",
    "# Sarakstu var definēt arī uzreiz tajā kaut ko ieliekot\n",
    "lst2 = [1,2,3,5,20]\n",
    "\n",
    "# print(lst)\n",
    "print(lst2)\n",
    "print(type(lst2))"
   ]
  },
  {
   "cell_type": "code",
   "execution_count": null,
   "metadata": {},
   "outputs": [],
   "source": [
    "lst = [4,7,9,20,'a']\n",
    "\n",
    "elements = lst[]\n",
    "print(elements)\n",
    "\n",
    "if (9658 in lst):\n",
    "    print(\"elements tur ir!\")\n",
    "else:\n",
    "    print(\"tests neizgaja\")"
   ]
  },
  {
   "cell_type": "code",
   "execution_count": null,
   "metadata": {},
   "outputs": [],
   "source": [
    "lst = []"
   ]
  },
  {
   "cell_type": "code",
   "execution_count": null,
   "metadata": {},
   "outputs": [],
   "source": [
    "# Sarakstiem ir append() funkcija, kas pievieno sarakstam galā jebko, kas .append() funkcijai padots kā arguments.\n",
    "lst.append(4)\n",
    "lst.append(12)\n",
    "lst.append(90)\n",
    "print(lst)"
   ]
  },
  {
   "cell_type": "code",
   "execution_count": null,
   "metadata": {},
   "outputs": [],
   "source": [
    "# Arī citus tipus\n",
    "lst.append(\"s\")\n",
    "lst.append(\"string\")\n",
    "print(lst)"
   ]
  },
  {
   "cell_type": "code",
   "execution_count": null,
   "metadata": {},
   "outputs": [],
   "source": [
    "lst2"
   ]
  },
  {
   "cell_type": "code",
   "execution_count": null,
   "metadata": {},
   "outputs": [],
   "source": [
    "# Arī citus sarakstus\n",
    "# lst.append(lst2)\n",
    "print(lst)"
   ]
  },
  {
   "cell_type": "code",
   "execution_count": null,
   "metadata": {},
   "outputs": [],
   "source": [
    "lst[8][0] = 515"
   ]
  },
  {
   "cell_type": "code",
   "execution_count": null,
   "metadata": {},
   "outputs": [],
   "source": [
    "lst"
   ]
  },
  {
   "cell_type": "code",
   "execution_count": null,
   "metadata": {},
   "outputs": [],
   "source": [
    "# Un saraksta elementiem var piekļūt izmantojot indeksu (sākot no nulles)\n",
    "\n",
    "# Uzdevums: ko izprintēs\n",
    "\n",
    "# print(lst[1])\n",
    "\n",
    "# print(lst[3])\n",
    "\n",
    "# print(lst[5][1])\n",
    "\n",
    "# print(lst[-1])"
   ]
  },
  {
   "cell_type": "code",
   "execution_count": null,
   "metadata": {},
   "outputs": [],
   "source": [
    "lst.append(lst)"
   ]
  },
  {
   "cell_type": "code",
   "execution_count": null,
   "metadata": {},
   "outputs": [],
   "source": []
  },
  {
   "cell_type": "code",
   "execution_count": null,
   "metadata": {},
   "outputs": [],
   "source": []
  },
  {
   "cell_type": "markdown",
   "metadata": {},
   "source": [
    "## dictionary datu struktūra"
   ]
  },
  {
   "cell_type": "code",
   "execution_count": null,
   "metadata": {},
   "outputs": [],
   "source": [
    "# Šī ir dictionary datu struktūra, īsāk, dict.\n",
    "dct = {}\n",
    "\n",
    "# Tāpat kā list, to var izveidot tukšu vai arī izveidot ar kaut ko tajā iekšā.\n",
    "dct2 = {'vards_viens':'sveiki', 'vards_divi': 'jaunie', 'vards_tris':'programmetaji'}\n",
    "\n",
    "print(type(dct), dct)\n",
    "print(type(dct2),dct2)\n",
    "\n",
    "# dictionary datu struktūra glabā datus pēc atslēgvārda - vērtības modeļa.\n",
    "\n",
    "# list struktūra izmantoja elementu pievienošanas secību, \n",
    "# katram nākamajam elementam piešķirot indeksa vērtību, kas ir par 1 lielāka, nekā iepriekšējam elementam\n",
    "\n",
    "# dict struktūra indeksa vietā izmanto atslēgvārdu vai atslēgvērtību veidojot atslēg-vērtību pārus (key value pairs)\n",
    "# Kā 'atslēgas' drīkst izmantot jebkuru no primitīvajiem tipiem (int, float, string)\n",
    "\n",
    "\n",
    "print(\"\\nvards_viens saturs: \")\n",
    "print(dct2['vards_viens'])\n",
    "\n",
    "print(\"\\nvards_divi saturs: \")\n",
    "print(dct2['vards_divi'])\n",
    "\n",
    "# Uzdevums: Ko izprintēs sekojošā koda rindiņa?:\n",
    "# print(dct[0])"
   ]
  },
  {
   "cell_type": "code",
   "execution_count": null,
   "metadata": {},
   "outputs": [],
   "source": [
    "# Tāpat kā list struktūrai, dictionary struktūrai var pievienot jebkādu vērtību.\n",
    "\n",
    "# Tā vietā lai lietotu .append() operāciju, jādara sekojoši. Līdzīgi kā piešķirot mainīgajam vērtību:\n",
    "dct2['viens_vards'] = 'viens'\n",
    "dct2['viens_skaitlis'] = 1\n",
    "print(dct2)\n"
   ]
  },
  {
   "cell_type": "code",
   "execution_count": null,
   "metadata": {},
   "outputs": [],
   "source": [
    "# Tāpat kā sarakstam var pievienot sarakstus, arī vārdnīcai var pievienot vārdnīcu\n",
    "\n",
    "dct['vertiba'] = 17\n",
    "dct['cita_vertiba'] = 34\n",
    "print(\"dct saturs: \",dct)\n",
    "\n",
    "# Pievieno vārdnīcu dct vārdnīcai dct2\n",
    "dct2['vardnica'] = dct\n",
    "print(dct2)"
   ]
  },
  {
   "cell_type": "code",
   "execution_count": null,
   "metadata": {},
   "outputs": [],
   "source": [
    "dct2[1] = 'abc'"
   ]
  },
  {
   "cell_type": "code",
   "execution_count": null,
   "metadata": {},
   "outputs": [],
   "source": [
    "dct2"
   ]
  },
  {
   "cell_type": "code",
   "execution_count": null,
   "metadata": {},
   "outputs": [],
   "source": [
    "# Uzdevums: paredziet un pa vienai parbaudiet, ko izprintēs sekojošās rindiņas\n",
    "\n",
    "# dct2[3] = 3\n",
    "\n",
    "# dct2[{'datu': 'key'}] = 'key'\n",
    "\n",
    "# dct2[1]\n",
    "\n",
    "# dct2['programmetaji']\n",
    "\n",
    "# dct2['3']\n",
    "\n",
    "# dct2['vardnica']\n",
    "\n",
    "# dct2['vardnica']"
   ]
  },
  {
   "cell_type": "code",
   "execution_count": null,
   "metadata": {},
   "outputs": [],
   "source": [
    "# Tāpat kā sarakstam, vārdnīcai var pievienot pašai sevi\n",
    "dct2['self'] = dct2"
   ]
  },
  {
   "cell_type": "code",
   "execution_count": null,
   "metadata": {},
   "outputs": [],
   "source": []
  },
  {
   "cell_type": "code",
   "execution_count": null,
   "metadata": {},
   "outputs": [],
   "source": [
    "# Atgriežoties pie Būla loģikas, Var salīdzināt arī datu struktūras\n",
    "\n",
    "print(\"tuksa vardnica ir vienada ir tuksu vardnicu: \", {} == {})\n",
    "dct_1 = {'vards':'viens'}\n",
    "dct_2 = {'otrs': 'vards'}\n",
    "print(\"\\n\")\n",
    "\n",
    "# Uzrakstīt salīdzinājumus un iztestēt tos: \n",
    "print(\"Uzdevums: vai vardnica dct_1 ir mazaka? lielaka? vienada ar vardnicu dct_2?\")"
   ]
  },
  {
   "cell_type": "code",
   "execution_count": null,
   "metadata": {},
   "outputs": [],
   "source": []
  },
  {
   "cell_type": "markdown",
   "metadata": {},
   "source": [
    "# Funkcijas\n",
    "\n",
    "Mūsu daudz lietotais `print()` ir funkcija. Arī `type()` ir funkcija. Funkcija ir jebkurš darbību kopums, kas izpildās, kad funkcija tiek izsaukta. Funkcijām var būt 0 vai vairāki argumenti. Funkcijas visvienkāršāk ir pamanīt pēc iekavu lietojuma.    \n",
    "\n",
    "Funkcijas ļoti bieži definē arī pats programmētājs, lai tajās ieliktu kodu, kuru vajadzēs izpildīt atkārtoti. Tāpēc tā vietā, lai pārrakstītu to pašu kodu vairākas reizes, to var definētu vienu reizi - funkcijā.  \n",
    "Funkcijas definīcijas vispārīgā sintakse ir sekojoša:\n",
    "\n",
    "``\n",
    "def funkcijas_nosaukums(arguments_1, arguments_2):    \n",
    "    <reāli jebkas, galvenais, lai strādā pareizi un vēlams vispārīgi un jebkuram valīdam argumentam>\n",
    "    return funkcijas_iznakums    \n",
    "``\n",
    "\n",
    "* Funkcijas definīcija vienmēr sākas ar īpašo komandu **'def'** pēc kuras ar atstarpi norāda to, kā funkcija sauksies.\n",
    "* Funkcijas argumenti tiek norādīti iekavās, bez atstarpes sekojot funkcijas nosaukumam. Iekavas var atstāt arī tukšas, ja funkcijas veicamās darbības nebūs atkarīgas no funkcijai padodamajiem argumentiem. \n",
    "* Pēc iekavām vienmēr ir jābūt kolam\n",
    "* Nākamajai rindiņai (funkcijas 'body') pēc pirmās rindiņas vienmēr jābūt četras atstarpes (vai vienu Tab) uz labo pusi relatīvi pret rindiņu, kurā ir **def**.\n",
    "* **return** ir vēl viena īpašā komanda, kura ir nepieciešama, ja funkcijas rezultātu vajadzēs ievietot mainīgajā, bet vispārīgā gadījumā nav obligāta.\n",
    "* **!!** Funkcijas definēšana neizpilda funkcijas kodu. Tā ir jāizsauc atsevišķi"
   ]
  },
  {
   "cell_type": "markdown",
   "metadata": {},
   "source": [
    "## Funkciju definīciju  piemēri"
   ]
  },
  {
   "cell_type": "code",
   "execution_count": null,
   "metadata": {},
   "outputs": [],
   "source": [
    "def square(arg):\n",
    "    \"\"\" Returns the square of the argument \"\"\"\n",
    "    return arg * arg"
   ]
  },
  {
   "cell_type": "code",
   "execution_count": null,
   "metadata": {},
   "outputs": [],
   "source": [
    "a = square(4)\n",
    "print(a, type(a))"
   ]
  },
  {
   "cell_type": "code",
   "execution_count": null,
   "metadata": {},
   "outputs": [],
   "source": [
    "# Ja funkcijai ir return statements, tad ieliekot funkcijas rezultatu mainigaja, ta tips bus patvaligs. \n",
    "# Ja funkcijai nav return, tad funkcija vienmer atgriezis None tipu\n",
    "a = print(4)\n",
    "print(a, type(a))"
   ]
  },
  {
   "cell_type": "code",
   "execution_count": null,
   "metadata": {},
   "outputs": [],
   "source": [
    "def dalisana(arg1, arg2):\n",
    "    \"\"\"\n",
    "    Funkcija parbauda vai otrais arguments nav vienads ar nulli un tad veic dalisanas operaciju.\n",
    "    Ja otrais arguments ir vienads ar nulli, tad atgriez nulles vertibu un izprinte pazinojumu\n",
    "    \"\"\"\n",
    "    # Vienkāršākā gadījumu pārbaude ir izdarāma ar if / else funkcijām. \n",
    "    if arg2 == 0:\n",
    "        print(\"Kludaina ievade! arg2 vienads ar nulli\")\n",
    "        return 0\n",
    "    else:\n",
    "        return arg1/arg2"
   ]
  },
  {
   "cell_type": "markdown",
   "metadata": {},
   "source": [
    "## Python valodā ir daudz iebūvēto funkciju"
   ]
  },
  {
   "cell_type": "code",
   "execution_count": null,
   "metadata": {},
   "outputs": [],
   "source": [
    "# str(), int(), list(), float(), len(), print(), type(), min(), max(), sorted()"
   ]
  },
  {
   "cell_type": "code",
   "execution_count": null,
   "metadata": {},
   "outputs": [],
   "source": [
    "saraksts = []\n",
    "\n",
    "def vai_ir_redzets(arguments):\n",
    "    \"\"\"\n",
    "    Pienemsim, ka velamies uzturet sarakstu ar skaitliem un negribam, lai taja butu kopijas.\n",
    "    \"\"\"\n",
    "    if arguments in saraksts:\n",
    "        print(\"Jau redzēts\")\n",
    "    else:\n",
    "        print(\"Redzu pirmo reizi\")\n",
    "        saraksts.append(arguments)\n",
    "\n",
    "def paradit_un_notirit_sarakstu(redzeto_argumentu_saraksts):\n",
    "    print(redzeto_argumentu_saraksts)\n",
    "#     redzeto_argumentu_saraksts = []  #Vai šis strādās?\n",
    "    saraksts = [] # Un šis?\n"
   ]
  },
  {
   "cell_type": "code",
   "execution_count": null,
   "metadata": {},
   "outputs": [],
   "source": [
    "# Funkcijas redz ārpus sevis un var paņemt jebkura ārpus funkcijas eksistējošā argumenta vērtību, \n",
    "# bet ārpuses argumentus funkcijas nevar pārrakstīt\n",
    "saraksts = []"
   ]
  },
  {
   "cell_type": "code",
   "execution_count": null,
   "metadata": {},
   "outputs": [],
   "source": [
    "vai_ir_redzets(30)"
   ]
  },
  {
   "cell_type": "code",
   "execution_count": null,
   "metadata": {},
   "outputs": [],
   "source": [
    "paradit_un_notirit_sarakstu(saraksts)\n",
    "# print(saraksts)"
   ]
  },
  {
   "cell_type": "markdown",
   "metadata": {},
   "source": [
    "# Bibliotēku importēšana un lietošana\n",
    "Praktiski strādājot ar Python valodu, lielākā daļa koda, kas tiek izpildīta, ir paslēpta bibliotēkās.\n",
    "\n",
    "Bibliotēkas funkcionalitātēm var piekļūt, tās importējot.\n",
    "\n",
    "Tāpat kā ar datu struktūrām, ja notebook šūnā ierakstat kādu mainīgo (vai jebkādo citu, kas jau ir uzdefinēts), pieliekat tam galā '.' simbolu un nospiežat Tab pogu, parādīsies saraksts ar izmantojamām darbībām"
   ]
  },
  {
   "cell_type": "code",
   "execution_count": null,
   "metadata": {},
   "outputs": [],
   "source": [
    "# Populāru Python bibliotēku importēšanas komandu piemēri\n",
    "\n",
    "# Šīs (un vēl daudz citas) bibliotēkas nāk līdzi Python instalācijām pēc noklusējuma\n",
    "import os # Paredzēta failu sistēmas darbībām (failu pārvietošana, dzēšana, ielasīšana u.t.t)\n",
    "import json # Paredzēta darbam ar .json failiem.\n",
    "\n",
    "\n",
    "\n",
    "# Citu, populāru (tipiski nenāk līdzi pēc noklusējuma) Python bibliotēku import piemēri.\n",
    "import pandas as pd\n",
    "import numpy as np\n",
    "# 'as pd' un 'as np' pievieno bibliotēkas funkcionalitātes mainīgajiem. Attiecīgi pd un np\n",
    "\n",
    "# Punkts starp matplotlib un pyplot apzīmē to, ka mēs importējam specifisku matplotlib moduli ar nosaukumu pyplot\n",
    "import matplotlib.pyplot as plt\n",
    "\n",
    "# Šeit no Python machine learning bibliotēkas 'sklearn' tiek importēts modulis 'linear_model' un\n",
    "# no tā, savukārt, tiek importēts konkrēts apakšmodulis, kurš paredzēts lineārās regresijas modeļiem.\n",
    "from sklearn.linear_model import LinearRegression"
   ]
  },
  {
   "cell_type": "raw",
   "metadata": {},
   "source": []
  },
  {
   "cell_type": "markdown",
   "metadata": {},
   "source": [
    "Ne visas pieejamās bibliotēkas ir instalētas pēc noklusējuma, bet ir instalējamas ar rīku **pip** tāpat kā Linux pakotnes tiek instalētas ar **apt**\n",
    "Piemērs pip instalācijai un lietojumam:\n",
    "\n",
    "sudo apt install pip  \n",
    "pip install mglearn"
   ]
  },
  {
   "cell_type": "code",
   "execution_count": null,
   "metadata": {},
   "outputs": [],
   "source": [
    "# Bibliotēkas lieto, atsaucoties uz kādu no bibliotēku moduļiem vai apakšmoduļiem un tajos esošajām funkcijām\n",
    "\n",
    "# Uzdevums: \n",
    "# 1.!! Pārtraukt jupyter-notebook darbību !!\n",
    "# 2. Izmantojot conda prompt, instalēt bibliotēku mglearn\n",
    "# 3. Vēlreiz iedarbināt jupyter-notebook un izpildīt sekojošās komandas un tad :\n",
    "\n",
    "\n",
    "import mglearn.datasets as dsets #Importē apakšmoduli un saglabā tā funkcijas mainīgajā dsets\n",
    "from mglearn import discrete_scatter #Importē apakšmoduli\n",
    "\n",
    "# dsets modulī atrodas FUNKCIJA make_forge, kas uzģenerē x un y vērtības ar patvaļīgiem datiem\n",
    "X, y = dsets.make_forge()\n",
    "discrete_scatter(X[:, 0], X[:, 1], y)\n",
    "plt.xlabel(\"First feature\")\n",
    "plt.ylabel(\"Second feature\")"
   ]
  }
 ],
 "metadata": {
  "kernelspec": {
   "display_name": "Python 3",
   "language": "python",
   "name": "python3"
  },
  "language_info": {
   "codemirror_mode": {
    "name": "ipython",
    "version": 3
   },
   "file_extension": ".py",
   "mimetype": "text/x-python",
   "name": "python",
   "nbconvert_exporter": "python",
   "pygments_lexer": "ipython3",
   "version": "3.7.5"
  }
 },
 "nbformat": 4,
 "nbformat_minor": 4
}
