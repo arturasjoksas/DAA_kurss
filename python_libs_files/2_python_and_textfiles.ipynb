{
 "cells": [
  {
   "cell_type": "code",
   "execution_count": null,
   "metadata": {},
   "outputs": [],
   "source": [
    "import os # os bibliotēka paredzēt darbībai ar failu sistēmu. Failu/direktoriju izveide/dzēšana/atrašana"
   ]
  },
  {
   "cell_type": "code",
   "execution_count": 22,
   "metadata": {},
   "outputs": [],
   "source": [
    "import pandas as pd\n",
    "import pprint\n",
    "ppr = pprint.PrettyPrinter(indent=1)\n",
    "pp = ppr.pprint ## Funkciju arī var ielikt mainīgajā un tad izmantot mainīgo un iekavas, lai to izsauktu."
   ]
  },
  {
   "cell_type": "markdown",
   "metadata": {},
   "source": [
    "# Failu lasīšana\n",
    "* Datus ir ērti glabāt teksta failos un teksta failos var saglabāt gandrīz jebko\n",
    "* Teksta failos parasti glabā datus, kuri nav saistīti ar citām datu kopām.   \n",
    "Ja ir vairākas datu kopas (vairākas tabulas piem. e-veikala preču katalogs, klientu saraksts un preču pārdošanas vēsture ir 3 atsevišķas, bet saistītas kopas), tad teksta faili nav ērtākais veids kā šo informāciju glabāt. Būtu jāizmanto datubāze\n",
    "* Teksta failus var ielasīt Python iebūvētajās datu struktūrās vai arī bibliotēku datu struktūrās\n",
    "* Lai atsauktos uz failiem (konkrēti strādāsim ar teksta failiem), tiek izmantota os bibliotēka  \n",
    "Tāpat kā norādījām failu atrašanāš vietas ar shell, Python atbalsta gan failu relatīvos, gan absolūtos ceļus."
   ]
  },
  {
   "cell_type": "code",
   "execution_count": 25,
   "metadata": {},
   "outputs": [],
   "source": [
    "# Teksta faila ielasīšanas piemērs ar relatīvo ceļu:\n",
    "with open('parauga_fails.csv') as faila_objekts: #Šajā rindiņā atveram failu un reprezentājam to kā faila_objekts\n",
    "    res = faila_objekts.read() # Šī rindiņa pārveido visu teksta failu par vienu teksta pavedienu"
   ]
  },
  {
   "cell_type": "code",
   "execution_count": 26,
   "metadata": {},
   "outputs": [
    {
     "data": {
      "text/plain": [
       "\"vards, kartas_ska'itlis\\nJanis, 1\\nAija, 2\\nArturs, 3\\nPeteris, 4\\nAlina, 5\""
      ]
     },
     "execution_count": 26,
     "metadata": {},
     "output_type": "execute_result"
    }
   ],
   "source": [
    "res"
   ]
  },
  {
   "cell_type": "markdown",
   "metadata": {},
   "source": [
    "# Failu rakstīšana\n",
    "* Analogi atvēršanas piemēram, fails ir jāatver un faila objekts jāpiešķir mainīgajam ar kuru tālāk tad var darboties\n"
   ]
  },
  {
   "cell_type": "code",
   "execution_count": null,
   "metadata": {},
   "outputs": [],
   "source": [
    "rindinas = [\"pirma rindina \", \"otra rindina \", \"tresa rindina \"]\n",
    "\n",
    "with open('gen_cits_fails','w') as rakstama_faila_objekts:\n",
    "    for rindina in rindinas:\n",
    "        rakstama_faila_objekts.write(rindina)"
   ]
  },
  {
   "cell_type": "markdown",
   "metadata": {},
   "source": [
    "# CSV faili\n",
    "* CSV ir saīsinājums no Comma Seperated Values  \n",
    "CSV faila piemērs:"
   ]
  },
  {
   "cell_type": "code",
   "execution_count": null,
   "metadata": {},
   "outputs": [],
   "source": [
    "vards, kartas_skaitlis\n",
    "Janis, 1\n",
    "Aija, 2\n",
    "Arturs, 3\n",
    "Peteris, 4\n",
    "Alina, 5"
   ]
  },
  {
   "cell_type": "markdown",
   "metadata": {},
   "source": [
    "* CSV failiem ir divu veidu atdalītāji. Kolonnu atdalītājs (parasti komats) un rindiņu atdalītājs (gandrīz vienmēr jauna rindiņa jeb '\\n')\n",
    "* Kolonnu atdalītājam nav obligāti jābūt komatam. Tas varētu būt arī Tab (tad tas būtu ar indentācijām atdalīts fails jeb TSV), kas ir tas pats CSV, tikai ar citu simbolu komata vietā  \n",
    "* csv failos glabā tabulārus datus"
   ]
  },
  {
   "cell_type": "code",
   "execution_count": null,
   "metadata": {},
   "outputs": [],
   "source": [
    "import csv # Darbam ar CSV failiem. Lieto, lai iterētu cauri csv rindiņām.\n",
    "\n",
    "# CSV faila ielasīšanas paraugs ar iterēšanu cauri faila rindiņām\n",
    "with open('parauga_fails.csv', newline='') as csvfile:\n",
    "    csv_lasitaja_objekts = csv.reader(csvfile, delimiter=',', quotechar='\\'')\n",
    "    for row in csv_lasitaja_objekts:\n",
    "        print(row)"
   ]
  },
  {
   "cell_type": "code",
   "execution_count": null,
   "metadata": {},
   "outputs": [],
   "source": [
    "# CSV faila rakstīšanas paraugs ar iterēšanu cauri rindiņām\n",
    "csv_rindinas = [\n",
    "    [\"nosaukums\", \"kartas skaitlis\"],\n",
    "    [\"A\",\"1\"],\n",
    "    [\"b\", \"2\"]\n",
    "]\n",
    "\n",
    "with open('rakstams_csv_fails.csv', 'w+', newline='') as csvfile:\n",
    "    csv_rakstitaja_objekts = csv.writer(csvfile, delimiter=',',quotechar='\\'')\n",
    "    for rindina in csv_rindinas:\n",
    "        csv_rakstitaja_objekts.writerow(rindina)"
   ]
  },
  {
   "cell_type": "markdown",
   "metadata": {},
   "source": [
    "# JSON faili\n",
    "* JSON faili (saīsinājums no JavaScript Object Notation) ir hierarhiski teksta faili, glabā struktūru, kura ir praktiski ekvivalenta Python dictionary datu stuktūrai teksta pavediena formātā.  \n",
    "* `json.loads()` kā argumentu ņem teksta pavedienu un atgriež vārdnīcu  \n",
    "* `json.dumps()` kā argumentu ņem vārdnīcu pavedienu un atgriež teksta pavedienu\n",
    "\n",
    "\n",
    "\n"
   ]
  },
  {
   "cell_type": "code",
   "execution_count": null,
   "metadata": {},
   "outputs": [],
   "source": [
    "import json # Darbam ar JSON pavedieniem. Var lietot, lai transformētu JSON pavedienu uz dictionary tipu un otrādi\n",
    "\n",
    "#JSON faila ielasīšana\n",
    "with open('lasams_json_piemers.json') as fails:\n",
    "    json_pavediens = fails.read()\n",
    "    # lai ielādētu teksta pavedienu vārdnīcā izmanto json bilibliotēkas .loads() funkciju\n",
    "# print(json_pavediens)\n",
    "    json_vardnica = json.loads(json_pavediens)"
   ]
  },
  {
   "cell_type": "code",
   "execution_count": null,
   "metadata": {},
   "outputs": [],
   "source": [
    "json_vardnica['menu']"
   ]
  },
  {
   "cell_type": "code",
   "execution_count": null,
   "metadata": {},
   "outputs": [],
   "source": [
    "json_vardnica['main_menu'] = json_vardnica['menu']\n",
    "del json_vardnica['menu']"
   ]
  },
  {
   "cell_type": "code",
   "execution_count": null,
   "metadata": {},
   "outputs": [],
   "source": [
    "jauns_json_pavediens = json.dumps(json_vardnica)\n",
    "print(jauns_json_pavediens)"
   ]
  },
  {
   "cell_type": "code",
   "execution_count": null,
   "metadata": {},
   "outputs": [],
   "source": [
    "#JSON faila ierakstīšana:\n",
    "with open('rakstams_json.json', 'w+') as rakstamais_json_fails:\n",
    "    rakstamais_json_fails.write(jauns_json_pavediens)"
   ]
  },
  {
   "cell_type": "code",
   "execution_count": null,
   "metadata": {},
   "outputs": [],
   "source": [
    "# Uzdevums:\n",
    "# Izveidot vārdnīcu, pārvērst to par teksta pavedienu un ierakstīt to failā testa_json.json\n",
    "\n",
    "import json\n",
    "d = {'a':1, 'b':2, 'c':{'d':4, 'e':567}}\n",
    "d_str = json.dumps(d)\n",
    "print(d)\n",
    "print(d_str)\n",
    "\n",
    "with open('testa_json.json', 'w') as test_json_file:\n",
    "    test_json_file.write(d_str)"
   ]
  },
  {
   "cell_type": "markdown",
   "metadata": {},
   "source": [
    "## XML faili\n",
    "* XML faili ( saīsinājums no Extensible Markup Language )arī glabā hierarhiskas struktūras, tāpat kā JSON faili, bet tie ir noformatēti savādāk.\n",
    "XML Faila piemērs:"
   ]
  },
  {
   "cell_type": "code",
   "execution_count": null,
   "metadata": {},
   "outputs": [],
   "source": [
    "<catalog>\n",
    "   <book id=\"bk101\">\n",
    "      <author>Gambardella, Matthew</author>\n",
    "      <title>XML Developer's Guide</title>\n",
    "      <genre>Computer</genre>\n",
    "      <price>44.95</price>\n",
    "      <publish_date>2000-10-01</publish_date>\n",
    "      <description>An in-depth look at creating applications \n",
    "      with XML.</description>\n",
    "   </book>\n",
    "   <book id=\"bk102\">\n",
    "      <author>Ralls, Kim</author>\n",
    "      <title>Midnight Rain</title>\n",
    "      <genre>Fantasy</genre>\n",
    "      <price>5.95</price>\n",
    "      <publish_date>2000-12-16</publish_date>\n",
    "      <description>A former architect battles corporate zombies, \n",
    "      an evil sorceress, and her own childhood to become queen \n",
    "      of the world.</description>\n",
    "   </book>\n",
    "</catalog>"
   ]
  },
  {
   "cell_type": "markdown",
   "metadata": {},
   "source": [
    "Tā vietā, lai izmantotu figūriekavas, tiek izmantoti tā saucamie xml tagi. Lauki tiek atzīmēti, tagus atverot un aizverot.  \n",
    "XML lielākoties vēl tiek lietots tāpēc, ka tas bija pirmais hierarhisku teksta datu pieraksts, ko izmantoja (un vēl aizvien izmanto) web lapas  \n",
    "JSON vs XML:\n",
    "* JSON ir mazāk verbozs (mazāk simbolu)\n",
    "* JSON Vieglāk lasāms\n",
    "* XML var iekodēt vairāk informācijas (tagu nosaukumu dēļ)  \n",
    "Kopsavilkums: Ja ir jāstrādā ar hierarhiskiem datiem, būtu jāizvēlās JSON, ja vien nav kādu tehnisku limitāciju, kas uzspiež XML lietošanu (piem. rezultātam būs jāparādās HTML dokumentā un tāpēc obligāti būs jābūt XML formātā, sistēma, kurai apstrādātie dati tiks padoti, operē tikai ar XML failiem)\n"
   ]
  },
  {
   "cell_type": "markdown",
   "metadata": {},
   "source": [
    "## Pāreja no XML uz JSON\n",
    "Bieži varētu būt ērti pāriet no XML faila uz JSON failu vai otrādi, un, par laimi, tas ir relatīvi viegli izdarāms"
   ]
  },
  {
   "cell_type": "code",
   "execution_count": 20,
   "metadata": {},
   "outputs": [
    {
     "name": "stdout",
     "output_type": "stream",
     "text": [
      "{'catalog': OrderedDict([('book', [OrderedDict([('@id', 'bk101'), ('author', 'Gambardella, Matthew'), ('title', \"XML Developer's Guide\"), ('genre', 'Computer'), ('price', '44.95'), ('publish_date', '2000-10-01'), ('description', 'An in-depth look at creating applications \\n      with XML.')]), OrderedDict([('@id', 'bk102'), ('author', 'Ralls, Kim'), ('title', 'Midnight Rain'), ('genre', 'Fantasy'), ('price', '5.95'), ('publish_date', '2000-12-16'), ('description', 'A former architect battles corporate zombies, \\n      an evil sorceress, and her own childhood to become queen \\n      of the world.')])])])}\n"
     ]
    }
   ],
   "source": [
    "XML_faila_pavediens = \"\"\"<catalog>\n",
    "   <book id=\"bk101\">\n",
    "      <author>Gambardella, Matthew</author>\n",
    "      <title>XML Developer's Guide</title>\n",
    "      <genre>Computer</genre>\n",
    "      <price>44.95</price>\n",
    "      <publish_date>2000-10-01</publish_date>\n",
    "      <description>An in-depth look at creating applications \n",
    "      with XML.</description>\n",
    "   </book>\n",
    "   <book id=\"bk102\">\n",
    "      <author>Ralls, Kim</author>\n",
    "      <title>Midnight Rain</title>\n",
    "      <genre>Fantasy</genre>\n",
    "      <price>5.95</price>\n",
    "      <publish_date>2000-12-16</publish_date>\n",
    "      <description>A former architect battles corporate zombies, \n",
    "      an evil sorceress, and her own childhood to become queen \n",
    "      of the world.</description>\n",
    "   </book>\n",
    "</catalog>\n",
    "\"\"\"\n",
    "\n",
    "import xmltodict\n",
    "xml_vardnica = dict(xmltodict.parse(XML_faila_pavediens))\n",
    "print(xml_vardnica)"
   ]
  },
  {
   "cell_type": "code",
   "execution_count": null,
   "metadata": {},
   "outputs": [],
   "source": [
    "pp(xml_vardnica)"
   ]
  },
  {
   "cell_type": "code",
   "execution_count": null,
   "metadata": {},
   "outputs": [],
   "source": [
    "xml_pavediens = json.dumps(xml_vardnica)\n",
    "with open('gen_json_from_xml.json', 'w+') as f:\n",
    "    f.write(xml_pavediens)"
   ]
  },
  {
   "cell_type": "code",
   "execution_count": null,
   "metadata": {},
   "outputs": [],
   "source": [
    "# Uzdevums:\n",
    "# Uzinstalējiet bibliotēku dicttoxml\n",
    "# Izveidojiet kādu vārdnīcu un izmantojot dicttoxml pārvērtiet to par XML failu ar nosaukumu gen_xml_from_dict\n",
    "\n",
    "d = {'a':1, 'b':2, 'c':{'d':4, 'e':567}}\n",
    "from dicttoxml import dicttoxml\n",
    "\n",
    "xml = dicttoxml(d)\n",
    "xml_str = xml.decode(\"utf-8\")\n",
    "\n",
    "with open('gen_xml_from_dict.xml', 'w+') as wf:\n",
    "    wf.write(xml_str)"
   ]
  },
  {
   "cell_type": "code",
   "execution_count": null,
   "metadata": {},
   "outputs": [],
   "source": []
  }
 ],
 "metadata": {
  "kernelspec": {
   "display_name": "Python 3",
   "language": "python",
   "name": "python3"
  },
  "language_info": {
   "codemirror_mode": {
    "name": "ipython",
    "version": 3
   },
   "file_extension": ".py",
   "mimetype": "text/x-python",
   "name": "python",
   "nbconvert_exporter": "python",
   "pygments_lexer": "ipython3",
   "version": "3.7.5"
  }
 },
 "nbformat": 4,
 "nbformat_minor": 2
}
