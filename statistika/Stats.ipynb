{
 "cells": [
  {
   "cell_type": "markdown",
   "metadata": {},
   "source": [
    "# Statistikas elementi  \n",
    "* Kas ir varbūtība?\n",
    "* Kas ir mediāna, moda, vidējā vērtība?\n",
    "* Histogramma, varbūtību sadalījums,\n",
    "* Gausa un binomiālie sadalījumi,\n",
    "* Dispersija, standartnovirze\n",
    "<!-- * Vēl par overfittingu   -->\n"
   ]
  },
  {
   "cell_type": "code",
   "execution_count": 4,
   "metadata": {},
   "outputs": [],
   "source": [
    "import numpy as np\n",
    "import pandas as pd\n",
    "\n",
    "\n",
    "from numpy.random import normal\n",
    "\n",
    "import matplotlib.pyplot as plt"
   ]
  },
  {
   "cell_type": "code",
   "execution_count": 53,
   "metadata": {},
   "outputs": [],
   "source": [
    "P,n,N,E, var, Cost, sigma, Sigma = symbols('P n N E var Cost σ Σ')"
   ]
  },
  {
   "cell_type": "markdown",
   "metadata": {},
   "source": [
    "## Kas ir varbūtība?  \n",
    "Varbūtība ir skaitlis intervālā no 0 līdz 1 (galapunktus ieskaitot), kas apraksta kāda notikuma iespēju notikt.  \n",
    "\n",
    "Kāda ir varbūtība uzmest monētu ar ciparu uz augšu?  \n",
    "\n",
    "Kāda ir varbūtība uzmest parastu metamo kauliņu uz 6?  \n",
    "\n",
    "Ja necaurspīdīgā maisā ir 3 melnas bumbiņas un 5 baltas, kāda ir varbūtība uz labu laimi izvilkt melnu? Kāda ir varbūtība izvilkt baltu?\n",
    "\n",
    "Ja no maisa izvelk vienu patvaļīgu bumbiņu, kā mainās varbūtība izvilkt melnu vai baltu?\n",
    "\n",
    "**Varbūtība ir izsakāma ar divu skaitļu dalījumu - vēlamo rezultātu skaits n dalīts ar visu iespējamo rezultātu skaitu N**"
   ]
  },
  {
   "cell_type": "code",
   "execution_count": 38,
   "metadata": {},
   "outputs": [
    {
     "data": {
      "text/latex": [
       "$\\displaystyle P = \\frac{n}{N}$"
      ],
      "text/plain": [
       "Eq(P, n/N)"
      ]
     },
     "execution_count": 38,
     "metadata": {},
     "output_type": "execute_result"
    }
   ],
   "source": [
    "Eq(P, n/N)"
   ]
  },
  {
   "cell_type": "markdown",
   "metadata": {},
   "source": [
    "Jautājums:  \n",
    "Suppose you're on a game show, and you're given the choice of three doors: Behind one door is a car; behind the others, goats. You pick a door, say No. 1, and the host, who knows what's behind the doors, opens another door, say No. 3, which has a goat. He then says to you, \"Do you want to pick door No. 2?\" Is it to your advantage to switch your choice?"
   ]
  },
  {
   "cell_type": "markdown",
   "metadata": {},
   "source": [
    "Jautājums:  \n",
    "Kāda ir iespēja ar parastu metamo kauliņu uzmest 3 četriniekus un vienu divnieku tieši šādā secībā?\n",
    "<!-- Vai secībai ir nozīme? -->"
   ]
  },
  {
   "cell_type": "markdown",
   "metadata": {},
   "source": [
    "Kāda ir iespēja uzstādīt labāko iespējamo cenu kādai precei interneta veikalā?"
   ]
  },
  {
   "cell_type": "markdown",
   "metadata": {},
   "source": [
    "Kāda ir iespēja, ka vidējais preces piegādes laiks ir patiesais?"
   ]
  },
  {
   "cell_type": "markdown",
   "metadata": {},
   "source": [
    "Kāda ir iespēja, ka vidējais preces piegādes ir laiks ar kuru klients var rēķināties"
   ]
  },
  {
   "cell_type": "markdown",
   "metadata": {},
   "source": [
    "Uz šiem visiem jautājumiem ir iespējams atbildēt, bet atbildēm ir nepieciešami dati, kas raksturo lietas kā pircēju paradumus, \n",
    "preces pašizmaksu, konkurentu uzstādītās cenas un sarakstu ar to, cik ilgu laiku ir aizņēmusi katra piegāde. Citiem vārdiem, dati.  \n",
    "Apskatīsim jēdzienus, kas apraksta šādus sarakstus.  \n",
    "\n",
    "Pirmkārt, **izlase** ir reprezentatīvs paraugs ar mērījumiem no kādas visu iespējamo mērījumu/datu kopas (sauktas arī par ģenerālkopu) par kuru mēs vēlamies iegūt patiesu un noderīgu informāciju.  \n",
    "\n",
    "**Ģenerālkopa** iekļauj arī mērījumu kombinācijas, kurus mēs varbūt vēl neesam redzējuši.\n",
    "\n",
    "Reprezentatīvas datu kopas definīcija variē no gadījuma uz gadījumu, bet ir pāris lietas, kurām būtu jāizpildās. \n",
    "* Izlasei jābūt pietiekoši lielai (Pēc iespējams 100% no pieejamajiem lietojamajiem datiem)\n",
    "* Izlasē būtu jāizpildās tām pašām sakarībām, kurām ģenerālkopā.  \n",
    "\n",
    "Piemēram datiem pa īpašībām būtu jābūt pareizās proporcijās. t.i. ja izlasē kāda īpašība/kolonna A pieņem vērtību 0 33% gadījumu un vērtību 1 66% gadījumu, tad šai jābūt uzvedībai, ko mēs patiesi sagaidītu no ģenerālkopas.  \n",
    "\n",
    "Tālāk šajā notebookā runāts ir tikai par izlasēm, kuras sastāv tikai no skaitliskiem datiem."
   ]
  },
  {
   "cell_type": "markdown",
   "metadata": {},
   "source": [
    "## Mediāna, moda, vidējā vērtība?  \n"
   ]
  },
  {
   "cell_type": "markdown",
   "metadata": {},
   "source": [
    "**Mediāna** ir kādas izlases viduspunkts.  "
   ]
  },
  {
   "cell_type": "code",
   "execution_count": 11,
   "metadata": {},
   "outputs": [
    {
     "name": "stdout",
     "output_type": "stream",
     "text": [
      "[1, 3, 4, 5, 7, 7, 9, 10, 11, 11, 11, 13, 14, 14, 15, 19, 20, 24] \n",
      " 18\n"
     ]
    },
    {
     "data": {
      "text/plain": [
       "0    11.0\n",
       "dtype: float64"
      ]
     },
     "execution_count": 11,
     "metadata": {},
     "output_type": "execute_result"
    }
   ],
   "source": [
    "lst = [11, 20,1,24,14,19,10,9,5,4,3,7,11,11,7,15,13,14]\n",
    "lst.sort()\n",
    "print(lst,\"\\n\",len(lst))\n",
    "# Pāra skaita elementiem mediāna ir divu vidējo elementu summa dalīta ar 2\n",
    "\n",
    "izlase = pd.DataFrame(lst)\n",
    "izlase.median()"
   ]
  },
  {
   "cell_type": "markdown",
   "metadata": {},
   "source": [
    "**Moda** ir sarakstā visbiežāk sastopamā vērtība"
   ]
  },
  {
   "cell_type": "code",
   "execution_count": 89,
   "metadata": {},
   "outputs": [
    {
     "data": {
      "text/html": [
       "<div>\n",
       "<style scoped>\n",
       "    .dataframe tbody tr th:only-of-type {\n",
       "        vertical-align: middle;\n",
       "    }\n",
       "\n",
       "    .dataframe tbody tr th {\n",
       "        vertical-align: top;\n",
       "    }\n",
       "\n",
       "    .dataframe thead th {\n",
       "        text-align: right;\n",
       "    }\n",
       "</style>\n",
       "<table border=\"1\" class=\"dataframe\">\n",
       "  <thead>\n",
       "    <tr style=\"text-align: right;\">\n",
       "      <th></th>\n",
       "      <th>0</th>\n",
       "    </tr>\n",
       "  </thead>\n",
       "  <tbody>\n",
       "    <tr>\n",
       "      <th>0</th>\n",
       "      <td>11</td>\n",
       "    </tr>\n",
       "  </tbody>\n",
       "</table>\n",
       "</div>"
      ],
      "text/plain": [
       "    0\n",
       "0  11"
      ]
     },
     "execution_count": 89,
     "metadata": {},
     "output_type": "execute_result"
    }
   ],
   "source": [
    "izlase.mode()"
   ]
  },
  {
   "cell_type": "markdown",
   "metadata": {},
   "source": [
    "**Vidējā** vērtība ir visu izlases elementu summa dalīta ar elementu skaitu. (saukta arī par mean value, expected value, arī par matemātisko cerību)  \n",
    "Alternatīvi, vidējo vērtību var aprēķināt summējot visu iespējamo vērtību reizinājumus ar to šo vērtību varbūtībām. "
   ]
  },
  {
   "cell_type": "code",
   "execution_count": 90,
   "metadata": {
    "scrolled": true
   },
   "outputs": [
    {
     "data": {
      "text/plain": [
       "0    11.0\n",
       "dtype: float64"
      ]
     },
     "execution_count": 90,
     "metadata": {},
     "output_type": "execute_result"
    }
   ],
   "source": [
    "izlase.mean()"
   ]
  },
  {
   "cell_type": "markdown",
   "metadata": {},
   "source": [
    "## Histogramma, varbūtību sadalījumi    \n",
    "Ja mēs sadalam izlases vērtību intervālu vienādās daļās, ar intervālu skaitu, kurš ir mazāks kā izlases vērtību skaits,  \n",
    "Ja mēs katram šim intervālam piešķiram veselu skaitli, kurš atbilst tam, cik vērtības no mūsu izlases iekrīt šajos intervālos,  \n",
    "Ja atliekam izlases vērtības uz X ass un vērtību skaitu katrā intervālā uz Y ass, šādu grafiku sauc par **histogrammu**."
   ]
  },
  {
   "cell_type": "code",
   "execution_count": 91,
   "metadata": {
    "scrolled": true
   },
   "outputs": [
    {
     "data": {
      "text/plain": [
       "array([[<matplotlib.axes._subplots.AxesSubplot object at 0x000001D2E04B7730>]],\n",
       "      dtype=object)"
      ]
     },
     "execution_count": 91,
     "metadata": {},
     "output_type": "execute_result"
    },
    {
     "data": {
      "image/png": "[encoded data removed]",
      "text/plain": [
       "<Figure size 432x288 with 1 Axes>"
      ]
     },
     "metadata": {
      "needs_background": "light"
     },
     "output_type": "display_data"
    }
   ],
   "source": [
    "izlase.hist()"
   ]
  },
  {
   "cell_type": "markdown",
   "metadata": {},
   "source": [
    "Histogrammas labi parāda kā mūsu izlase ir sadalījusies pa vērtībām.  \n",
    "\n",
    "Ja visus biežumus dala ar elementu skaitu, iegūst attiecīgo intervālu varbūtības. Dalot visus izlases histogrammas stabiņu augstumus ar izlases elementu skaitu, iegūst **varbūtību sadalījumu**"
   ]
  },
  {
   "cell_type": "code",
   "execution_count": null,
   "metadata": {},
   "outputs": [],
   "source": []
  },
  {
   "cell_type": "code",
   "execution_count": 27,
   "metadata": {},
   "outputs": [
    {
     "name": "stderr",
     "output_type": "stream",
     "text": [
      "<ipython-input-27-fd99064ea9e1>:1: FutureWarning: The pandas.np module is deprecated and will be removed from pandas in a future version. Import numpy directly instead\n",
      "  count,divison= pd.np.histogram(izlase)\n"
     ]
    }
   ],
   "source": [
    "count,divison= pd.np.histogram(izlase)\n",
    "# Uzdevums:\n",
    "# Transformējiet `count` saglabātos histogrammas stabiņu augstumus par varbūtību sadalījumam derīgām vērtībām."
   ]
  },
  {
   "cell_type": "code",
   "execution_count": 9,
   "metadata": {},
   "outputs": [],
   "source": [
    "# Jautājumi: \n",
    "# 1. Cik liela ir varbūtība, ka paņemot patvaļīgu skaitli no `izlase`, mēs paņemsim skaitli, kurš ir mazāks, kā 15?\n",
    "# 2. Kā mēs varētu iegūt sagaidāmo (visvarbūtīgāko) vērtību no `izlase` histogrammas?"
   ]
  },
  {
   "cell_type": "markdown",
   "metadata": {},
   "source": [
    "1\\. $P(x<15) = \\sum_{i=1}^{15} P(x=x_i)$ Jeb citiem vārdiem, saskaitam varbūtības (stabiņu augstumus) visiem skaitļiem līdz 15.  \n",
    "\n",
    "2\\. $E(x) = \\sum_{i=1}^{n} P(x=x_i) \\cdot x_i$ Citiem vārdiem, reizinam vērtības ar to varbūtībām (stabiņu augstumiem) un tās saskaitam."
   ]
  },
  {
   "cell_type": "code",
   "execution_count": null,
   "metadata": {},
   "outputs": [],
   "source": [
    "#Uzdevums: \n",
    "# Aprēķiniet\n",
    "# 1. sagaidāmo vērtību\n",
    "# 2. varbūtību, ka paņemot patvaļīgu skaitli no izlases, skaitlis būs lielāks par 15."
   ]
  },
  {
   "cell_type": "markdown",
   "metadata": {},
   "source": [
    "###  Gausa sadalījums  \n",
    "Statistikā un dabaszinātnēs ir sastopami daudzi un dažādi sadalījumi kā Pareto sadalījums, Fermī sadalījums, Bernulli sadalījums, binomiālais sadalījums u.c. Viens no visplašāk sastopamajiem un visintuitīvākajiem ir Gausa jeb normālsadalījums."
   ]
  },
  {
   "cell_type": "markdown",
   "metadata": {},
   "source": [
    "Gausa sadalījums dabiski rodās, kad tiek mērīts kāda pazīme izlasei, kurai ir viena vidējā vērtība.  \n",
    "\n",
    "Ja mēs ņemtu kasti ar 2cm naglām un mērītu to garumus ar precīzu instrumentu, tad mēs redzētu, ka naglu garumi sadalās pēc gausa sadalījuma ap 2cm atzīmi.\n",
    "\n",
    "Ja mēs mērām augumus patvaļīgiem vīriešiem, mēs iegūtu aptuvenu normālsadalījumu. \n",
    "\n",
    "Ja mēs mērītu IQ kādai patvaļīgai izlasei no cilvēku populācijas, mēs iegūtu normālsadalījumu.\n",
    "\n",
    "Ja mēs mērām "
   ]
  },
  {
   "cell_type": "code",
   "execution_count": 93,
   "metadata": {},
   "outputs": [],
   "source": []
  },
  {
   "cell_type": "code",
   "execution_count": 94,
   "metadata": {},
   "outputs": [
    {
     "data": {
      "text/plain": [
       "-1.189271538739931"
      ]
     },
     "execution_count": 94,
     "metadata": {},
     "output_type": "execute_result"
    }
   ],
   "source": [
    "rnd.normal()"
   ]
  },
  {
   "cell_type": "code",
   "execution_count": 95,
   "metadata": {},
   "outputs": [],
   "source": [
    "n_nums = 500\n",
    "nums = []\n",
    "for i in range(0,n_nums):\n",
    "    nums.append(rnd.normal())"
   ]
  },
  {
   "cell_type": "code",
   "execution_count": 96,
   "metadata": {},
   "outputs": [],
   "source": [
    "nums_df = pd.DataFrame(nums)"
   ]
  },
  {
   "cell_type": "code",
   "execution_count": 97,
   "metadata": {},
   "outputs": [
    {
     "data": {
      "text/plain": [
       "<matplotlib.axes._subplots.AxesSubplot at 0x1d2e05b8f70>"
      ]
     },
     "execution_count": 97,
     "metadata": {},
     "output_type": "execute_result"
    },
    {
     "data": {
      "image/png": "[encoded data removed]",
      "text/plain": [
       "<Figure size 432x288 with 1 Axes>"
      ]
     },
     "metadata": {
      "needs_background": "light"
     },
     "output_type": "display_data"
    }
   ],
   "source": [
    "nums_df.plot.hist()"
   ]
  },
  {
   "cell_type": "code",
   "execution_count": 101,
   "metadata": {},
   "outputs": [],
   "source": [
    "# Jautājums: \n",
    "# Vai moda(visvarbūtīgākā vērtība) vienmēr būs sagaidāmā vērtība t.i. vidējā?"
   ]
  },
  {
   "cell_type": "code",
   "execution_count": null,
   "metadata": {},
   "outputs": [],
   "source": [
    "# Jautājums:  \n",
    "# Ja mēs mērītu cik gari ir vīrieši un sievietes, vai tas, ko mēs nomērītu sekotu normālsadalījumam?"
   ]
  },
  {
   "cell_type": "code",
   "execution_count": 67,
   "metadata": {},
   "outputs": [],
   "source": [
    "def distrib(m, sigm, height=100,size=200):\n",
    "    res = []\n",
    "    for i in range(0,size+1):\n",
    "        res.append(height* np.exp( - (i - m)**2 / (2 * sigma**2) ))\n",
    "    return res"
   ]
  },
  {
   "cell_type": "code",
   "execution_count": 68,
   "metadata": {},
   "outputs": [
    {
     "data": {
      "text/plain": [
       "(array([ 5., 32., 48., 86., 96., 68., 43., 18.,  1.,  3.]),\n",
       " array([ -5.85165687,   7.00792362,  19.86750412,  32.72708462,\n",
       "         45.58666511,  58.44624561,  71.3058261 ,  84.1654066 ,\n",
       "         97.0249871 , 109.88456759, 122.74414809]),\n",
       " <a list of 10 Patch objects>)"
      ]
     },
     "execution_count": 68,
     "metadata": {},
     "output_type": "execute_result"
    },
    {
     "data": {
      "image/png": "[encoded data removed]",
      "text/plain": [
       "<Figure size 432x288 with 1 Axes>"
      ]
     },
     "metadata": {
      "needs_background": "light"
     },
     "output_type": "display_data"
    }
   ],
   "source": [
    "N=400\n",
    "mu, sigma = 100, 20\n",
    "mu2, sigma2 = 50, 20\n",
    "\n",
    "X1 = np.random.normal(mu, sigma, N)\n",
    "X2 = np.random.normal(mu2, sigma2, N)\n",
    "\n",
    "distrib1 = distrib(mu,sigma)\n",
    "distrib2 = distrib(mu2,sigma2)\n",
    "\n",
    "\n",
    "plt.plot(distrib1)\n",
    "plt.plot(distrib2)\n",
    "plt.hist(X1)\n",
    "plt.hist(X2)"
   ]
  },
  {
   "cell_type": "markdown",
   "metadata": {},
   "source": [
    "## Binomiālais sadalījums  \n"
   ]
  },
  {
   "cell_type": "markdown",
   "metadata": {},
   "source": [
    "## Dispersija, standartnovirze"
   ]
  },
  {
   "cell_type": "markdown",
   "metadata": {},
   "source": [
    "**Dispersija (angliski variance)** raksturo cik tālu punkti ir izvietojušies no sadalījuma vidējās vērtības.\n",
    "Dispersija ir summa, kurā summē visu izlases elementu vērtību nobīdes no vidējā pakāpinātas kvadrātā t.i ja mums ir dota tabula"
   ]
  },
  {
   "cell_type": "code",
   "execution_count": 17,
   "metadata": {},
   "outputs": [
    {
     "data": {
      "text/html": [
       "<div>\n",
       "<style scoped>\n",
       "    .dataframe tbody tr th:only-of-type {\n",
       "        vertical-align: middle;\n",
       "    }\n",
       "\n",
       "    .dataframe tbody tr th {\n",
       "        vertical-align: top;\n",
       "    }\n",
       "\n",
       "    .dataframe thead th {\n",
       "        text-align: right;\n",
       "    }\n",
       "</style>\n",
       "<table border=\"1\" class=\"dataframe\">\n",
       "  <thead>\n",
       "    <tr style=\"text-align: right;\">\n",
       "      <th></th>\n",
       "      <th>0</th>\n",
       "    </tr>\n",
       "  </thead>\n",
       "  <tbody>\n",
       "    <tr>\n",
       "      <th>0</th>\n",
       "      <td>1</td>\n",
       "    </tr>\n",
       "    <tr>\n",
       "      <th>1</th>\n",
       "      <td>2</td>\n",
       "    </tr>\n",
       "    <tr>\n",
       "      <th>2</th>\n",
       "      <td>2</td>\n",
       "    </tr>\n",
       "    <tr>\n",
       "      <th>3</th>\n",
       "      <td>4</td>\n",
       "    </tr>\n",
       "    <tr>\n",
       "      <th>4</th>\n",
       "      <td>7</td>\n",
       "    </tr>\n",
       "    <tr>\n",
       "      <th>5</th>\n",
       "      <td>9</td>\n",
       "    </tr>\n",
       "  </tbody>\n",
       "</table>\n",
       "</div>"
      ],
      "text/plain": [
       "   0\n",
       "0  1\n",
       "1  2\n",
       "2  2\n",
       "3  4\n",
       "4  7\n",
       "5  9"
      ]
     },
     "execution_count": 17,
     "metadata": {},
     "output_type": "execute_result"
    }
   ],
   "source": [
    "izl = pd.DataFrame([1,2,2,4,7,9])\n",
    "izl_list = list(izl[0])\n",
    "izl"
   ]
  },
  {
   "cell_type": "markdown",
   "metadata": {},
   "source": [
    "kur izlases vidējā vērtība ir"
   ]
  },
  {
   "cell_type": "code",
   "execution_count": 18,
   "metadata": {},
   "outputs": [
    {
     "data": {
      "text/plain": [
       "0    4.166667\n",
       "dtype: float64"
      ]
     },
     "execution_count": 18,
     "metadata": {},
     "output_type": "execute_result"
    }
   ],
   "source": [
    "videja = izl.mean()\n",
    "videja"
   ]
  },
  {
   "cell_type": "code",
   "execution_count": 20,
   "metadata": {},
   "outputs": [
    {
     "data": {
      "text/plain": [
       "4.166666666666667"
      ]
     },
     "execution_count": 20,
     "metadata": {},
     "output_type": "execute_result"
    }
   ],
   "source": [
    "# sum(izl_list)/len(izl_list)"
   ]
  },
  {
   "cell_type": "markdown",
   "metadata": {},
   "source": [
    "tad dispersiju var aprēķināt sekojoši:"
   ]
  },
  {
   "cell_type": "code",
   "execution_count": 10,
   "metadata": {},
   "outputs": [
    {
     "data": {
      "text/plain": [
       "0    17.361111\n",
       "dtype: float64"
      ]
     },
     "execution_count": 10,
     "metadata": {},
     "output_type": "execute_result"
    }
   ],
   "source": [
    "dispersija = 0\n",
    "for elem in izl_list:\n",
    "    dispersija = dispersija + (elem - videja)**2\n",
    "dispersija = dispersija / len(izl_list)\n",
    "dispersija"
   ]
  },
  {
   "cell_type": "markdown",
   "metadata": {},
   "source": [
    "**Standartnovirze** ir kvadrātsakne no dispersijas, raksturo to, cik labi dati aproksimē vidējo vērtību"
   ]
  },
  {
   "cell_type": "code",
   "execution_count": 30,
   "metadata": {},
   "outputs": [
    {
     "name": "stdout",
     "output_type": "stream",
     "text": [
      "0    4.166667\n",
      "dtype: float64\n"
     ]
    }
   ],
   "source": [
    "stdev = np.sqrt(dispersija)\n",
    "print(stdev)"
   ]
  },
  {
   "cell_type": "code",
   "execution_count": 121,
   "metadata": {},
   "outputs": [
    {
     "data": {
      "text/html": [
       "<div>\n",
       "<style scoped>\n",
       "    .dataframe tbody tr th:only-of-type {\n",
       "        vertical-align: middle;\n",
       "    }\n",
       "\n",
       "    .dataframe tbody tr th {\n",
       "        vertical-align: top;\n",
       "    }\n",
       "\n",
       "    .dataframe thead th {\n",
       "        text-align: right;\n",
       "    }\n",
       "</style>\n",
       "<table border=\"1\" class=\"dataframe\">\n",
       "  <thead>\n",
       "    <tr style=\"text-align: right;\">\n",
       "      <th></th>\n",
       "      <th>0</th>\n",
       "    </tr>\n",
       "  </thead>\n",
       "  <tbody>\n",
       "    <tr>\n",
       "      <th>count</th>\n",
       "      <td>6.000000</td>\n",
       "    </tr>\n",
       "    <tr>\n",
       "      <th>mean</th>\n",
       "      <td>4.166667</td>\n",
       "    </tr>\n",
       "    <tr>\n",
       "      <th>std</th>\n",
       "      <td>3.188521</td>\n",
       "    </tr>\n",
       "    <tr>\n",
       "      <th>min</th>\n",
       "      <td>1.000000</td>\n",
       "    </tr>\n",
       "    <tr>\n",
       "      <th>25%</th>\n",
       "      <td>2.000000</td>\n",
       "    </tr>\n",
       "    <tr>\n",
       "      <th>50%</th>\n",
       "      <td>3.000000</td>\n",
       "    </tr>\n",
       "    <tr>\n",
       "      <th>75%</th>\n",
       "      <td>6.250000</td>\n",
       "    </tr>\n",
       "    <tr>\n",
       "      <th>max</th>\n",
       "      <td>9.000000</td>\n",
       "    </tr>\n",
       "  </tbody>\n",
       "</table>\n",
       "</div>"
      ],
      "text/plain": [
       "              0\n",
       "count  6.000000\n",
       "mean   4.166667\n",
       "std    3.188521\n",
       "min    1.000000\n",
       "25%    2.000000\n",
       "50%    3.000000\n",
       "75%    6.250000\n",
       "max    9.000000"
      ]
     },
     "execution_count": 121,
     "metadata": {},
     "output_type": "execute_result"
    }
   ],
   "source": [
    "izl.describe() # DataFrame.describe() metodi var izmantot, lai aprēķinātu šīs statistikas.\n",
    "# Te gan std nesakrīt ar to, ko mēs izrēķinājām ar roku. \n",
    "# pd.DataFrame.std() funkcija izmanto kaut kādu normēšanas sistēmu, kurus es nesaprotu līdz galam."
   ]
  }
 ],
 "metadata": {
  "kernelspec": {
   "display_name": "Python 3",
   "language": "python",
   "name": "python3"
  },
  "language_info": {
   "codemirror_mode": {
    "name": "ipython",
    "version": 3
   },
   "file_extension": ".py",
   "mimetype": "text/x-python",
   "name": "python",
   "nbconvert_exporter": "python",
   "pygments_lexer": "ipython3",
   "version": "3.8.3"
  }
 },
 "nbformat": 4,
 "nbformat_minor": 4
}
