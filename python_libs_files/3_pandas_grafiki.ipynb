{
 "cells": [
  {
   "cell_type": "code",
   "execution_count": 1,
   "metadata": {},
   "outputs": [],
   "source": [
    "import pandas as pd\n",
    "import numpy as np\n",
    "import matplotlib.pyplot as plt\n",
    "\n",
    "# https://pynative.com/python-matplotlib-exercise/ # Smēlos iedvesmu no šeit aprakstītajiem uzdevumiem\n",
    "# https://matplotlib.org/3.2.2/api/_as_gen/matplotlib.pyplot.plot.html"
   ]
  },
  {
   "cell_type": "markdown",
   "metadata": {},
   "source": [
    "# Vēl mazliet par funkcijām\n",
    "Funkcijas izsaucot, tipiski tām ir jāpadod tik argumenti, cik definīcijā ir norādīti, bet ir izņēmumi. Piem. sekojošā funkcija"
   ]
  },
  {
   "cell_type": "code",
   "execution_count": 5,
   "metadata": {},
   "outputs": [],
   "source": [
    "def pielikt_pavedienam_konstanti(pavediens,konstante= ' kaut kada cita konstante'):\n",
    "    print(pavediens + konstante)"
   ]
  },
  {
   "cell_type": "code",
   "execution_count": 6,
   "metadata": {},
   "outputs": [
    {
     "name": "stdout",
     "output_type": "stream",
     "text": [
      "kkads str kaut kada cita konstante\n"
     ]
    }
   ],
   "source": [
    "pielikt_pavedienam_konstanti('kkads str')"
   ]
  },
  {
   "cell_type": "markdown",
   "metadata": {},
   "source": [
    "Šis ir izdarāms jo python funkciju argumentiem var iestatīt noklusējuma vērtības.  \n",
    "Daudzas bibliotēku funkcijas darbojas tieši pēc šāda modeļa. Šādas funkcijas mēs nerakstīsim, bet tā ir nianse, kas būtu jāievēro."
   ]
  },
  {
   "cell_type": "code",
   "execution_count": 7,
   "metadata": {},
   "outputs": [
    {
     "name": "stdout",
     "output_type": "stream",
     "text": [
      "kkads_str kuram seko vel_kkads_str\n"
     ]
    }
   ],
   "source": [
    "pielikt_pavedienam_konstanti('kkads_str',' kuram seko vel_kkads_str')"
   ]
  },
  {
   "cell_type": "code",
   "execution_count": null,
   "metadata": {},
   "outputs": [],
   "source": []
  },
  {
   "cell_type": "code",
   "execution_count": 8,
   "metadata": {},
   "outputs": [],
   "source": [
    "eksamens = {'name': ['Anastasia', 'Dima', 'Katherine', 'James', 'Emily', 'Michael', 'Matthew', 'Laura', 'Kevin', 'Jonas'],\n",
    "'score': [12.5, 9, 16.5, 5, 9, 20, 14.5, 12, 8, 19],\n",
    "'attempts': [1, 3, 2, 3, 2, 4, 1, 1, 2, 1]}\n",
    "eksam_df = pd.DataFrame(eksamens)\n",
    "\n",
    "flights_df = pd.read_csv('airtravel.csv')\n",
    "flights_df.columns = ['Month', '1958', '1959', '1960']\n",
    "\n",
    "X_numlist = [1,2,3,4,5,6,7,8,9,10]\n",
    "Y_numlist = [1,4,9,16,25,36,49,64,81,100]"
   ]
  },
  {
   "cell_type": "code",
   "execution_count": 9,
   "metadata": {},
   "outputs": [
    {
     "data": {
      "text/html": [
       "<div>\n",
       "<style scoped>\n",
       "    .dataframe tbody tr th:only-of-type {\n",
       "        vertical-align: middle;\n",
       "    }\n",
       "\n",
       "    .dataframe tbody tr th {\n",
       "        vertical-align: top;\n",
       "    }\n",
       "\n",
       "    .dataframe thead th {\n",
       "        text-align: right;\n",
       "    }\n",
       "</style>\n",
       "<table border=\"1\" class=\"dataframe\">\n",
       "  <thead>\n",
       "    <tr style=\"text-align: right;\">\n",
       "      <th></th>\n",
       "      <th>name</th>\n",
       "      <th>score</th>\n",
       "      <th>attempts</th>\n",
       "    </tr>\n",
       "  </thead>\n",
       "  <tbody>\n",
       "    <tr>\n",
       "      <th>0</th>\n",
       "      <td>Anastasia</td>\n",
       "      <td>12.5</td>\n",
       "      <td>1</td>\n",
       "    </tr>\n",
       "    <tr>\n",
       "      <th>1</th>\n",
       "      <td>Dima</td>\n",
       "      <td>9.0</td>\n",
       "      <td>3</td>\n",
       "    </tr>\n",
       "    <tr>\n",
       "      <th>2</th>\n",
       "      <td>Katherine</td>\n",
       "      <td>16.5</td>\n",
       "      <td>2</td>\n",
       "    </tr>\n",
       "    <tr>\n",
       "      <th>3</th>\n",
       "      <td>James</td>\n",
       "      <td>5.0</td>\n",
       "      <td>3</td>\n",
       "    </tr>\n",
       "    <tr>\n",
       "      <th>4</th>\n",
       "      <td>Emily</td>\n",
       "      <td>9.0</td>\n",
       "      <td>2</td>\n",
       "    </tr>\n",
       "    <tr>\n",
       "      <th>5</th>\n",
       "      <td>Michael</td>\n",
       "      <td>20.0</td>\n",
       "      <td>4</td>\n",
       "    </tr>\n",
       "    <tr>\n",
       "      <th>6</th>\n",
       "      <td>Matthew</td>\n",
       "      <td>14.5</td>\n",
       "      <td>1</td>\n",
       "    </tr>\n",
       "    <tr>\n",
       "      <th>7</th>\n",
       "      <td>Laura</td>\n",
       "      <td>12.0</td>\n",
       "      <td>1</td>\n",
       "    </tr>\n",
       "    <tr>\n",
       "      <th>8</th>\n",
       "      <td>Kevin</td>\n",
       "      <td>8.0</td>\n",
       "      <td>2</td>\n",
       "    </tr>\n",
       "    <tr>\n",
       "      <th>9</th>\n",
       "      <td>Jonas</td>\n",
       "      <td>19.0</td>\n",
       "      <td>1</td>\n",
       "    </tr>\n",
       "  </tbody>\n",
       "</table>\n",
       "</div>"
      ],
      "text/plain": [
       "        name  score  attempts\n",
       "0  Anastasia   12.5         1\n",
       "1       Dima    9.0         3\n",
       "2  Katherine   16.5         2\n",
       "3      James    5.0         3\n",
       "4      Emily    9.0         2\n",
       "5    Michael   20.0         4\n",
       "6    Matthew   14.5         1\n",
       "7      Laura   12.0         1\n",
       "8      Kevin    8.0         2\n",
       "9      Jonas   19.0         1"
      ]
     },
     "execution_count": 9,
     "metadata": {},
     "output_type": "execute_result"
    }
   ],
   "source": [
    "eksam_df"
   ]
  },
  {
   "cell_type": "code",
   "execution_count": 10,
   "metadata": {},
   "outputs": [
    {
     "data": {
      "text/html": [
       "<div>\n",
       "<style scoped>\n",
       "    .dataframe tbody tr th:only-of-type {\n",
       "        vertical-align: middle;\n",
       "    }\n",
       "\n",
       "    .dataframe tbody tr th {\n",
       "        vertical-align: top;\n",
       "    }\n",
       "\n",
       "    .dataframe thead th {\n",
       "        text-align: right;\n",
       "    }\n",
       "</style>\n",
       "<table border=\"1\" class=\"dataframe\">\n",
       "  <thead>\n",
       "    <tr style=\"text-align: right;\">\n",
       "      <th></th>\n",
       "      <th>Month</th>\n",
       "      <th>1958</th>\n",
       "      <th>1959</th>\n",
       "      <th>1960</th>\n",
       "    </tr>\n",
       "  </thead>\n",
       "  <tbody>\n",
       "    <tr>\n",
       "      <th>0</th>\n",
       "      <td>JAN</td>\n",
       "      <td>340</td>\n",
       "      <td>360</td>\n",
       "      <td>417</td>\n",
       "    </tr>\n",
       "    <tr>\n",
       "      <th>1</th>\n",
       "      <td>FEB</td>\n",
       "      <td>318</td>\n",
       "      <td>342</td>\n",
       "      <td>391</td>\n",
       "    </tr>\n",
       "    <tr>\n",
       "      <th>2</th>\n",
       "      <td>MAR</td>\n",
       "      <td>362</td>\n",
       "      <td>406</td>\n",
       "      <td>419</td>\n",
       "    </tr>\n",
       "    <tr>\n",
       "      <th>3</th>\n",
       "      <td>APR</td>\n",
       "      <td>348</td>\n",
       "      <td>396</td>\n",
       "      <td>461</td>\n",
       "    </tr>\n",
       "    <tr>\n",
       "      <th>4</th>\n",
       "      <td>MAY</td>\n",
       "      <td>363</td>\n",
       "      <td>420</td>\n",
       "      <td>472</td>\n",
       "    </tr>\n",
       "    <tr>\n",
       "      <th>5</th>\n",
       "      <td>JUN</td>\n",
       "      <td>435</td>\n",
       "      <td>472</td>\n",
       "      <td>535</td>\n",
       "    </tr>\n",
       "    <tr>\n",
       "      <th>6</th>\n",
       "      <td>JUL</td>\n",
       "      <td>491</td>\n",
       "      <td>548</td>\n",
       "      <td>622</td>\n",
       "    </tr>\n",
       "    <tr>\n",
       "      <th>7</th>\n",
       "      <td>AUG</td>\n",
       "      <td>505</td>\n",
       "      <td>559</td>\n",
       "      <td>606</td>\n",
       "    </tr>\n",
       "    <tr>\n",
       "      <th>8</th>\n",
       "      <td>SEP</td>\n",
       "      <td>404</td>\n",
       "      <td>463</td>\n",
       "      <td>508</td>\n",
       "    </tr>\n",
       "    <tr>\n",
       "      <th>9</th>\n",
       "      <td>OCT</td>\n",
       "      <td>359</td>\n",
       "      <td>407</td>\n",
       "      <td>461</td>\n",
       "    </tr>\n",
       "    <tr>\n",
       "      <th>10</th>\n",
       "      <td>NOV</td>\n",
       "      <td>310</td>\n",
       "      <td>362</td>\n",
       "      <td>390</td>\n",
       "    </tr>\n",
       "    <tr>\n",
       "      <th>11</th>\n",
       "      <td>DEC</td>\n",
       "      <td>337</td>\n",
       "      <td>405</td>\n",
       "      <td>432</td>\n",
       "    </tr>\n",
       "  </tbody>\n",
       "</table>\n",
       "</div>"
      ],
      "text/plain": [
       "   Month  1958  1959  1960\n",
       "0    JAN   340   360   417\n",
       "1    FEB   318   342   391\n",
       "2    MAR   362   406   419\n",
       "3    APR   348   396   461\n",
       "4    MAY   363   420   472\n",
       "5    JUN   435   472   535\n",
       "6    JUL   491   548   622\n",
       "7    AUG   505   559   606\n",
       "8    SEP   404   463   508\n",
       "9    OCT   359   407   461\n",
       "10   NOV   310   362   390\n",
       "11   DEC   337   405   432"
      ]
     },
     "execution_count": 10,
     "metadata": {},
     "output_type": "execute_result"
    }
   ],
   "source": [
    "flights_df"
   ]
  },
  {
   "cell_type": "markdown",
   "metadata": {},
   "source": [
    "# pandas un punkta notācija  \n",
    "Bieži redzēsiet piemērus, kur dažādas funkcijas ir 'saķēdētas' kopā ar punktu starp tām.  \n",
    "Tas ir pieraksts, lai samazinātu nepieciešamību pēc papildu mainīgajiem, kas tikai aizņem izstrādes laiku, pagarina kodu (vairāk koda, vairāk kļūdu) un aizņem vietu operatīvajā atmiņā.  \n",
    "Lai veiksmīgi saķēdētu kopā funkcijas (dažreiz process saukts arī par pipelining), **jāpievērš uzmanība tam, ko katra secīgā funkcija atgriež, lai nākamā funkcija varētu šo atgriezto vērtību/struktūru ņemt kā argumentu**   \n",
    "Piem:  \n",
    "\n",
    "```series_w_histogram = flights_df['1958'].hist()  ```\n",
    "\n",
    "Šeit tiek kopā saliktas 2 funkcijas. No DataFrame objekta, izmantojot kolonnas nosaukumu, tiek iegūts Series tipa objekts.  \n",
    "Series tipa objektam, tāpat kā DataFrame objektam piemīt funkcija .hist(), kas uzzīmē grafiku. Ja .hist() outputu ievieto mainīgajā, var redzēt tā tipu."
   ]
  },
  {
   "cell_type": "code",
   "execution_count": null,
   "metadata": {},
   "outputs": [],
   "source": [
    "# .hist() ir DataFrame datu struktūras funkcija, kas atgriež no datiem histogrammas.\n",
    "# Pēc noklusējuma, katrai kolonnai tiek sastādīta histogramma pa rindām.\n",
    "# Pēc noklusējuma tiek ņemti 10 intervāli jeb bins\n",
    "\n",
    "eksam_df.hist(bins=5)"
   ]
  },
  {
   "cell_type": "code",
   "execution_count": 11,
   "metadata": {},
   "outputs": [
    {
     "data": {
      "text/plain": [
       "array([[<matplotlib.axes._subplots.AxesSubplot object at 0x7f4dac82ae10>,\n",
       "        <matplotlib.axes._subplots.AxesSubplot object at 0x7f4dac5b59d0>],\n",
       "       [<matplotlib.axes._subplots.AxesSubplot object at 0x7f4dac573d10>,\n",
       "        <matplotlib.axes._subplots.AxesSubplot object at 0x7f4dac5299d0>]],\n",
       "      dtype=object)"
      ]
     },
     "execution_count": 11,
     "metadata": {},
     "output_type": "execute_result"
    },
    {
     "data": {
      "image/png": "[encoded data removed]",
      "text/plain": [
       "<Figure size 432x288 with 4 Axes>"
      ]
     },
     "metadata": {
      "needs_background": "light"
     },
     "output_type": "display_data"
    }
   ],
   "source": [
    "flights_df.hist()"
   ]
  },
  {
   "cell_type": "code",
   "execution_count": 12,
   "metadata": {},
   "outputs": [
    {
     "data": {
      "image/png": "[encoded data removed]",
      "text/plain": [
       "<Figure size 432x288 with 1 Axes>"
      ]
     },
     "metadata": {
      "needs_background": "light"
     },
     "output_type": "display_data"
    }
   ],
   "source": [
    "# Šis strādā tikai ar Series tipu, nevis ar DataFrame tipu t.i. katra kolonna būtu jāsaglabā atsevišķi.\n",
    "flights_df['1958'].hist().get_figure().savefig('1958_output.png') \n",
    "\n",
    "# Tā kā .hist() outputs ir matplotlib bibliotēkas subplota objekts,\n",
    "# Caur tā īpašībām, varam atsaukties uz pašu grafiku ar .get_figure() funkciju \n",
    "# un tās outputu saglabāt ar grafika funkciju .savefig()"
   ]
  },
  {
   "cell_type": "code",
   "execution_count": 13,
   "metadata": {},
   "outputs": [
    {
     "data": {
      "text/plain": [
       "<matplotlib.axes._subplots.AxesSubplot at 0x7f4dae443b90>"
      ]
     },
     "execution_count": 13,
     "metadata": {},
     "output_type": "execute_result"
    },
    {
     "data": {
      "image/png": "[encoded data removed]",
      "text/plain": [
       "<Figure size 432x288 with 1 Axes>"
      ]
     },
     "metadata": {
      "needs_background": "light"
     },
     "output_type": "display_data"
    }
   ],
   "source": [
    "# Uzdevums: \n",
    "# Noskaidrojiet kāds ir uz Series objektu izsauktās .hist() funkcijas outputa tips,\n",
    "# atrodiet kādas funkcijas šim tipam vēl ir pieejamas.\n",
    "flights_df['1958'].hist()"
   ]
  },
  {
   "cell_type": "markdown",
   "metadata": {},
   "source": [
    "Šis var likties nedaudz pārmācoši, bet šīs konkrētās funkciju saderības nav jāiegaumē, bet tikai jāmāk atrast.\n",
    "Atrast piemērus var caur stackoverflow vai caur oficiālo dokumentāciju, lasot kādas funkcijas ir pieejamas katram tipam un zinot atbilstošo terminoloģiju (t.i. kas ir figure, kas ir plot, kas ir subplot, kas ir ticks, axes, labels u.t.t).  \n",
    "Praktiski, vislabāk bieži vien ir vienkārši atrast strādājošu piemēru tam, kas nepieciešams."
   ]
  },
  {
   "cell_type": "code",
   "execution_count": null,
   "metadata": {},
   "outputs": [],
   "source": []
  },
  {
   "cell_type": "code",
   "execution_count": null,
   "metadata": {},
   "outputs": [],
   "source": []
  }
 ],
 "metadata": {
  "kernelspec": {
   "display_name": "Python 3",
   "language": "python",
   "name": "python3"
  },
  "language_info": {
   "codemirror_mode": {
    "name": "ipython",
    "version": 3
   },
   "file_extension": ".py",
   "mimetype": "text/x-python",
   "name": "python",
   "nbconvert_exporter": "python",
   "pygments_lexer": "ipython3",
   "version": "3.7.4"
  }
 },
 "nbformat": 4,
 "nbformat_minor": 2
}
