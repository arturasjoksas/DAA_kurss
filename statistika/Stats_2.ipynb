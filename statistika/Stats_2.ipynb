{
 "cells": [
  {
   "cell_type": "markdown",
   "metadata": {},
   "source": [
    "Atbildēsim uz jautājumiem, ko uzdevām iepriekšējā notebookā  \n",
    "1. Kāda ir varbūtība ar parastu metamo kauliņu uzmest 3 četriniekus un vienu divnieku tieši šādā secībā? <!-- Vai secībai ir nozīme? -->  \n",
    "2. Kāda ir varbūtība atrast strādājošas zāles kādai veselības problēmai ar trešo mēģinājumu vai ātrāk?  \n",
    "3. Ražošanas uzņēmumā metode A 20 produktu paraugus uzlaboja par 2% un metode B 10 produktu paraugus uzlaboja par 6%. Kura metode ir labāka?\n",
    "4. No 1000 paraugiem ir paņemta patvaļīga izlase ar 30 ar kuriem tiek veikti mērījumi. Ko ir iespējams secināt par pārējiem 970 paraugiem?\n",
    "\n",
    "Jautājumi, ko analītiķim ikdienā uzdod varētu būt arī šādi:\n",
    "Kāda ir varbūtība, ka mūsu izvēlētā cena precei interneta veikalā ir labākā iespējamā?  \n",
    "Kāda ir varbūtība, ka vidējais preces piegādes laiks ir tas ar kuru klients varēs rēķināties?  \n",
    "\n",
    "Šie visi jautājumi prasa vai nu varbūtību - skaitli robežās no 0 līdz 1 vai arī kādu statistisku metriku, kas apraksta kāda cita mēra (piem. vidējās vērtības) ticamību. "
   ]
  }
 ],
 "metadata": {
  "kernelspec": {
   "display_name": "Python 3",
   "language": "python",
   "name": "python3"
  },
  "language_info": {
   "codemirror_mode": {
    "name": "ipython",
    "version": 3
   },
   "file_extension": ".py",
   "mimetype": "text/x-python",
   "name": "python",
   "nbconvert_exporter": "python",
   "pygments_lexer": "ipython3",
   "version": "3.8.3"
  }
 },
 "nbformat": 4,
 "nbformat_minor": 4
}
