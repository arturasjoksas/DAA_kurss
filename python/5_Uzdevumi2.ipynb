{
 "cells": [
  {
   "cell_type": "markdown",
   "metadata": {},
   "source": [
    "Šajā failā:\n",
    "Praktiskie uzdevumi"
   ]
  },
  {
   "cell_type": "code",
   "execution_count": 1,
   "metadata": {},
   "outputs": [],
   "source": [
    "# Uzdevums:\n",
    "# Uzrakstiet funkciju f1, kura kā argumentus ņem cilvēka vārdu un uzvārdu \n",
    "# un tad izprintē tos vienā rindiņā, apgrieztā secībā ar atstarpi pa vidu"
   ]
  },
  {
   "cell_type": "code",
   "execution_count": 21,
   "metadata": {},
   "outputs": [],
   "source": [
    "# Uzdevums:\n",
    "# No dotā saraksta, izveidojiet un izprintējiet jaunu sarakstu, kurā nav skaitļu, kas dalās ar 2, \n",
    "# ievietojiet to mainīgajā 'x' un izprintējiet x\n",
    "\n",
    "saraksts = ['1', 'a', '14', 15, 14, 3, 'skaitlis', 2, 7, 4.0]\n",
    "#Sagaidāmā izvade būtu ['1' , 'a' ,'14' , 15 , 3 , 'skaitlis', 7]\n",
    "#Funkcijas izsaukšanu rakstīt šeit\n"
   ]
  },
  {
   "cell_type": "code",
   "execution_count": 20,
   "metadata": {},
   "outputs": [],
   "source": [
    "# Uzdevums (advancētāks) :\n",
    "# Uzrakstiet funkciju f3, kura kā argumentu ņem integeru n un tad izprintē skaitli, kurš ir vienāds ar n + nn + nnn\n",
    "# Piemēri:\n",
    "# ja n = 5, tad rezultāts būtu 5 + 55 + 555 = 615\n",
    "# ja n = 3, tad rezultāts būtu 3 + 33 + 333 = 369\n"
   ]
  },
  {
   "cell_type": "code",
   "execution_count": null,
   "metadata": {},
   "outputs": [],
   "source": [
    "# Uzdevums:\n",
    "# Uzrakstiet funkciju f4, kas kā argumentu ņem skaitli, kurš apzīmē sfēras rādiusu, un atgriež tās aprēķināto tilpumu."
   ]
  },
  {
   "cell_type": "code",
   "execution_count": 18,
   "metadata": {},
   "outputs": [],
   "source": [
    "# Uzdevums:\n",
    "# Izpētiet kā strādā iebūvētās bibliotēkas 'random' funkcija randrange (padoms: atrodiet piemēru internetā)\n",
    "# Uzrakstiet funkciju f5, kas, izmantojot funkciju 'randrange', \n",
    "# uzģenerē random skaitli intervālā no 1 līdz 10 un tad salīdzina to ar funkcijai padoto argumentu, \n",
    "# izprintējot atbildi vai padotais ir lielāks, mazāks vai vienāds ar ģenerēto.\n",
    "\n",
    "\n",
    "from random import randrange as rnd # Šī ir bibliotēkas import rindiņa. Neaiztikt.\n",
    "\n"
   ]
  },
  {
   "cell_type": "code",
   "execution_count": 1,
   "metadata": {},
   "outputs": [],
   "source": [
    "# Uzdevums:\n",
    "# Izpētīt kā strādā sekojošā bibliotēkas funkcija un izmantot to, lai izprintētu 4x4 matricu ar random skaitļiem intervālā 0 - 4\n",
    "# Dokumentācija pieejama šeit:\n",
    "# https://docs.scipy.org/doc/numpy-1.14.0/reference/generated/numpy.random.rand.html\n",
    "\n",
    "import numpy as np # Šī ir bibliotēkas import rindiņa. Neaiztikt.\n",
    "\n",
    "\n",
    "\n"
   ]
  },
  {
   "cell_type": "code",
   "execution_count": 2,
   "metadata": {},
   "outputs": [],
   "source": [
    "# No 2 dotajiem sarakstiem izveidojiet pandas DataFrame objektu (2x3 matrica), saglabājiet to mainīgajā z un izprintējiet mainīgo z.\n",
    "\n",
    "\n",
    "saraksts1 = [1,2,3]\n",
    "saraksts2 = [4,5,6]\n",
    "\n",
    "import pandas as pd\n"
   ]
  },
  {
   "cell_type": "code",
   "execution_count": null,
   "metadata": {},
   "outputs": [],
   "source": [
    "# Uzdevums:\n",
    "# Uzrakstiet for cilpu, kura izprintē visus skaitļus starp 1500 un 2701 (galapunktus ieskaitot), kuri dalās ar 7 un ar 5\n",
    "\n"
   ]
  },
  {
   "cell_type": "code",
   "execution_count": 1,
   "metadata": {},
   "outputs": [],
   "source": [
    "# Uzdevums:\n",
    "# Jums ir dota kādas aplikācijas konfigurāciju vārdnīca:\n",
    "\n",
    "configs = {\n",
    "        \"app\": \n",
    "        {\n",
    "            \"window_1\":\n",
    "            { \n",
    "                \"base\":\n",
    "                {\n",
    "                    \"title\": \"Sample Konfabulator Widget\",\n",
    "                    \"width\": 500,\n",
    "                    \"height\": 500\n",
    "                },\n",
    "                \"image\": \n",
    "                { \n",
    "                    \"src\": \"Images/Sun.png\",\n",
    "                    \"name\": \"sun1\",\n",
    "                    \"hOffset\": 250,\n",
    "                    \"vOffset\": 250,\n",
    "                    \"alignment\": \"center\"\n",
    "                },\n",
    "                \"text\": \n",
    "                {\n",
    "                    \"data\": \"Click Here\",\n",
    "                    \"size\": 36,\n",
    "                    \"style\": \"bold\",\n",
    "                    \"name\": \"text1\",\n",
    "                    \"hOffset\": 250,\n",
    "                    \"vOffset\": 100,\n",
    "                    \"alignment\": \"center\",\n",
    "                    \"onMouseUp\": \"sun1.opacity = (sun1.opacity / 100) * 90;\"\n",
    "                }\n",
    "            },\n",
    "            \"window_2\": \n",
    "            {\n",
    "                \"base\":\n",
    "                {\n",
    "                    \"title\": \"Sample Konfabulator Widget\",\n",
    "                    \"width\": 400,\n",
    "                    \"height\": 400\n",
    "                },\n",
    "                \"image\": \n",
    "                { \n",
    "                    \"src\": \"Images/Moon.png\",\n",
    "                    \"name\": \"sun1\",\n",
    "                    \"hOffset\": 250,\n",
    "                    \"vOffset\": 250,\n",
    "                    \"alignment\": \"center\"\n",
    "                },\n",
    "                \"text\": \n",
    "                {\n",
    "                    \"data\": \"Click Here\",\n",
    "                    \"size\": 36,\n",
    "                    \"style\": \"bold\",\n",
    "                    \"name\": \"text1\",\n",
    "                    \"hOffset\": 250,\n",
    "                    \"vOffset\": 100,\n",
    "                    \"alignment\": \"center\",\n",
    "                    \"onMouseUp\": \"moon1.opacity = (moon1.opacity / 100) * 90;\"\n",
    "                }\n",
    "            \n",
    "            }\n",
    "        }\n",
    "    }\n",
    "\n",
    "\n",
    "# Uzrakstiet divas funkcijas get_windows un find_size()\n",
    "\n",
    "# get_windows funkcijai kā arguments būtu jāņem aplikācijas konfigurāciju vārdnīca \n",
    "# un būtu jāatrod visi logi, kuri atrodās app`ā un jāatgriež to nosaukumi sarakstā\n",
    "\n",
    "# find_size funkcijai kā arguments būtu jāņem loga nosaukums un būtu jāatrod loga platums un augstums un jāatgriež tos sarakstā, \n",
    "# kārtība [<platums>, <augstums>]\n",
    "\n",
    "# Uzdevums ir ,izmantojot šīs divas funkcijas, \n",
    "# atrast visu aplikācijā sastopamo logu garumu un platumu (heigh, width) un izprintēt tos katram logam"
   ]
  },
  {
   "cell_type": "code",
   "execution_count": null,
   "metadata": {},
   "outputs": [],
   "source": []
  },
  {
   "cell_type": "code",
   "execution_count": null,
   "metadata": {},
   "outputs": [],
   "source": []
  },
  {
   "cell_type": "code",
   "execution_count": null,
   "metadata": {},
   "outputs": [],
   "source": []
  },
  {
   "cell_type": "code",
   "execution_count": null,
   "metadata": {},
   "outputs": [],
   "source": []
  },
  {
   "cell_type": "code",
   "execution_count": 1,
   "metadata": {},
   "outputs": [],
   "source": [
    "# Ar while ciklu var risināt sekojošu uzdevumu:\n",
    "# Atrodiet aptuveni pie cik grādiem cos funkcijas izvade ir vienāda ar tai padoto vērtību grādos.\n",
    "\n",
    "\n",
    "\n",
    "# Citiem vārdiem, atrisiniet vienādību cos(x) = x\n",
    "# Meklējiet intervālā [-90 grādi , + 90 grādi]\n",
    "\n",
    "\n",
    "# No oficiālās dokumentācijas: \n",
    "# math.cos(x)\n",
    "# Return the cosine of x radians.\n",
    "\n",
    "# math.fabs(x)\n",
    "# Return the absolute value of x.\n",
    "\n",
    "## Mazliet matemātikas: \n",
    "# cos(x) = x | no abām pusēm atņemam x\n",
    "# cos(x) - x = 0\n",
    "# cos(x) būs vienāds ar x, kad to starpība būs nulle\n",
    "\n",
    "import math\n",
    "\n",
    "# Šo funkciju neaiztikt\n",
    "def function(degrees):\n",
    "    radians = degrees/57.2957795 # grādu input pārvēršam radiānos, kuri ir nepieciešami math.cos funkcijai\n",
    "    return math.cos(radians) - radians\n"
   ]
  },
  {
   "cell_type": "code",
   "execution_count": 2,
   "metadata": {},
   "outputs": [],
   "source": [
    "# Uzdevums: \n",
    "# Mēģiniet, ar roku ievadot grādu vērtības, atrast aptuveno pareizo atbildi.\n"
   ]
  },
  {
   "cell_type": "code",
   "execution_count": null,
   "metadata": {},
   "outputs": [],
   "source": [
    "function()"
   ]
  },
  {
   "cell_type": "code",
   "execution_count": null,
   "metadata": {},
   "outputs": [],
   "source": [
    "function()"
   ]
  },
  {
   "cell_type": "code",
   "execution_count": null,
   "metadata": {},
   "outputs": [],
   "source": [
    "function()"
   ]
  },
  {
   "cell_type": "code",
   "execution_count": null,
   "metadata": {},
   "outputs": [],
   "source": [
    "# Kā šo varētu automatizēt? Varam lietot bisekcijas metodi."
   ]
  },
  {
   "cell_type": "markdown",
   "metadata": {},
   "source": [
    "Piezīme: Lai sekojošā metode darbotos vienādojuma labajā pusē vienmēr ir jābūt nullei jo tā izmanto funkcijas vērtību zīmes maiņu."
   ]
  },
  {
   "cell_type": "code",
   "execution_count": null,
   "metadata": {},
   "outputs": [],
   "source": [
    "\n",
    "left = -90 # Iestāda intervāla kreiso sākumpunktu\n",
    "right = 90 # Iestāda intervāla labo sākumpunktu\n",
    "\n",
    "while math.fabs(right - left) > 0.1: # Kamēr vien intervāls būš lielāks par 0.1 grādiem, veiksim šīs darbības\n",
    "    middle = (left + right) / 2 # Aprēķina intervāla viduspunktu\n",
    "    fleft = function(left) # Aprēķina fcijas vērtību intervāla kreisajā pusē\n",
    "    fmid = function(middle) # Aprēķina fcijas vērtību intervāla vidū\n",
    "    fright = function(right) # Aprēķina fcijas vērtību intervāla labajā pusē\n",
    "    print(math.fabs(right - left)) # Parādam cik liela ir intervālu starpība\n",
    "    if fleft * fmid < 0: # Šis strādā, jo mūsu interesējošajā intervālā funkcijas vērtībai būtu jāmainās zīmei\n",
    "        #Iestāda jaunās intervāla robežas\n",
    "        left = left\n",
    "        right = middle\n",
    "    if fmid * fright < 0:\n",
    "        #Iestāda jaunās intervāla robežas\n",
    "        left = middle\n",
    "        right = right"
   ]
  },
  {
   "cell_type": "code",
   "execution_count": null,
   "metadata": {},
   "outputs": [],
   "source": [
    "# Uzdevums (Advancēts): \n",
    "# Uzrakstiet divas funkcijas izteiksme() un bisekcija(), kuras risina vienādojumu sin(x) + cos(x) = x\n",
    "# fcijai izteiksme ir jābūt analogai fcijai function () t.i. ņem argumentu grādos un atgriež funkcijas vērtību.\n",
    "# fcijai bisekcija() būtu jāsatur bisekcijas loģika un kā argumenti jāņem:\n",
    "# * kļūdas intervāls\n",
    "# * kreisā intervāla puse\n",
    "# * labā intervāla puse\n",
    "# * funkcija, kuru pārbaudīt (skat. zemāk)\n",
    "# Funkcijai būtu jāatgriež aprēķinātais aptuvenais risinājums"
   ]
  },
  {
   "cell_type": "code",
   "execution_count": 10,
   "metadata": {},
   "outputs": [
    {
     "name": "stdout",
     "output_type": "stream",
     "text": [
      "6\n"
     ]
    }
   ],
   "source": [
    "# Šis darbojas jo fcijas var padot kā argumentus tās neizsaucot t.i. neliekot fcijas nosaukumam klāt iekavas\n",
    "# Nepieciešams vienīgi, lai f2 ir pareizi padod argumentus fcijai f1 savā body'ā\n",
    "def f1(a,b):\n",
    "    return a* b\n",
    "\n",
    "def f2(pirmais, otrais, tresais, fcija):\n",
    "    print(tresais * fcija(pirmais, otrais))\n",
    "\n",
    "f2(1,2,3,f1)"
   ]
  }
 ],
 "metadata": {
  "kernelspec": {
   "display_name": "Python 3",
   "language": "python",
   "name": "python3"
  },
  "language_info": {
   "codemirror_mode": {
    "name": "ipython",
    "version": 3
   },
   "file_extension": ".py",
   "mimetype": "text/x-python",
   "name": "python",
   "nbconvert_exporter": "python",
   "pygments_lexer": "ipython3",
   "version": "3.8.3"
  }
 },
 "nbformat": 4,
 "nbformat_minor": 2
}
