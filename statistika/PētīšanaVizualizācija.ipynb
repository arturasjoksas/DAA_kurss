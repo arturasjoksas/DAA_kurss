{
 "cells": [
  {
   "cell_type": "markdown",
   "metadata": {},
   "source": [
    "# Datu pētīšana"
   ]
  },
  {
   "cell_type": "markdown",
   "metadata": {},
   "source": [
    "Datus pētot un analizējot, mums var būt vairāki mērķi:  \n",
    "* Potenciālu sakarību meklēšana, lai tās ekstrapolētu, \n",
    "* Anomāliju/outlieru atrašana, \n",
    "* Konkrētu uzvedību atrašana, lai tās novērstu vai izslēgtu,\n",
    "* Atbildēšana uz konkrētiem jautājumiem, A/B testi u.t.t.  \n",
    "\n",
    "Tas nav nekāds pārsteigums, ka viens no spēcīgākajiem datu pētīšanas instrumentiem ir vienkārši paskatīšanās uz tiem. Laba datu vizualizācija var intuitīvi atbildēt uz gandrīz visiem jautājumiem, kuri par kādu datu kopu var rasties jo grafikā mēs vienkārši visu redzam. Šajā notebookā ir apkopoti piemēri ar tipiskām datu pētīšanas un attēlošanas pieejām un vairākiem bieži lietotiem vizualizāciju trikiem.  \n",
    "Lai gan grafiki un vizualizācijas tipiski ir datu apstrādes un  analīzes procesa pēdējais solis, sāksim ar to. "
   ]
  },
  {
   "cell_type": "markdown",
   "metadata": {},
   "source": [
    "## Y ass transformēšana    \n",
    "Populārs triks, lai padarītu eksponenciālas vai strauji augošas sakarības vizuāli uztveramākas ir transformēt Y asi.  \n",
    "Ja mums Y ass vērtības aug aptuveni eksponenciāli (vai ar jebkuras bāzes eksponentfunkciju $Y = a^X$) atkarībā no X ass, Y asi var logaritmēt.  \n",
    "Apskatīsim, ko mēs sagaidītu un tad paņemsim kādu dabiski eksponenciālu sakarību. Labs piemērs COVID-19 gadījumi ASV atkarībā no laika."
   ]
  },
  {
   "cell_type": "code",
   "execution_count": null,
   "metadata": {},
   "outputs": [],
   "source": [
    "import numpy as np\n",
    "import random\n",
    "\n",
    "import matplotlib.pyplot as plt\n",
    "import pandas as pd"
   ]
  },
  {
   "cell_type": "code",
   "execution_count": null,
   "metadata": {},
   "outputs": [],
   "source": [
    "# Izveidosim eksponenciālu datu kopu, ko vizualizēt:\n",
    "X = [i for i in range(0,40)]\n",
    "Y = [np.e**elem for elem in X]"
   ]
  },
  {
   "cell_type": "code",
   "execution_count": null,
   "metadata": {},
   "outputs": [],
   "source": [
    "# Šis ir eksponentes grafiks. \n",
    "plt.plot(X,Y)"
   ]
  },
  {
   "cell_type": "code",
   "execution_count": null,
   "metadata": {},
   "outputs": [],
   "source": [
    "# Logaritmēsim Y un izpētīsim kāds ir rezultāts\n",
    "Y_log = np.log(Y)\n",
    "plt.plot(X,Y_log)"
   ]
  },
  {
   "cell_type": "code",
   "execution_count": null,
   "metadata": {},
   "outputs": [],
   "source": [
    "%%bash\n",
    "curl -O https://raw.githubusercontent.com/nytimes/covid-19-data/master/us.csv"
   ]
  },
  {
   "cell_type": "code",
   "execution_count": null,
   "metadata": {},
   "outputs": [],
   "source": [
    "%%bash\n",
    "curl -O https://raw.githubusercontent.com/nytimes/covid-19-data/master/us-states.csv"
   ]
  },
  {
   "cell_type": "code",
   "execution_count": null,
   "metadata": {},
   "outputs": [],
   "source": [
    "total_data"
   ]
  },
  {
   "cell_type": "code",
   "execution_count": null,
   "metadata": {},
   "outputs": [],
   "source": [
    "total_data = pd.read_csv('us.csv')\n",
    "plt.plot(total_data['cases'])"
   ]
  },
  {
   "cell_type": "code",
   "execution_count": null,
   "metadata": {},
   "outputs": [],
   "source": [
    "states_data = pd.read_csv('us-states.csv')"
   ]
  },
  {
   "cell_type": "markdown",
   "metadata": {},
   "source": [
    "Viens no galvenajiem mērķiem cīnoties ar slimībām, kuras strauji izplatās, ir ierobežot šīs izplatīšanās fundamentāli eksponenciālo dabu. Izpētīsim inficēšanās ātrumu vienam no vissmagāk cietušajiem štatiem - NY."
   ]
  },
  {
   "cell_type": "code",
   "execution_count": null,
   "metadata": {},
   "outputs": [],
   "source": [
    "states_data['state'].unique()\n",
    "ca_pop = 39.51 * 10**6\n",
    "ny_pop = 19.4 * 10**6\n",
    "al_pop = 0.735 * 10**6"
   ]
  },
  {
   "cell_type": "code",
   "execution_count": null,
   "metadata": {},
   "outputs": [],
   "source": [
    "ny = states_data[states_data['state'] == 'New York']\n",
    "ny['log_cases'] = np.log(ny['cases'])\n",
    "plt.plot(ny['log_cases'],label='New York')"
   ]
  },
  {
   "cell_type": "markdown",
   "metadata": {},
   "source": [
    "Šajā grafikā nav ļoti acīmredzams kurā brīdī sākās eksponenciāla izplatība un kurā brīdī ierobežojumi to sāka ierobežot. Pieņemot, ka šī izplatība ir eksponenciāla, varam logaritmēt kolonnu `cases`."
   ]
  },
  {
   "cell_type": "code",
   "execution_count": null,
   "metadata": {},
   "outputs": [],
   "source": [
    "ny = states_data[states_data['state'] == 'New York']\n",
    "ny['log_cases'] = np.log(ny['cases'])\n",
    "plt.plot(ny['log_cases'],label='New York')\n",
    "\n",
    "# Atkārtosim šo pašu darbību ar piem. Aļasku un Kaliforniju\n",
    "al = states_data[states_data['state']== 'Alaska']\n",
    "al['log_cases'] = np.log(al['cases'])\n",
    "plt.plot(al['log_cases'],label='Alaska')\n",
    "\n",
    "ca = states_data[states_data['state']== 'California']\n",
    "ca['log_cases'] = np.log(ca['cases'])\n",
    "plt.plot(ca['log_cases'],label='California')\n",
    "\n",
    "plt.legend()"
   ]
  },
  {
   "cell_type": "code",
   "execution_count": null,
   "metadata": {},
   "outputs": [],
   "source": [
    "# Salīdzināsim šo ar tīru gadījumu grafiku.\n",
    "plt.plot(ny['cases'],label='New York')\n",
    "plt.plot(al['cases'],label='Alaska')\n",
    "plt.plot(ca['cases'],label='California')\n",
    "plt.legend()"
   ]
  },
  {
   "cell_type": "code",
   "execution_count": null,
   "metadata": {},
   "outputs": [],
   "source": [
    "# Kurš štats ir apturējis vīrusa eksponenciālu izplatību?\n",
    "# Ko mums vēl vajadzētu ar datiem izdarīt, lai iegūtu objektīvāku skatu?"
   ]
  },
  {
   "cell_type": "code",
   "execution_count": null,
   "metadata": {},
   "outputs": [],
   "source": []
  },
  {
   "cell_type": "code",
   "execution_count": null,
   "metadata": {},
   "outputs": [],
   "source": []
  }
 ],
 "metadata": {
  "kernelspec": {
   "display_name": "Python 3",
   "language": "python",
   "name": "python3"
  },
  "language_info": {
   "codemirror_mode": {
    "name": "ipython",
    "version": 3
   },
   "file_extension": ".py",
   "mimetype": "text/x-python",
   "name": "python",
   "nbconvert_exporter": "python",
   "pygments_lexer": "ipython3",
   "version": "3.7.5"
  }
 },
 "nbformat": 4,
 "nbformat_minor": 2
}
