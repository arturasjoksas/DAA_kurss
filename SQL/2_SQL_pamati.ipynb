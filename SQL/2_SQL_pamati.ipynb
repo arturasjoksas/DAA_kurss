{
 "cells": [
  {
   "cell_type": "code",
   "execution_count": null,
   "metadata": {},
   "outputs": [],
   "source": []
  },
  {
   "cell_type": "code",
   "execution_count": null,
   "metadata": {},
   "outputs": [],
   "source": []
  },
  {
   "cell_type": "code",
   "execution_count": 3,
   "metadata": {},
   "outputs": [],
   "source": [
    "import pandas as pd\n",
    "import getpass\n",
    "from sqlalchemy import create_engine\n",
    "from sqlalchemy.exc import ResourceClosedError"
   ]
  },
  {
   "cell_type": "code",
   "execution_count": null,
   "metadata": {},
   "outputs": [],
   "source": []
  },
  {
   "cell_type": "code",
   "execution_count": 4,
   "metadata": {},
   "outputs": [],
   "source": [
    "class MySQLConnection:\n",
    "    def __init__(self,user,hostname,db):\n",
    "        self.user = str(user)\n",
    "        self.hostname = str(hostname)\n",
    "        self.db = str(db)\n",
    "        pword = getpass.getpass(\"Enter password for user {}\".format(user))\n",
    "        # self.cnx = mysql.connector.connect(host=self.hostname,user=self.user, password=pword,database=self.db)\n",
    "        self.engine = create_engine(\"mysql+mysqlconnector://{}:{}@{}/{}\".format(user,pword,hostname,db))\n",
    "        self.cnx = self.engine.connect()\n",
    "    \n",
    "    def write_to_db(self, df, table_name):\n",
    "        try:\n",
    "            df.to_sql(table_name,con = self.cnx,if_exists='fail',index=False)\n",
    "        except Exception as e:\n",
    "            print(\"\\n SQL Write error with: \")\n",
    "            print(df,\"\\n\", e)\n",
    "    \n",
    "    def query(self,q):\n",
    "        try:\n",
    "            res = pd.read_sql(q,self.cnx)\n",
    "            return res\n",
    "        except ResourceClosedError:\n",
    "            print(\"Query success, nothing was returned\")"
   ]
  },
  {
   "cell_type": "code",
   "execution_count": 6,
   "metadata": {},
   "outputs": [
    {
     "name": "stdout",
     "output_type": "stream",
     "text": [
      "Enter password for user oskars_s········\n"
     ]
    }
   ],
   "source": [
    "sql = MySQLConnection('oskars_s','ec2-13-48-127-93.eu-north-1.compute.amazonaws.com','oskars_s')"
   ]
  },
  {
   "cell_type": "code",
   "execution_count": 7,
   "metadata": {},
   "outputs": [
    {
     "data": {
      "text/html": [
       "<div>\n",
       "<style scoped>\n",
       "    .dataframe tbody tr th:only-of-type {\n",
       "        vertical-align: middle;\n",
       "    }\n",
       "\n",
       "    .dataframe tbody tr th {\n",
       "        vertical-align: top;\n",
       "    }\n",
       "\n",
       "    .dataframe thead th {\n",
       "        text-align: right;\n",
       "    }\n",
       "</style>\n",
       "<table border=\"1\" class=\"dataframe\">\n",
       "  <thead>\n",
       "    <tr style=\"text-align: right;\">\n",
       "      <th></th>\n",
       "      <th>Tables_in_oskars_s</th>\n",
       "    </tr>\n",
       "  </thead>\n",
       "  <tbody>\n",
       "  </tbody>\n",
       "</table>\n",
       "</div>"
      ],
      "text/plain": [
       "Empty DataFrame\n",
       "Columns: [Tables_in_oskars_s]\n",
       "Index: []"
      ]
     },
     "execution_count": 7,
     "metadata": {},
     "output_type": "execute_result"
    }
   ],
   "source": [
    "sql.query(\"show tables\")"
   ]
  },
  {
   "cell_type": "markdown",
   "metadata": {},
   "source": []
  },
  {
   "cell_type": "code",
   "execution_count": null,
   "metadata": {},
   "outputs": [],
   "source": [
    "# a_code = pd.read_csv('access-code.csv',';')\n",
    "# a_code_pword_rec = pd.read_csv('access-code-password-recovery-code.csv',sep=';')\n",
    "# un_pw_rec_code = pd.read_csv('username-password-recovery-code.csv',sep=';')\n",
    "# un = pd.read_csv('username.csv',sep=';')\n",
    "# email = pd.read_csv('email.csv',sep=';')\n",
    "# un_email = pd.read_csv('username-or-email.csv',sep=';')\n",
    "# email_pw_rec = pd.read_csv('email-password-recovery-code.csv',sep=';')"
   ]
  },
  {
   "cell_type": "code",
   "execution_count": null,
   "metadata": {},
   "outputs": [],
   "source": [
    "# a_code.columns = ['Identifier', 'Firstname','Lastname']\n",
    "# a_code_pword_rec.columns = ['Identifier','Accesscode','Recoverycode','Firstname','Lastname','Department','Location']\n",
    "# un_pw_rec_code.columns = ['Username','Identifier','Onetimepassword','Recoverycode','Firstname','Lastname','Department','Location']\n",
    "# un.columns = ['Username', 'Identifier', 'Firstname','Lastname']\n",
    "# email.columns = ['Loginemail','Identifier', 'Firstname','Lastname']\n",
    "# un_email.columns = ['Username','Loginemail','Identifier', 'Firstname','Lastname']\n",
    "# email_pw_rec.columns = ['Loginemail','Identifier','Onetimepassword','Recoverycode', 'Firstname','Lastname','Department','Location']"
   ]
  },
  {
   "cell_type": "code",
   "execution_count": null,
   "metadata": {},
   "outputs": [],
   "source": []
  },
  {
   "cell_type": "code",
   "execution_count": null,
   "metadata": {},
   "outputs": [],
   "source": [
    "# # ŠĪ ŠŪNA JĀIZPILDA VIENREIZ!\n",
    "\n",
    "# if not check:\n",
    "#     sql.write_to_db(a_code,'access_code')\n",
    "#     sql.write_to_db(a_code_pword_rec,'access_code_password_recovery_code')\n",
    "#     sql.write_to_db(un_pw_rec_code,'username_password_recovery_code')\n",
    "#     sql.write_to_db(un,'username')\n",
    "#     sql.write_to_db(email,'email')\n",
    "#     sql.write_to_db(un_email,'username_or_email')\n",
    "#     sql.write_to_db(email_pw_rec,'email_password_recovery_code')\n",
    "#     check = True"
   ]
  },
  {
   "cell_type": "markdown",
   "metadata": {},
   "source": [
    "# INSERT INTO    \n",
    "INSERT INTO komnada ir paredzēta rindiņu ierakstīšanai tabulā. Insert ir divi paveidi.  \n",
    "INSERT INTO \\< tabulas nosauk \\> VALUES ( \\< vērtības sarakstītas atbilstoši kolonnu secībai \\> )  \n",
    "INSERT INTO \\< tabulas nosauk \\> \\< select apgalvojums, kurš atgriež kolonnas secībai, kas atbilsti tabulai, kurā tiek veikts ieraksts \\>"
   ]
  },
  {
   "cell_type": "code",
   "execution_count": null,
   "metadata": {},
   "outputs": [],
   "source": [
    "# Insert into values piemērs:\n",
    "sql.query(\"select * from email\") #Paskatamies, kas atrodās tabulā email"
   ]
  },
  {
   "cell_type": "code",
   "execution_count": null,
   "metadata": {},
   "outputs": [],
   "source": [
    "# Pirms kaut ko ievadam tabulā, izveidojam tabulas email dublējumu\n",
    "\n",
    "# Uzdevums: Izveidot tabulu email_cp, kura ir identiska tabulai email\n",
    "# sql.query(\"create table email_cp as select * from email\")"
   ]
  },
  {
   "cell_type": "code",
   "execution_count": null,
   "metadata": {},
   "outputs": [],
   "source": []
  },
  {
   "cell_type": "code",
   "execution_count": null,
   "metadata": {},
   "outputs": [],
   "source": [
    "# Pirms ejam tālāk, pārliecinamies, ka tabula email tiešām ir duplicēta\n",
    "sql.query(\"select * from email_cp\")"
   ]
  },
  {
   "cell_type": "code",
   "execution_count": null,
   "metadata": {},
   "outputs": [],
   "source": [
    "insert_q = \"\"\"\n",
    "insert into email values('vards.uzvards@example.com', 5678, 'vards', 'uzvards')\n",
    "\"\"\"\n",
    "\n",
    "# Vai šis nostrādās? Ko mēs sagaidītu rezultātā?\n",
    "\n",
    "sql.query(insert_q)"
   ]
  },
  {
   "cell_type": "code",
   "execution_count": null,
   "metadata": {},
   "outputs": [],
   "source": [
    "# Insert into select piemērs:\n",
    "# Pieņemsim, ka vēlamies papildināt email tabulu ar ierakstiem no tabulas username_or_email. No sākuma to apskatīsim.\n",
    "sql.query(\"select * from username_or_email\")"
   ]
  },
  {
   "cell_type": "code",
   "execution_count": null,
   "metadata": {},
   "outputs": [],
   "source": [
    "insert_select_q = \"\"\" \n",
    "insert into email \n",
    "select \n",
    "    loginemail,\n",
    "    identifier, \n",
    "    firstname, \n",
    "    lastname \n",
    "from  \n",
    "    username_or_email\n",
    "\"\"\"\n",
    "\n",
    "# Divas lietas, ko šeit ievērot:\n",
    "\n",
    "# 1. Šeit tikai lietots WHERE filtrs. Vai ir kāds arguments, lai to nelietotu šajā gadījumā? Un vispārīgākā?\n",
    "\n",
    "# 2. Lai gan pandas DataFrame mums trūkstošās vērtības apraksta kā 'None', SQL pareizā sintakse ir NULL\n"
   ]
  },
  {
   "cell_type": "code",
   "execution_count": null,
   "metadata": {},
   "outputs": [],
   "source": [
    "sql.query(\"select * from email\")"
   ]
  },
  {
   "cell_type": "code",
   "execution_count": null,
   "metadata": {},
   "outputs": [],
   "source": [
    "sql.query(insert_select_q)"
   ]
  },
  {
   "cell_type": "code",
   "execution_count": null,
   "metadata": {},
   "outputs": [],
   "source": [
    "# Apskatīsim kā tabula email izskatās tagad\n",
    "sql.query(\"select * from email\")"
   ]
  },
  {
   "cell_type": "code",
   "execution_count": null,
   "metadata": {},
   "outputs": [],
   "source": [
    "# Mums tabulā ir izveidojušās duplikātrindas. Vienam indeksam vairs neatbilst tikai viens ieraksts. \n",
    "# Šo situāciju var labot sekojoši:\n",
    "\n",
    "\n",
    "sql.query(\"create table email_table as select distinct * from email\") # Uztaisam tabulu tikai ar unikālajiem ierakstiem no tabulas email\n",
    "sql.query(\"drop table email\") # Izdzēšam email tabulu\n",
    "sql.query(\"rename table email_table to email\") # pārsaucam unikālo email iekrastu tabulu par email"
   ]
  },
  {
   "cell_type": "code",
   "execution_count": null,
   "metadata": {},
   "outputs": [],
   "source": []
  },
  {
   "cell_type": "markdown",
   "metadata": {},
   "source": [
    "# DELETE, ALTER TABLE un DROP funkcijas  \n",
    "DELETE vispārīgā gadījumā ir paredzēts, lai bāzējoties uz kritēriju dzēstu rindiņas izvēlētā tabulā.  \n",
    "DROP vispārīgā gadījumā tiek lietots, lai izdzēstu izvēlēto tabulu, kolonnu vai datubāzi  \n"
   ]
  },
  {
   "cell_type": "code",
   "execution_count": 5,
   "metadata": {},
   "outputs": [
    {
     "name": "stdout",
     "output_type": "stream",
     "text": [
      "Query success, nothing was returned\n"
     ]
    }
   ],
   "source": [
    "# Ievietosim tabulā username jaunu lietotāju, ko pēc tam izdzēsīsim:\n",
    "sql.query(\"insert into username values('arthur90', 3972, 'Arthur','Cohen')\")"
   ]
  },
  {
   "cell_type": "code",
   "execution_count": 6,
   "metadata": {},
   "outputs": [
    {
     "data": {
      "text/html": [
       "<div>\n",
       "<style scoped>\n",
       "    .dataframe tbody tr th:only-of-type {\n",
       "        vertical-align: middle;\n",
       "    }\n",
       "\n",
       "    .dataframe tbody tr th {\n",
       "        vertical-align: top;\n",
       "    }\n",
       "\n",
       "    .dataframe thead th {\n",
       "        text-align: right;\n",
       "    }\n",
       "</style>\n",
       "<table border=\"1\" class=\"dataframe\">\n",
       "  <thead>\n",
       "    <tr style=\"text-align: right;\">\n",
       "      <th></th>\n",
       "      <th>Username</th>\n",
       "      <th>Identifier</th>\n",
       "      <th>Firstname</th>\n",
       "      <th>Lastname</th>\n",
       "    </tr>\n",
       "  </thead>\n",
       "  <tbody>\n",
       "    <tr>\n",
       "      <th>0</th>\n",
       "      <td>booker12</td>\n",
       "      <td>9012</td>\n",
       "      <td>Rachel</td>\n",
       "      <td>Booker</td>\n",
       "    </tr>\n",
       "    <tr>\n",
       "      <th>1</th>\n",
       "      <td>grey07</td>\n",
       "      <td>2070</td>\n",
       "      <td>Laura</td>\n",
       "      <td>Grey</td>\n",
       "    </tr>\n",
       "    <tr>\n",
       "      <th>2</th>\n",
       "      <td>johnson81</td>\n",
       "      <td>4081</td>\n",
       "      <td>Craig</td>\n",
       "      <td>Johnson</td>\n",
       "    </tr>\n",
       "    <tr>\n",
       "      <th>3</th>\n",
       "      <td>jenkins46</td>\n",
       "      <td>9346</td>\n",
       "      <td>Mary</td>\n",
       "      <td>Jenkins</td>\n",
       "    </tr>\n",
       "    <tr>\n",
       "      <th>4</th>\n",
       "      <td>smith79</td>\n",
       "      <td>5079</td>\n",
       "      <td>Jamie</td>\n",
       "      <td>Smith</td>\n",
       "    </tr>\n",
       "    <tr>\n",
       "      <th>5</th>\n",
       "      <td>arthur90</td>\n",
       "      <td>3972</td>\n",
       "      <td>Arthur</td>\n",
       "      <td>Cohen</td>\n",
       "    </tr>\n",
       "  </tbody>\n",
       "</table>\n",
       "</div>"
      ],
      "text/plain": [
       "    Username  Identifier Firstname Lastname\n",
       "0   booker12        9012    Rachel   Booker\n",
       "1     grey07        2070     Laura     Grey\n",
       "2  johnson81        4081     Craig  Johnson\n",
       "3  jenkins46        9346      Mary  Jenkins\n",
       "4    smith79        5079     Jamie    Smith\n",
       "5   arthur90        3972    Arthur    Cohen"
      ]
     },
     "execution_count": 6,
     "metadata": {},
     "output_type": "execute_result"
    }
   ],
   "source": [
    "sql.query(\"select * from username\") # Apskatīsim username tabulu"
   ]
  },
  {
   "cell_type": "code",
   "execution_count": 7,
   "metadata": {},
   "outputs": [
    {
     "name": "stdout",
     "output_type": "stream",
     "text": [
      "Query success, nothing was returned\n"
     ]
    }
   ],
   "source": [
    "# Tagad izdzēsīsim tabulas username ierakstu\n",
    "sql.query(\"delete from username where Identifier=3971 or Identifier=3972\")"
   ]
  },
  {
   "cell_type": "code",
   "execution_count": 10,
   "metadata": {},
   "outputs": [
    {
     "data": {
      "text/html": [
       "<div>\n",
       "<style scoped>\n",
       "    .dataframe tbody tr th:only-of-type {\n",
       "        vertical-align: middle;\n",
       "    }\n",
       "\n",
       "    .dataframe tbody tr th {\n",
       "        vertical-align: top;\n",
       "    }\n",
       "\n",
       "    .dataframe thead th {\n",
       "        text-align: right;\n",
       "    }\n",
       "</style>\n",
       "<table border=\"1\" class=\"dataframe\">\n",
       "  <thead>\n",
       "    <tr style=\"text-align: right;\">\n",
       "      <th></th>\n",
       "      <th>Username</th>\n",
       "      <th>Identifier</th>\n",
       "      <th>Firstname</th>\n",
       "      <th>Lastname</th>\n",
       "    </tr>\n",
       "  </thead>\n",
       "  <tbody>\n",
       "    <tr>\n",
       "      <th>0</th>\n",
       "      <td>booker12</td>\n",
       "      <td>9012</td>\n",
       "      <td>Rachel</td>\n",
       "      <td>Booker</td>\n",
       "    </tr>\n",
       "    <tr>\n",
       "      <th>1</th>\n",
       "      <td>grey07</td>\n",
       "      <td>2070</td>\n",
       "      <td>Laura</td>\n",
       "      <td>Grey</td>\n",
       "    </tr>\n",
       "    <tr>\n",
       "      <th>2</th>\n",
       "      <td>johnson81</td>\n",
       "      <td>4081</td>\n",
       "      <td>Craig</td>\n",
       "      <td>Johnson</td>\n",
       "    </tr>\n",
       "    <tr>\n",
       "      <th>3</th>\n",
       "      <td>jenkins46</td>\n",
       "      <td>9346</td>\n",
       "      <td>Mary</td>\n",
       "      <td>Jenkins</td>\n",
       "    </tr>\n",
       "    <tr>\n",
       "      <th>4</th>\n",
       "      <td>smith79</td>\n",
       "      <td>5079</td>\n",
       "      <td>Jamie</td>\n",
       "      <td>Smith</td>\n",
       "    </tr>\n",
       "    <tr>\n",
       "      <th>5</th>\n",
       "      <td>cjohnson</td>\n",
       "      <td>4081</td>\n",
       "      <td>Craig</td>\n",
       "      <td>Johnson</td>\n",
       "    </tr>\n",
       "  </tbody>\n",
       "</table>\n",
       "</div>"
      ],
      "text/plain": [
       "    Username  Identifier Firstname Lastname\n",
       "0   booker12        9012    Rachel   Booker\n",
       "1     grey07        2070     Laura     Grey\n",
       "2  johnson81        4081     Craig  Johnson\n",
       "3  jenkins46        9346      Mary  Jenkins\n",
       "4    smith79        5079     Jamie    Smith\n",
       "5   cjohnson        4081     Craig  Johnson"
      ]
     },
     "execution_count": 10,
     "metadata": {},
     "output_type": "execute_result"
    }
   ],
   "source": [
    "# Apskatīsimies vai ieraksts tiešām ir pazudis:\n",
    "sql.query(\"select * from username\")"
   ]
  },
  {
   "cell_type": "code",
   "execution_count": 9,
   "metadata": {},
   "outputs": [
    {
     "name": "stdout",
     "output_type": "stream",
     "text": [
      "Query success, nothing was returned\n"
     ]
    }
   ],
   "source": [
    "# Uzdevums:\n",
    "# Craig Johnson ir piešķirts jauns lietotājvārds. skat. nākamo rindiņu.\n",
    "sql.query(\"insert into username values('cjohnson', 4081, 'Craig','Johnson')\")\n",
    "# Izdzēsiet vecā lietotājvārda ierakstu"
   ]
  },
  {
   "cell_type": "code",
   "execution_count": null,
   "metadata": {},
   "outputs": [],
   "source": [
    "# Jautājums:\n",
    "# Vai delete where būtu lietojams, lai atbrīvotos no duplikātiem?"
   ]
  },
  {
   "cell_type": "markdown",
   "metadata": {},
   "source": [
    "DELETE tika lietots, lai dzēstu rindas, bet neietekmēja datubāzes shēmu (datubāzu, tabulu un kolonnu nosaukumus un tipus). Tipiski visa informācija tabulās tiek glabāta nevis kolonnās, bet rindās. Rindas ir dinamiskas, bet shēma paliek nemainīga (statiska).  \n",
    "\n",
    "Tomēr, lai gan shēmu nav paredzēts dinamiski mainīt, to ir iespējams darīt ar DROP.\n",
    "DROP funkcija var dzēst datubāzes, tabulas un tabulu kolonnas.  \n",
    "DROP funkciju pirms tam esam lietojuši, lai dzēstu datubāzes un tabulas, bet to var lietot, lai dzēstu arī kolonnas."
   ]
  },
  {
   "cell_type": "code",
   "execution_count": null,
   "metadata": {},
   "outputs": [],
   "source": [
    "# Uzdevums:\n",
    "# 1.Izveidojiet tabulu tests, kurā ir 3 kolonnas: \n",
    "# a - integer tipa kolonna, b - text tipa kolonna, c - mainīgu simbolu (20) virkne\n",
    "\n",
    "# 2. Ievietojiet šajā tabulā trīs rindiņas ar patvaļīgiem datiem."
   ]
  },
  {
   "cell_type": "code",
   "execution_count": null,
   "metadata": {},
   "outputs": [],
   "source": [
    "sql.query(\"create table test (a int, b text, c varchar(20))\")"
   ]
  },
  {
   "cell_type": "code",
   "execution_count": null,
   "metadata": {},
   "outputs": [],
   "source": [
    "# sql.query(\"insert into test values(0,'nulle','nullesvertiba')\")\n",
    "# sql.query(\"insert into test values(1, 'viens','viensvertiba')\")\n",
    "# sql.query(\"insert into test values(2, 'divi','divivertiba')\")\n",
    "\n",
    "sql.query(\"insert into test values(4,NULL,'')\")"
   ]
  },
  {
   "cell_type": "code",
   "execution_count": null,
   "metadata": {},
   "outputs": [],
   "source": [
    "sql.query(\"select * from test\")"
   ]
  },
  {
   "cell_type": "markdown",
   "metadata": {},
   "source": [
    "Ja mēs gribētu no šīs tabulas izdzēst kolonnu, to varētu darīt līdzīgi, kā likvidējām duplikātus.  \n",
    "1. Izveidojam tabulas kopiju, kurā nav nevēlamās kolonnas\n",
    "2. DROP sākotnējo tabulu\n",
    "3. Pārsaucam kopiju sākotnējās tabulas vārdā\n",
    "\n",
    "Savādāk, varam izmantot DROP komandu, ievietojot to zem ALTER TABLE.  "
   ]
  },
  {
   "cell_type": "code",
   "execution_count": null,
   "metadata": {},
   "outputs": [],
   "source": [
    "sql.query(\"alter table test drop column a\")"
   ]
  },
  {
   "cell_type": "code",
   "execution_count": null,
   "metadata": {},
   "outputs": [],
   "source": [
    "sql.query(\"select * from test\") #Tagad apskatīsim kā tabula izskatās tagad"
   ]
  },
  {
   "cell_type": "markdown",
   "metadata": {},
   "source": [
    "ALTER TABLE lieto, lai arī pievienotu kolonnas. Vispārīgā sintake ir sekojoša:  \n",
    "ALTER TABLE \\< tabulas nosaukums \\> ADD COLUMN \\< kolonnas nosaukums \\> \\< kolonnas tips \\>"
   ]
  },
  {
   "cell_type": "code",
   "execution_count": null,
   "metadata": {},
   "outputs": [],
   "source": [
    "# Kolonnas pievienošanas piemērs:\n",
    "sql.query(\"alter table tests add column teksta_kolonna text\")"
   ]
  },
  {
   "cell_type": "code",
   "execution_count": null,
   "metadata": {},
   "outputs": [],
   "source": []
  },
  {
   "cell_type": "markdown",
   "metadata": {},
   "source": [
    "# UPDATE funkcija  \n",
    "UPDATE strādā ļoti līdzīgi kā DELETE. Rindās, kuras atbilst kritērijam, norādīto kolonnu vērtības tiek nomainītas uz citām."
   ]
  },
  {
   "cell_type": "code",
   "execution_count": null,
   "metadata": {},
   "outputs": [],
   "source": [
    "# Veiksim šo darbību ar username_or_email tabulu.\n",
    "sql.query(\"select * from username_or_email\")"
   ]
  },
  {
   "cell_type": "code",
   "execution_count": null,
   "metadata": {},
   "outputs": [],
   "source": [
    "sql.query(\"update username_or_email set loginemail = 'Nenoradits' where loginemail is NULL\")\n",
    "\n",
    "# Jautājums: \n",
    "# Kāda priekšrocība varētu būt paredzēto NULL vērtību iestādīšanai uz kādu specifisku vērtību?"
   ]
  },
  {
   "cell_type": "code",
   "execution_count": null,
   "metadata": {},
   "outputs": [],
   "source": [
    "sql.query(\"select * from username_or_email\")"
   ]
  },
  {
   "cell_type": "markdown",
   "metadata": {},
   "source": [
    "# Aliasi  \n",
    "SELECT statementā ir iespējams pārsaukt kolonnas vai tabulas. Praktiski tas bieži tiek lietots JOIN statementos, tabulu vietā lietojot citu SELECT rezultātus un ar COUNT/SUM/AVG/MAX/MIN funkciju rezultātu pārsaukšanu.  \n",
    "Aliasam piesaistītais atslēgvārds ir AS  "
   ]
  },
  {
   "cell_type": "code",
   "execution_count": 11,
   "metadata": {},
   "outputs": [
    {
     "data": {
      "text/html": [
       "<div>\n",
       "<style scoped>\n",
       "    .dataframe tbody tr th:only-of-type {\n",
       "        vertical-align: middle;\n",
       "    }\n",
       "\n",
       "    .dataframe tbody tr th {\n",
       "        vertical-align: top;\n",
       "    }\n",
       "\n",
       "    .dataframe thead th {\n",
       "        text-align: right;\n",
       "    }\n",
       "</style>\n",
       "<table border=\"1\" class=\"dataframe\">\n",
       "  <thead>\n",
       "    <tr style=\"text-align: right;\">\n",
       "      <th></th>\n",
       "      <th>id</th>\n",
       "      <th>lc</th>\n",
       "      <th>dp</th>\n",
       "    </tr>\n",
       "  </thead>\n",
       "  <tbody>\n",
       "    <tr>\n",
       "      <th>0</th>\n",
       "      <td>9012</td>\n",
       "      <td>Manchester</td>\n",
       "      <td>Sales</td>\n",
       "    </tr>\n",
       "    <tr>\n",
       "      <th>1</th>\n",
       "      <td>2070</td>\n",
       "      <td>London</td>\n",
       "      <td>Depot</td>\n",
       "    </tr>\n",
       "    <tr>\n",
       "      <th>2</th>\n",
       "      <td>4081</td>\n",
       "      <td>London</td>\n",
       "      <td>Depot</td>\n",
       "    </tr>\n",
       "    <tr>\n",
       "      <th>3</th>\n",
       "      <td>9346</td>\n",
       "      <td>Manchester</td>\n",
       "      <td>Engineering</td>\n",
       "    </tr>\n",
       "    <tr>\n",
       "      <th>4</th>\n",
       "      <td>5079</td>\n",
       "      <td>Manchester</td>\n",
       "      <td>Engineering</td>\n",
       "    </tr>\n",
       "  </tbody>\n",
       "</table>\n",
       "</div>"
      ],
      "text/plain": [
       "     id          lc           dp\n",
       "0  9012  Manchester        Sales\n",
       "1  2070      London        Depot\n",
       "2  4081      London        Depot\n",
       "3  9346  Manchester  Engineering\n",
       "4  5079  Manchester  Engineering"
      ]
     },
     "execution_count": 11,
     "metadata": {},
     "output_type": "execute_result"
    }
   ],
   "source": [
    "# Piemērs:\n",
    "# Mēs vēlamies SELECT outputā pārsaukt kolonnas, \n",
    "# lai pēc tam ar JOIN funkciju būtu viegli un pārskatāmi uz tām atsaukties\n",
    "\n",
    "alias_q_example = \"\"\"\n",
    "select \n",
    "    Identifier as id,\n",
    "    location as lc,\n",
    "    department as dp\n",
    "from\n",
    "    username_password_recovery_code as code\n",
    "\"\"\"\n",
    "\n",
    "sql.query(alias_q_example)"
   ]
  },
  {
   "cell_type": "code",
   "execution_count": 14,
   "metadata": {},
   "outputs": [
    {
     "data": {
      "text/html": [
       "<div>\n",
       "<style scoped>\n",
       "    .dataframe tbody tr th:only-of-type {\n",
       "        vertical-align: middle;\n",
       "    }\n",
       "\n",
       "    .dataframe tbody tr th {\n",
       "        vertical-align: top;\n",
       "    }\n",
       "\n",
       "    .dataframe thead th {\n",
       "        text-align: right;\n",
       "    }\n",
       "</style>\n",
       "<table border=\"1\" class=\"dataframe\">\n",
       "  <thead>\n",
       "    <tr style=\"text-align: right;\">\n",
       "      <th></th>\n",
       "      <th>MN_employee_count</th>\n",
       "    </tr>\n",
       "  </thead>\n",
       "  <tbody>\n",
       "    <tr>\n",
       "      <th>0</th>\n",
       "      <td>3</td>\n",
       "    </tr>\n",
       "  </tbody>\n",
       "</table>\n",
       "</div>"
      ],
      "text/plain": [
       "   MN_employee_count\n",
       "0                  3"
      ]
     },
     "execution_count": 14,
     "metadata": {},
     "output_type": "execute_result"
    }
   ],
   "source": [
    "# Piemērs:\n",
    "# Pieņemsim mums priekš kopsavilkuma reportā ir jāsaskaita cik mums ir darbinieku Mančesterā.\n",
    "sql.query(\"select count(*) as MN_employee_count from username_password_recovery_code where location = 'Manchester'\")"
   ]
  },
  {
   "cell_type": "markdown",
   "metadata": {},
   "source": [
    "# JOIN funkcijas prakse  \n",
    "http://www.sql-join.com/sql-join-types"
   ]
  },
  {
   "cell_type": "code",
   "execution_count": 16,
   "metadata": {},
   "outputs": [],
   "source": [
    "# No sākuma uztaisīsim tabulas\n",
    "# 1. Ielādējiet no sekojošajiem linkiem csv failus un ielieciet tos datubāzē dati kā tabulas customers un orders\n",
    "# https://raw.githubusercontent.com/reversedego/RCS_course/master/3_sql_DBs/customer.csv\n",
    "# https://raw.githubusercontent.com/reversedego/RCS_course/master/3_sql_DBs/order.csv\n",
    "\n",
    "\n",
    "# customers = pd.read_csv('customer.csv',sep=',')\n",
    "orders = pd.read_csv('order.csv',sep=',')\n",
    "\n",
    "# sql.write_to_db(customers,'customers')\n",
    "sql.write_to_db(orders,'orders')"
   ]
  },
  {
   "cell_type": "code",
   "execution_count": null,
   "metadata": {},
   "outputs": [],
   "source": []
  },
  {
   "cell_type": "code",
   "execution_count": null,
   "metadata": {},
   "outputs": [],
   "source": []
  },
  {
   "cell_type": "code",
   "execution_count": 10,
   "metadata": {},
   "outputs": [
    {
     "data": {
      "text/html": [
       "<div>\n",
       "<style scoped>\n",
       "    .dataframe tbody tr th:only-of-type {\n",
       "        vertical-align: middle;\n",
       "    }\n",
       "\n",
       "    .dataframe tbody tr th {\n",
       "        vertical-align: top;\n",
       "    }\n",
       "\n",
       "    .dataframe thead th {\n",
       "        text-align: right;\n",
       "    }\n",
       "</style>\n",
       "<table border=\"1\" class=\"dataframe\">\n",
       "  <thead>\n",
       "    <tr style=\"text-align: right;\">\n",
       "      <th></th>\n",
       "      <th>customer_id</th>\n",
       "      <th>address</th>\n",
       "      <th>first_name</th>\n",
       "      <th>last_name</th>\n",
       "      <th>amount</th>\n",
       "    </tr>\n",
       "  </thead>\n",
       "  <tbody>\n",
       "    <tr>\n",
       "      <th>0</th>\n",
       "      <td>1</td>\n",
       "      <td>3200 Mt Vernon Hwy</td>\n",
       "      <td>George</td>\n",
       "      <td>Washington</td>\n",
       "      <td>$234.56</td>\n",
       "    </tr>\n",
       "    <tr>\n",
       "      <th>1</th>\n",
       "      <td>3</td>\n",
       "      <td>931 Thomas Jefferson Pkwy</td>\n",
       "      <td>Thomas</td>\n",
       "      <td>Jefferson</td>\n",
       "      <td>$78.50</td>\n",
       "    </tr>\n",
       "    <tr>\n",
       "      <th>2</th>\n",
       "      <td>2</td>\n",
       "      <td>1250 Hancock St</td>\n",
       "      <td>John</td>\n",
       "      <td>Adams</td>\n",
       "      <td>$124.00</td>\n",
       "    </tr>\n",
       "    <tr>\n",
       "      <th>3</th>\n",
       "      <td>3</td>\n",
       "      <td>931 Thomas Jefferson Pkwy</td>\n",
       "      <td>Thomas</td>\n",
       "      <td>Jefferson</td>\n",
       "      <td>$65.50</td>\n",
       "    </tr>\n",
       "  </tbody>\n",
       "</table>\n",
       "</div>"
      ],
      "text/plain": [
       "   customer_id                    address first_name   last_name   amount\n",
       "0            1         3200 Mt Vernon Hwy     George  Washington  $234.56\n",
       "1            3  931 Thomas Jefferson Pkwy     Thomas   Jefferson   $78.50\n",
       "2            2            1250 Hancock St       John       Adams  $124.00\n",
       "3            3  931 Thomas Jefferson Pkwy     Thomas   Jefferson   $65.50"
      ]
     },
     "execution_count": 10,
     "metadata": {},
     "output_type": "execute_result"
    }
   ],
   "source": [
    "# 2. Salabojiet sekojošo vaicājumu, lai tiktu atgriezta tikai kurjeram svarīgā informācija\n",
    "query = \"\"\"\n",
    "select \n",
    "    customers.customer_id,\n",
    "    customers.address,\n",
    "    customers.first_name,\n",
    "    customers.last_name,\n",
    "    orders.amount\n",
    "from \n",
    "    customers join orders on \n",
    "    customers.customer_id = orders.customer_id\n",
    "\"\"\"\n",
    "sql.query(query)"
   ]
  },
  {
   "cell_type": "code",
   "execution_count": 11,
   "metadata": {},
   "outputs": [
    {
     "data": {
      "text/html": [
       "<div>\n",
       "<style scoped>\n",
       "    .dataframe tbody tr th:only-of-type {\n",
       "        vertical-align: middle;\n",
       "    }\n",
       "\n",
       "    .dataframe tbody tr th {\n",
       "        vertical-align: top;\n",
       "    }\n",
       "\n",
       "    .dataframe thead th {\n",
       "        text-align: right;\n",
       "    }\n",
       "</style>\n",
       "<table border=\"1\" class=\"dataframe\">\n",
       "  <thead>\n",
       "    <tr style=\"text-align: right;\">\n",
       "      <th></th>\n",
       "      <th>order_id</th>\n",
       "      <th>order_date</th>\n",
       "      <th>amount</th>\n",
       "      <th>customer_id</th>\n",
       "    </tr>\n",
       "  </thead>\n",
       "  <tbody>\n",
       "    <tr>\n",
       "      <th>0</th>\n",
       "      <td>1</td>\n",
       "      <td>07/04/1776</td>\n",
       "      <td>$234.56</td>\n",
       "      <td>1</td>\n",
       "    </tr>\n",
       "    <tr>\n",
       "      <th>1</th>\n",
       "      <td>2</td>\n",
       "      <td>03/14/1760</td>\n",
       "      <td>$78.50</td>\n",
       "      <td>3</td>\n",
       "    </tr>\n",
       "    <tr>\n",
       "      <th>2</th>\n",
       "      <td>3</td>\n",
       "      <td>05/23/1784</td>\n",
       "      <td>$124.00</td>\n",
       "      <td>2</td>\n",
       "    </tr>\n",
       "    <tr>\n",
       "      <th>3</th>\n",
       "      <td>4</td>\n",
       "      <td>09/03/1790</td>\n",
       "      <td>$65.50</td>\n",
       "      <td>3</td>\n",
       "    </tr>\n",
       "    <tr>\n",
       "      <th>4</th>\n",
       "      <td>5</td>\n",
       "      <td>07/21/1795</td>\n",
       "      <td>$25.50</td>\n",
       "      <td>10</td>\n",
       "    </tr>\n",
       "    <tr>\n",
       "      <th>5</th>\n",
       "      <td>6</td>\n",
       "      <td>11/27/1787</td>\n",
       "      <td>$14.40</td>\n",
       "      <td>9</td>\n",
       "    </tr>\n",
       "  </tbody>\n",
       "</table>\n",
       "</div>"
      ],
      "text/plain": [
       "   order_id  order_date   amount  customer_id\n",
       "0         1  07/04/1776  $234.56            1\n",
       "1         2  03/14/1760   $78.50            3\n",
       "2         3  05/23/1784  $124.00            2\n",
       "3         4  09/03/1790   $65.50            3\n",
       "4         5  07/21/1795   $25.50           10\n",
       "5         6  11/27/1787   $14.40            9"
      ]
     },
     "execution_count": 11,
     "metadata": {},
     "output_type": "execute_result"
    }
   ],
   "source": [
    "sql.query(\"select * from orders\")"
   ]
  },
  {
   "cell_type": "code",
   "execution_count": 18,
   "metadata": {
    "scrolled": true
   },
   "outputs": [
    {
     "data": {
      "text/html": [
       "<div>\n",
       "<style scoped>\n",
       "    .dataframe tbody tr th:only-of-type {\n",
       "        vertical-align: middle;\n",
       "    }\n",
       "\n",
       "    .dataframe tbody tr th {\n",
       "        vertical-align: top;\n",
       "    }\n",
       "\n",
       "    .dataframe thead th {\n",
       "        text-align: right;\n",
       "    }\n",
       "</style>\n",
       "<table border=\"1\" class=\"dataframe\">\n",
       "  <thead>\n",
       "    <tr style=\"text-align: right;\">\n",
       "      <th></th>\n",
       "      <th>order_id</th>\n",
       "      <th>order_date</th>\n",
       "      <th>amount</th>\n",
       "      <th>customer_id</th>\n",
       "    </tr>\n",
       "  </thead>\n",
       "  <tbody>\n",
       "    <tr>\n",
       "      <th>0</th>\n",
       "      <td>1</td>\n",
       "      <td>07/04/1776</td>\n",
       "      <td>234.56</td>\n",
       "      <td>1</td>\n",
       "    </tr>\n",
       "    <tr>\n",
       "      <th>1</th>\n",
       "      <td>2</td>\n",
       "      <td>03/14/1760</td>\n",
       "      <td>78.50</td>\n",
       "      <td>3</td>\n",
       "    </tr>\n",
       "    <tr>\n",
       "      <th>2</th>\n",
       "      <td>3</td>\n",
       "      <td>05/23/1784</td>\n",
       "      <td>124.00</td>\n",
       "      <td>2</td>\n",
       "    </tr>\n",
       "    <tr>\n",
       "      <th>3</th>\n",
       "      <td>4</td>\n",
       "      <td>09/03/1790</td>\n",
       "      <td>65.50</td>\n",
       "      <td>3</td>\n",
       "    </tr>\n",
       "    <tr>\n",
       "      <th>4</th>\n",
       "      <td>5</td>\n",
       "      <td>07/21/1795</td>\n",
       "      <td>25.50</td>\n",
       "      <td>10</td>\n",
       "    </tr>\n",
       "    <tr>\n",
       "      <th>5</th>\n",
       "      <td>6</td>\n",
       "      <td>11/27/1787</td>\n",
       "      <td>14.40</td>\n",
       "      <td>9</td>\n",
       "    </tr>\n",
       "  </tbody>\n",
       "</table>\n",
       "</div>"
      ],
      "text/plain": [
       "   order_id  order_date  amount  customer_id\n",
       "0         1  07/04/1776  234.56            1\n",
       "1         2  03/14/1760   78.50            3\n",
       "2         3  05/23/1784  124.00            2\n",
       "3         4  09/03/1790   65.50            3\n",
       "4         5  07/21/1795   25.50           10\n",
       "5         6  11/27/1787   14.40            9"
      ]
     },
     "execution_count": 18,
     "metadata": {},
     "output_type": "execute_result"
    }
   ],
   "source": [
    "sql.query(\"select * from orders\")"
   ]
  },
  {
   "cell_type": "code",
   "execution_count": 20,
   "metadata": {},
   "outputs": [],
   "source": [
    "# 3. Saskaitiet cik kopā ieņēmumu būs no visiem pasūtījumiem kopā?\n",
    "x = sql.query(\"select amount from orders\")"
   ]
  },
  {
   "cell_type": "code",
   "execution_count": 23,
   "metadata": {},
   "outputs": [
    {
     "data": {
      "text/plain": [
       "amount    542.46\n",
       "dtype: float64"
      ]
     },
     "execution_count": 23,
     "metadata": {},
     "output_type": "execute_result"
    }
   ],
   "source": [
    "x.sum()"
   ]
  },
  {
   "cell_type": "code",
   "execution_count": 41,
   "metadata": {},
   "outputs": [
    {
     "data": {
      "text/html": [
       "<div>\n",
       "<style scoped>\n",
       "    .dataframe tbody tr th:only-of-type {\n",
       "        vertical-align: middle;\n",
       "    }\n",
       "\n",
       "    .dataframe tbody tr th {\n",
       "        vertical-align: top;\n",
       "    }\n",
       "\n",
       "    .dataframe thead th {\n",
       "        text-align: right;\n",
       "    }\n",
       "</style>\n",
       "<table border=\"1\" class=\"dataframe\">\n",
       "  <thead>\n",
       "    <tr style=\"text-align: right;\">\n",
       "      <th></th>\n",
       "      <th>order_id</th>\n",
       "      <th>order_date</th>\n",
       "      <th>amount</th>\n",
       "      <th>customer_id</th>\n",
       "    </tr>\n",
       "  </thead>\n",
       "  <tbody>\n",
       "    <tr>\n",
       "      <th>0</th>\n",
       "      <td>1</td>\n",
       "      <td>07/04/1776</td>\n",
       "      <td>234.56</td>\n",
       "      <td>1</td>\n",
       "    </tr>\n",
       "    <tr>\n",
       "      <th>1</th>\n",
       "      <td>2</td>\n",
       "      <td>03/14/1760</td>\n",
       "      <td>78.50</td>\n",
       "      <td>3</td>\n",
       "    </tr>\n",
       "    <tr>\n",
       "      <th>2</th>\n",
       "      <td>3</td>\n",
       "      <td>05/23/1784</td>\n",
       "      <td>124.00</td>\n",
       "      <td>2</td>\n",
       "    </tr>\n",
       "    <tr>\n",
       "      <th>3</th>\n",
       "      <td>4</td>\n",
       "      <td>09/03/1790</td>\n",
       "      <td>65.50</td>\n",
       "      <td>3</td>\n",
       "    </tr>\n",
       "    <tr>\n",
       "      <th>4</th>\n",
       "      <td>5</td>\n",
       "      <td>07/21/1795</td>\n",
       "      <td>25.50</td>\n",
       "      <td>10</td>\n",
       "    </tr>\n",
       "    <tr>\n",
       "      <th>5</th>\n",
       "      <td>6</td>\n",
       "      <td>11/27/1787</td>\n",
       "      <td>14.40</td>\n",
       "      <td>9</td>\n",
       "    </tr>\n",
       "  </tbody>\n",
       "</table>\n",
       "</div>"
      ],
      "text/plain": [
       "   order_id  order_date  amount  customer_id\n",
       "0         1  07/04/1776  234.56            1\n",
       "1         2  03/14/1760   78.50            3\n",
       "2         3  05/23/1784  124.00            2\n",
       "3         4  09/03/1790   65.50            3\n",
       "4         5  07/21/1795   25.50           10\n",
       "5         6  11/27/1787   14.40            9"
      ]
     },
     "execution_count": 41,
     "metadata": {},
     "output_type": "execute_result"
    }
   ],
   "source": [
    "# 4. Katrā pilsētā ir tieši viens kurjers, cik piegāžu būs jāveic katram kurjeram?\n",
    "sql.query(\"SELECT * from orders\")\n",
    "# sql.query(\"select count(*) from customers where city='Quincy'\")\n",
    "# sql.query(\"select count(*) from customers where city='Charlottesville'\")"
   ]
  },
  {
   "cell_type": "code",
   "execution_count": 33,
   "metadata": {},
   "outputs": [
    {
     "data": {
      "text/html": [
       "<div>\n",
       "<style scoped>\n",
       "    .dataframe tbody tr th:only-of-type {\n",
       "        vertical-align: middle;\n",
       "    }\n",
       "\n",
       "    .dataframe tbody tr th {\n",
       "        vertical-align: top;\n",
       "    }\n",
       "\n",
       "    .dataframe thead th {\n",
       "        text-align: right;\n",
       "    }\n",
       "</style>\n",
       "<table border=\"1\" class=\"dataframe\">\n",
       "  <thead>\n",
       "    <tr style=\"text-align: right;\">\n",
       "      <th></th>\n",
       "      <th>sum(amount)</th>\n",
       "    </tr>\n",
       "  </thead>\n",
       "  <tbody>\n",
       "    <tr>\n",
       "      <th>0</th>\n",
       "      <td>144.0</td>\n",
       "    </tr>\n",
       "  </tbody>\n",
       "</table>\n",
       "</div>"
      ],
      "text/plain": [
       "   sum(amount)\n",
       "0        144.0"
      ]
     },
     "execution_count": 33,
     "metadata": {},
     "output_type": "execute_result"
    }
   ],
   "source": [
    "# 5. Saskaitiet cik kopā ieņēmumu būs no visiem pasūtījumiem, kas tiek nogādāti uz Charlottesville pilsētu.\n",
    "q = \"\"\"\n",
    "select \n",
    "    sum(amount) \n",
    "from \n",
    "    customers join orders on \n",
    "    customers.customer_id = orders.customer_id \n",
    "where \n",
    "    zipcode=22902\n",
    "\"\"\"\n",
    "sql.query(q)\n"
   ]
  },
  {
   "cell_type": "code",
   "execution_count": 40,
   "metadata": {},
   "outputs": [
    {
     "data": {
      "text/html": [
       "<div>\n",
       "<style scoped>\n",
       "    .dataframe tbody tr th:only-of-type {\n",
       "        vertical-align: middle;\n",
       "    }\n",
       "\n",
       "    .dataframe tbody tr th {\n",
       "        vertical-align: top;\n",
       "    }\n",
       "\n",
       "    .dataframe thead th {\n",
       "        text-align: right;\n",
       "    }\n",
       "</style>\n",
       "<table border=\"1\" class=\"dataframe\">\n",
       "  <thead>\n",
       "    <tr style=\"text-align: right;\">\n",
       "      <th></th>\n",
       "      <th>count(city)</th>\n",
       "    </tr>\n",
       "  </thead>\n",
       "  <tbody>\n",
       "    <tr>\n",
       "      <th>0</th>\n",
       "      <td>3</td>\n",
       "    </tr>\n",
       "  </tbody>\n",
       "</table>\n",
       "</div>"
      ],
      "text/plain": [
       "   count(city)\n",
       "0            3"
      ]
     },
     "execution_count": 40,
     "metadata": {},
     "output_type": "execute_result"
    }
   ],
   "source": [
    "# 6. Cik kurjeri tiks nodarbināti ar šiem pasūtījumiem?\n",
    "q = \"\"\"\n",
    "select \n",
    "    count(city) \n",
    "from\n",
    "    (select \n",
    "        city, \n",
    "        count(zipcode) \n",
    "    from \n",
    "        customers join orders on \n",
    "        customers.customer_id=orders.customer_id \n",
    "    group by \n",
    "        city) as c\n",
    "\"\"\"\n",
    "sql.query(q)"
   ]
  },
  {
   "cell_type": "code",
   "execution_count": null,
   "metadata": {},
   "outputs": [],
   "source": [
    "# 7. Izveidojiet tabulu deliveries, kurā ir: \n",
    "# delivery_id - delivery tabulas primārā atslēga, \n",
    "# order_id - atsauce uz orders tabulu, \n",
    "# Kurjera vārds, uzvārds un telefona numurs,\n",
    "# Piegādes statuss - nepiegādāts / ceļā / piegādāts (implementējiet kā vēlaties)\n",
    "\n",
    "# Jautājums: \n",
    "# Kad varētu būt laba ideja neveidot atsevišķu kurjeru tabulu?\n",
    "\n",
    "# sql.query(\"create table deliveries()\")"
   ]
  },
  {
   "cell_type": "code",
   "execution_count": 50,
   "metadata": {},
   "outputs": [
    {
     "data": {
      "text/html": [
       "<div>\n",
       "<style scoped>\n",
       "    .dataframe tbody tr th:only-of-type {\n",
       "        vertical-align: middle;\n",
       "    }\n",
       "\n",
       "    .dataframe tbody tr th {\n",
       "        vertical-align: top;\n",
       "    }\n",
       "\n",
       "    .dataframe thead th {\n",
       "        text-align: right;\n",
       "    }\n",
       "</style>\n",
       "<table border=\"1\" class=\"dataframe\">\n",
       "  <thead>\n",
       "    <tr style=\"text-align: right;\">\n",
       "      <th></th>\n",
       "      <th>order_id</th>\n",
       "      <th>order_date</th>\n",
       "      <th>amount</th>\n",
       "      <th>customer_id</th>\n",
       "    </tr>\n",
       "  </thead>\n",
       "  <tbody>\n",
       "    <tr>\n",
       "      <th>0</th>\n",
       "      <td>1</td>\n",
       "      <td>07/04/1776</td>\n",
       "      <td>234.56</td>\n",
       "      <td>1</td>\n",
       "    </tr>\n",
       "    <tr>\n",
       "      <th>1</th>\n",
       "      <td>2</td>\n",
       "      <td>03/14/1760</td>\n",
       "      <td>78.50</td>\n",
       "      <td>3</td>\n",
       "    </tr>\n",
       "    <tr>\n",
       "      <th>2</th>\n",
       "      <td>3</td>\n",
       "      <td>05/23/1784</td>\n",
       "      <td>124.00</td>\n",
       "      <td>2</td>\n",
       "    </tr>\n",
       "    <tr>\n",
       "      <th>3</th>\n",
       "      <td>4</td>\n",
       "      <td>09/03/1790</td>\n",
       "      <td>65.50</td>\n",
       "      <td>3</td>\n",
       "    </tr>\n",
       "    <tr>\n",
       "      <th>4</th>\n",
       "      <td>5</td>\n",
       "      <td>07/21/1795</td>\n",
       "      <td>25.50</td>\n",
       "      <td>10</td>\n",
       "    </tr>\n",
       "    <tr>\n",
       "      <th>5</th>\n",
       "      <td>6</td>\n",
       "      <td>11/27/1787</td>\n",
       "      <td>14.40</td>\n",
       "      <td>9</td>\n",
       "    </tr>\n",
       "  </tbody>\n",
       "</table>\n",
       "</div>"
      ],
      "text/plain": [
       "   order_id  order_date  amount  customer_id\n",
       "0         1  07/04/1776  234.56            1\n",
       "1         2  03/14/1760   78.50            3\n",
       "2         3  05/23/1784  124.00            2\n",
       "3         4  09/03/1790   65.50            3\n",
       "4         5  07/21/1795   25.50           10\n",
       "5         6  11/27/1787   14.40            9"
      ]
     },
     "execution_count": 50,
     "metadata": {},
     "output_type": "execute_result"
    }
   ],
   "source": [
    "# 8. Pievienojiet tabulai orders visas datu kolonnas un datus no tabulas deliveries. \n",
    "\n",
    "\n",
    "# Jautājums: \n",
    "# Šādi apvienot kolonnas šajā gadījumā ir laba vai slikta ideja? Kāpēc?\n",
    "sql.query(\"select * from orders\")"
   ]
  },
  {
   "cell_type": "code",
   "execution_count": 51,
   "metadata": {},
   "outputs": [
    {
     "data": {
      "text/html": [
       "<div>\n",
       "<style scoped>\n",
       "    .dataframe tbody tr th:only-of-type {\n",
       "        vertical-align: middle;\n",
       "    }\n",
       "\n",
       "    .dataframe tbody tr th {\n",
       "        vertical-align: top;\n",
       "    }\n",
       "\n",
       "    .dataframe thead th {\n",
       "        text-align: right;\n",
       "    }\n",
       "</style>\n",
       "<table border=\"1\" class=\"dataframe\">\n",
       "  <thead>\n",
       "    <tr style=\"text-align: right;\">\n",
       "      <th></th>\n",
       "      <th>customer_id</th>\n",
       "      <th>first_name</th>\n",
       "      <th>last_name</th>\n",
       "      <th>email</th>\n",
       "      <th>address</th>\n",
       "      <th>city</th>\n",
       "      <th>state</th>\n",
       "      <th>zipcode</th>\n",
       "    </tr>\n",
       "  </thead>\n",
       "  <tbody>\n",
       "    <tr>\n",
       "      <th>0</th>\n",
       "      <td>1</td>\n",
       "      <td>George</td>\n",
       "      <td>Washington</td>\n",
       "      <td>gwashington@usa.gov</td>\n",
       "      <td>3200 Mt Vernon Hwy</td>\n",
       "      <td>Mount Vernon</td>\n",
       "      <td>VA</td>\n",
       "      <td>22121</td>\n",
       "    </tr>\n",
       "    <tr>\n",
       "      <th>1</th>\n",
       "      <td>2</td>\n",
       "      <td>John</td>\n",
       "      <td>Adams</td>\n",
       "      <td>jadams@usa.gov</td>\n",
       "      <td>1250 Hancock St</td>\n",
       "      <td>Quincy</td>\n",
       "      <td>MA</td>\n",
       "      <td>2169</td>\n",
       "    </tr>\n",
       "    <tr>\n",
       "      <th>2</th>\n",
       "      <td>3</td>\n",
       "      <td>Thomas</td>\n",
       "      <td>Jefferson</td>\n",
       "      <td>tjefferson@usa.gov</td>\n",
       "      <td>931 Thomas Jefferson Pkwy</td>\n",
       "      <td>Charlottesville</td>\n",
       "      <td>VA</td>\n",
       "      <td>22902</td>\n",
       "    </tr>\n",
       "    <tr>\n",
       "      <th>3</th>\n",
       "      <td>4</td>\n",
       "      <td>James</td>\n",
       "      <td>Madison</td>\n",
       "      <td>jmadison@usa.gov</td>\n",
       "      <td>11350 Constitution Hwy</td>\n",
       "      <td>Orange</td>\n",
       "      <td>VA</td>\n",
       "      <td>22960</td>\n",
       "    </tr>\n",
       "    <tr>\n",
       "      <th>4</th>\n",
       "      <td>5</td>\n",
       "      <td>James</td>\n",
       "      <td>Monroe</td>\n",
       "      <td>jmonroe@usa.gov</td>\n",
       "      <td>2050 James Monroe Parkway</td>\n",
       "      <td>Charlottesville</td>\n",
       "      <td>VA</td>\n",
       "      <td>22902</td>\n",
       "    </tr>\n",
       "  </tbody>\n",
       "</table>\n",
       "</div>"
      ],
      "text/plain": [
       "   customer_id first_name   last_name                email  \\\n",
       "0            1     George  Washington  gwashington@usa.gov   \n",
       "1            2       John       Adams       jadams@usa.gov   \n",
       "2            3     Thomas   Jefferson   tjefferson@usa.gov   \n",
       "3            4      James     Madison     jmadison@usa.gov   \n",
       "4            5      James      Monroe      jmonroe@usa.gov   \n",
       "\n",
       "                     address             city state  zipcode  \n",
       "0         3200 Mt Vernon Hwy     Mount Vernon    VA    22121  \n",
       "1            1250 Hancock St           Quincy    MA     2169  \n",
       "2  931 Thomas Jefferson Pkwy  Charlottesville    VA    22902  \n",
       "3     11350 Constitution Hwy           Orange    VA    22960  \n",
       "4  2050 James Monroe Parkway  Charlottesville    VA    22902  "
      ]
     },
     "execution_count": 51,
     "metadata": {},
     "output_type": "execute_result"
    }
   ],
   "source": [
    "sql.query(\"select * from customers\")"
   ]
  },
  {
   "cell_type": "code",
   "execution_count": 49,
   "metadata": {},
   "outputs": [],
   "source": [
    "# MySQL tabulām nav bool tipa, bet ir tinyint(1)\n",
    "\n",
    "# z = pd.DataFrame({'kol1':[1,2,3], 'kol2':[True, True, False]})\n",
    "# sql.write_to_db(z,'z')\n",
    "# sql.query(\"describe z\")"
   ]
  },
  {
   "cell_type": "code",
   "execution_count": 44,
   "metadata": {},
   "outputs": [],
   "source": []
  },
  {
   "cell_type": "code",
   "execution_count": 47,
   "metadata": {},
   "outputs": [],
   "source": []
  },
  {
   "cell_type": "code",
   "execution_count": null,
   "metadata": {},
   "outputs": [],
   "source": []
  }
 ],
 "metadata": {
  "kernelspec": {
   "display_name": "Python 3",
   "language": "python",
   "name": "python3"
  },
  "language_info": {
   "codemirror_mode": {
    "name": "ipython",
    "version": 3
   },
   "file_extension": ".py",
   "mimetype": "text/x-python",
   "name": "python",
   "nbconvert_exporter": "python",
   "pygments_lexer": "ipython3",
   "version": "3.7.5"
  }
 },
 "nbformat": 4,
 "nbformat_minor": 2
}
