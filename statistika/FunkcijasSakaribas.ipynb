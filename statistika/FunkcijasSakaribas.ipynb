{
 "cells": [
  {
   "cell_type": "markdown",
   "metadata": {},
   "source": [
    "Datus pētot grafiski, mēs bieži varam redzēt kādas sakarības vēlamies tās vai nu apstiprināt, lai pamatotu kādu mūsu pieņēmumu vai teoriju vai arī šo sakarību vienkārši ekstrapolēt un lietot, lai paredzētu rezultātu uz Y ass iepriekš neredzētiem punktiem uz X ass.  \n",
    "Šajā notebookā:  \n",
    "* Matemātisku funkciju pamati  \n",
    "* Lineāras un polinomiālas sakarības  \n",
    "* Nelineāras sakarības  \n",
    "* Reālu sakarību atbilstība matemātiskām funkcijām  \n"
   ]
  },
  {
   "cell_type": "markdown",
   "metadata": {},
   "source": [
    "## Matemātisku funkciju pamati  \n",
    "Tāpat kā jebkurai Python funkcijai, matemātiskai funkcijai ir arguments vai argumenti (input) un tā atgriež kādu rezultātu vai rezultātu kopu (`return` jeb outputs)  \n",
    "\n",
    "\n",
    "Funkciju **argumenti tiek apzīmēti ar x** un funkciju **rezultāti tiek apzīmēti ar y** .  \n",
    "\n",
    "Lielākā daļa matemātisko funkciju, kuras mums ir pazīstamas ņem vienu skaitli (reālu skaitli) un atgriež vienu (reālu) skaitli. Vispārīgā gadījumā funkcija var ņemt vairākus skaitļus vai sakārtotas/nesakārtotas skaitļu kopas un atgriezt vairākus skaitļus vai sakārtotas/nesakārtotas skaitļu kopas.  "
   ]
  },
  {
   "cell_type": "markdown",
   "metadata": {},
   "source": [
    "Funkcija ne vienmēr var atgriezt valīdu rezultātu tai padotajam inputam. Pitonā piemērs varētu būt nepareizs funkcijas argumenta tips vai argumenta vērtības ar kurām nav iespējams veikt nepieciešamās operācijas.  \n",
    "\n",
    "**Atļauto argumenta vērtību kopu (argumenti no kuriem funkcijai ir iespējams kaut ko aprēķināt) sauc par definīcijas apgabalu.**  \n",
    "\n",
    "Funkcija ne vienmēr var atgriezt jebkuru skaitli. Piem, ja funkcija $f(x) = x^2$ tiek padots reāls skaitlis, tad neeksistē tādi argumenti, pie kuriem funkcija atgriezīs negatīvu rezultātu.  \n",
    "\n",
    "**Visas iespējamās funkciju vērtības (outputus) sauc par vērtību apgabalu.**"
   ]
  },
  {
   "cell_type": "code",
   "execution_count": 1,
   "metadata": {},
   "outputs": [],
   "source": [
    "# Uzdevums:\n",
    "# Uzrakstiet funkciju, kura aprēķina tai padotā argumenta kvadrāta summu ar argumenta reizinājumu ar 4"
   ]
  },
  {
   "cell_type": "code",
   "execution_count": 13,
   "metadata": {},
   "outputs": [],
   "source": [
    "# Uzdevums:\n",
    "# Ko ņem un ko atgriež šī funkcija? Kāds ir vērtību apgabals un kāds ir definīcijas apgabals?\n",
    "def f(a,b):\n",
    "    res = -1 *(a**2 + b**2)\n",
    "    return res\n",
    "    "
   ]
  },
  {
   "cell_type": "code",
   "execution_count": 16,
   "metadata": {},
   "outputs": [],
   "source": [
    "# Uzdevums:\n",
    "# Ko ņem un ko atgriež šī funkcija? Kāds ir vērtību apgabals un kāds ir definīcijas apgabals?\n",
    "def some_f(num):\n",
    "    new_lst = []\n",
    "    i = 0\n",
    "    while i < 30:\n",
    "        if i > num:\n",
    "            break\n",
    "        new_lst.append(i)\n",
    "        i+=1\n",
    "    return new_lst"
   ]
  },
  {
   "cell_type": "code",
   "execution_count": 17,
   "metadata": {},
   "outputs": [],
   "source": [
    "# Uzdevums:\n",
    "# Ko ņem un ko atgriež šī funkcija? Kāds ir vērtību apgabals un kāds ir definīcijas apgabals?\n",
    "import numpy as np\n",
    "def some_function(lst):\n",
    "    new_lst = []\n",
    "    for elem in lst:\n",
    "        if len(lst) > 10:\n",
    "            break\n",
    "        new_lst.append(np.sin(elem))\n",
    "    return new_lst"
   ]
  },
  {
   "cell_type": "code",
   "execution_count": 19,
   "metadata": {},
   "outputs": [],
   "source": [
    "# Uzdevums:\n",
    "# Uzrakstiet funkciju, kura ņem sarakstu ar n skaitļiem un atgriež sarakstu ar 2 skaitļiem, kas tiek kaut kā aprēķināti no šī saraksta.\n",
    "# Kāds ir šīs funkcijas vērtību apgabals un kāds ir definīcijas apgabals?"
   ]
  },
  {
   "cell_type": "markdown",
   "metadata": {},
   "source": [
    "Matemātiskas **funkcijas grafiks ir līnija** ar visiem iespējamajiem argumentiem atliktiem uz X ass un visām šiem argumentiem atbilstošajām vērtībām atliktām uz Y ass. "
   ]
  },
  {
   "cell_type": "code",
   "execution_count": 20,
   "metadata": {},
   "outputs": [],
   "source": [
    "# Jautājums: \n",
    "# Ar ko funkcijas grafiks atšķirās no tā, ko mēs zīmējām ar pyplot iepriekšējās lekcijās?"
   ]
  },
  {
   "cell_type": "markdown",
   "metadata": {},
   "source": [
    "## Lineāras un polinomiālas sakarības  \n",
    "Lai gan matemātiski un programmiski definējamu funkciju ir bezgalīgi daudz, datos, kurus jāanalizē, starp datu kopas kolonnām bieži eksistē sakarības, kuras aptuveni aprakstas dažas no tām.  \n",
    "\n",
    "Kāpēc tā? Cēloņsakarības un korelācijas.  \n",
    "* Ja mēs vienā tabulā esam atlikuši gan automašīnas nobraukto attālumu un patērēto degvielu, tad starp šīm kolonnām eksistēs lineāra sakarība.  \n",
    "* Ja mēs vienā tabulā atliekam datus ar to, cik laika mēs pavadam skrienot un to, cik kalorijas esam sadedzinājuši, starp šiem diviem mēriem eksistē lineāra sakarība.  \n",
    "* Jo lielāka būs vatu vērtība uz kvēlspuldzes, jo spilgtāka tā būs, kas arī ir lineāra sakarība.  \n",
    "* Ja mēs vienā tabulā esam atlikuši datus par to, cik garš cilvēks ir (metros) un to, kāds ir viņa kurpju izmērs, šī sakarība arī būs lineāra, bet ne ideāla."
   ]
  },
  {
   "cell_type": "code",
   "execution_count": null,
   "metadata": {},
   "outputs": [],
   "source": [
    "# Jautājums:\n",
    "# Ja vienā tabulā atliktu uz ielas redzēto cilvēku skaitu, \n",
    "# kuriem rokās ir cimdi un dienas vidējo temperatūru celsija grādos, \n",
    "# vai sakarība starp šiem lielumiem būtu lineāra?  "
   ]
  },
  {
   "cell_type": "markdown",
   "metadata": {},
   "source": [
    "Pāris kvadrātisku sakarību piemēri:  \n",
    "* Pie konstanta paātrinājuma, starp noieto laiku un noieto ceļu ir kvadrātiska sakarība.  \n",
    "* Starp dzīvokļa platību un parketa šūnu skaitu, kas nepieciešamas, lai noklātu dzīvokļa grīdu eksistē kvadrātiska sakarība.  "
   ]
  },
  {
   "cell_type": "markdown",
   "metadata": {},
   "source": [
    "Lineāras sakarības rodās, kad viens lielums ir tieši vai apgriezti propocionāls kādam citam lielumam."
   ]
  }
 ],
 "metadata": {
  "kernelspec": {
   "display_name": "Python 3",
   "language": "python",
   "name": "python3"
  },
  "language_info": {
   "codemirror_mode": {
    "name": "ipython",
    "version": 3
   },
   "file_extension": ".py",
   "mimetype": "text/x-python",
   "name": "python",
   "nbconvert_exporter": "python",
   "pygments_lexer": "ipython3",
   "version": "3.7.5"
  }
 },
 "nbformat": 4,
 "nbformat_minor": 2
}
