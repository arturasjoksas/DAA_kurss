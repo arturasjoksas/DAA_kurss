{
 "cells": [
  {
   "cell_type": "markdown",
   "metadata": {},
   "source": [
    "# L1 un L2 cost regularizācija  \n",
    "sklearn bibliotēka implementē abas šīs lineārās regresijas pieejas.  \n",
    "L2 regresija ir tā saucamā Ridge, kas kā Cost funkciju cenšās minimzēt sekojošo:  "
   ]
  },
  {
   "cell_type": "code",
   "execution_count": null,
   "metadata": {
    "scrolled": true
   },
   "outputs": [],
   "source": []
  },
  {
   "cell_type": "markdown",
   "metadata": {},
   "source": [
    "Ja taisnes vienādojums ( 2 dimensijās, ar vienu slīpuma koeficientu **a** ) ir uzrakstāms formā"
   ]
  },
  {
   "cell_type": "code",
   "execution_count": null,
   "metadata": {
    "scrolled": true
   },
   "outputs": [],
   "source": []
  },
  {
   "cell_type": "markdown",
   "metadata": {},
   "source": [
    "Tad Cost funkcija ir izsakāma sekojoši (JĀSALABO):"
   ]
  },
  {
   "cell_type": "code",
   "execution_count": 22,
   "metadata": {
    "scrolled": true
   },
   "outputs": [
    {
     "ename": "NameError",
     "evalue": "name 'b_l' is not defined",
     "output_type": "error",
     "traceback": [
      "\u001b[0;31m---------------------------------------------------------------------------\u001b[0m",
      "\u001b[0;31mNameError\u001b[0m                                 Traceback (most recent call last)",
      "\u001b[0;32m<ipython-input-22-c6e1c87ee728>\u001b[0m in \u001b[0;36m<module>\u001b[0;34m\u001b[0m\n\u001b[0;32m----> 1\u001b[0;31m \u001b[0mEq\u001b[0m\u001b[0;34m(\u001b[0m\u001b[0mCost\u001b[0m\u001b[0;34m,\u001b[0m\u001b[0;34m(\u001b[0m\u001b[0mSum\u001b[0m\u001b[0;34m(\u001b[0m\u001b[0;34m(\u001b[0m\u001b[0my_i\u001b[0m \u001b[0;34m-\u001b[0m \u001b[0mSum\u001b[0m\u001b[0;34m(\u001b[0m\u001b[0mb_l\u001b[0m \u001b[0;34m*\u001b[0m \u001b[0mx_l\u001b[0m\u001b[0;34m,\u001b[0m\u001b[0;34m(\u001b[0m\u001b[0ml\u001b[0m\u001b[0;34m,\u001b[0m\u001b[0;36m0\u001b[0m\u001b[0;34m,\u001b[0m\u001b[0mm\u001b[0m\u001b[0;34m)\u001b[0m\u001b[0;34m)\u001b[0m\u001b[0;34m)\u001b[0m\u001b[0;34m,\u001b[0m\u001b[0;34m(\u001b[0m\u001b[0mi\u001b[0m\u001b[0;34m,\u001b[0m\u001b[0;36m1\u001b[0m\u001b[0;34m,\u001b[0m\u001b[0mj\u001b[0m\u001b[0;34m)\u001b[0m\u001b[0;34m)\u001b[0m\u001b[0;34m)\u001b[0m \u001b[0;34m+\u001b[0m \u001b[0mlmbd\u001b[0m\u001b[0;34m*\u001b[0m\u001b[0mSum\u001b[0m\u001b[0;34m(\u001b[0m\u001b[0ma_n\u001b[0m\u001b[0;34m**\u001b[0m\u001b[0;36m2\u001b[0m\u001b[0;34m,\u001b[0m\u001b[0;34m(\u001b[0m\u001b[0mn\u001b[0m\u001b[0;34m,\u001b[0m\u001b[0;36m0\u001b[0m\u001b[0;34m,\u001b[0m\u001b[0mk\u001b[0m\u001b[0;34m)\u001b[0m\u001b[0;34m)\u001b[0m\u001b[0;34m)\u001b[0m\u001b[0;34m\u001b[0m\u001b[0;34m\u001b[0m\u001b[0m\n\u001b[0m",
      "\u001b[0;31mNameError\u001b[0m: name 'b_l' is not defined"
     ]
    }
   ],
   "source": [
    "Eq(Cost,(Sum((y_i - Sum(b_l * x_l,(l,0,m))),(i,1,j))) + lmbd*Sum(a_n**2,(n,0,k)))"
   ]
  },
  {
   "cell_type": "markdown",
   "metadata": {},
   "source": [
    "L1 regresija ir tā saucamā Lasso, kas kā Cost funkciju cenšāš minimzēt sekojošo:\n"
   ]
  },
  {
   "cell_type": "code",
   "execution_count": null,
   "metadata": {
    "scrolled": true
   },
   "outputs": [],
   "source": []
  },
  {
   "cell_type": "code",
   "execution_count": null,
   "metadata": {
    "scrolled": true
   },
   "outputs": [],
   "source": []
  },
  {
   "cell_type": "code",
   "execution_count": null,
   "metadata": {
    "scrolled": true
   },
   "outputs": [],
   "source": []
  },
  {
   "cell_type": "code",
   "execution_count": null,
   "metadata": {
    "scrolled": true
   },
   "outputs": [],
   "source": [
    "## Cost funkcijas, L1 un L2 cost regularizācija  \n",
    "# Regresijas problēmās, piemēram fitojot taisni, mēs varam izmantot standartnovirzi, lai pateiktu cik labi vai slikti taisne atbilst dotajam punktu mākonim. \n",
    "# sklearn bibliotēka implementē abas šīs lineārās regresijas pieejas.  \n",
    "# L2 regresija ir tā saucamā Ridge, kas kā Cost funkciju cenšās minimzēt sekojošo:  \n",
    "\n",
    "\n",
    "\n",
    "y_i = sympy.Symbol('y_i')\n",
    "b_l = sympy.Symbol('b_l')\n",
    "x_l = sympy.Symbol('x_l')\n",
    "a_n = sympy.Symbol('a_n')\n",
    "\n",
    "\n",
    "# Ja taisnes vienādojums ( 2 dimensijās, ar vienu slīpuma koeficientu **a** ) ir uzrakstāms formā\n",
    "\n",
    "Eq(y,a*x+b)\n",
    "\n",
    "# Tad Cost funkcija ir izsakāma sekojoši (JĀSALABO):\n",
    "\n",
    "Eq(Cost,(Sum((y_i - Sum(b_l * x_l,(l,0,m))),(i,1,j))) + lmbd*Sum(a_n**2,(n,0,k)))\n",
    "\n",
    "# L1 regresija ir tā saucamā Lasso, kas kā Cost funkciju cenšāš minimzēt sekojošo:\n",
    "\n",
    "\n",
    "\n",
    "\n",
    "\n",
    "\n"
   ]
  },
  {
   "cell_type": "code",
   "execution_count": null,
   "metadata": {
    "scrolled": true
   },
   "outputs": [],
   "source": []
  },
  {
   "cell_type": "code",
   "execution_count": null,
   "metadata": {
    "scrolled": true
   },
   "outputs": [],
   "source": []
  },
  {
   "cell_type": "code",
   "execution_count": null,
   "metadata": {},
   "outputs": [],
   "source": []
  }
 ],
 "metadata": {
  "kernelspec": {
   "display_name": "Python 3",
   "language": "python",
   "name": "python3"
  },
  "language_info": {
   "codemirror_mode": {
    "name": "ipython",
    "version": 3
   },
   "file_extension": ".py",
   "mimetype": "text/x-python",
   "name": "python",
   "nbconvert_exporter": "python",
   "pygments_lexer": "ipython3",
   "version": "3.7.5"
  }
 },
 "nbformat": 4,
 "nbformat_minor": 2
}
