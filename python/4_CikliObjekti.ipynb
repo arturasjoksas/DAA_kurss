{
 "cells": [
  {
   "cell_type": "markdown",
   "metadata": {},
   "source": [
    "# Cikli\n",
    "Cikli, tāpat kā mainīgie, funkcijas un plūsmas kontrole (If / Else) ir fundamentāls programmēšanas pamatkoncepts  \n",
    "\n",
    "Cikli ir plaši pielietoti un ar tiem var atrisināt ļoti lielu skaitu programmēšanas problēmu"
   ]
  },
  {
   "cell_type": "markdown",
   "metadata": {},
   "source": [
    "## while cikls:  \n",
    "* Atkārto tajā ieliktās darbības, kamēr vien cikla nosacījums izpildās."
   ]
  },
  {
   "cell_type": "code",
   "execution_count": null,
   "metadata": {},
   "outputs": [],
   "source": [
    "# While cikla piemērs.\n",
    "\n",
    "i = 1\n",
    "\n",
    "#Vispārīgā sintakse ir \n",
    "# while <būla mainīgais>:\n",
    "#     <kods>\n",
    "\n",
    "while i < 5:\n",
    "    i = i + 1\n",
    "    print(i)"
   ]
  },
  {
   "cell_type": "code",
   "execution_count": null,
   "metadata": {},
   "outputs": [],
   "source": [
    "# Bezgalīga while cikla piemērs (Lai apturētu ciklu, jāiet uz Kernel -> Interrupt):\n",
    "while 3 < 5:\n",
    "    print('Nosacījums 3 < 5 vienmēr būs patiess')\n",
    "# Tā kā ciklā nav nekā, kas mainītu while cilpas nosacījumu, cikls turpināsies mūžīgi un ir jāaptur manuāli"
   ]
  },
  {
   "cell_type": "markdown",
   "metadata": {},
   "source": [
    "## for cikls\n",
    "for cikls atkārto darbības, līdz iziet cauri tam uzdotajai struktūrai vai skaitļu intervālam.\n",
    "for cikli ir divu veidu"
   ]
  },
  {
   "cell_type": "code",
   "execution_count": null,
   "metadata": {},
   "outputs": [],
   "source": [
    "# Viens for cikla veids vienkārši atkārto tajā ielikto komandu komplektu līdz iziet cauri uzdefinētamn intervālam\n",
    "# range ir vēl viena iebūvēta Python funkcija, kas uzdefinē intervālu\n",
    "for number in range(0,5):\n",
    "    print(number)"
   ]
  },
  {
   "cell_type": "code",
   "execution_count": null,
   "metadata": {},
   "outputs": [],
   "source": [
    "# Otrs for cikla veids iet cauri ciklam iedotai datu struktūrai.\n",
    "struktura = ['a', 9, 18, 0.58, {}]\n",
    "\n",
    "for elements in struktura:\n",
    "    print(elements)"
   ]
  },
  {
   "cell_type": "code",
   "execution_count": null,
   "metadata": {},
   "outputs": [],
   "source": []
  },
  {
   "cell_type": "code",
   "execution_count": null,
   "metadata": {},
   "outputs": [],
   "source": [
    "saraksts = [1,2,3,4,5,6,7,8,9,10,11,12,13,14,15]\n",
    "# 1. Uzdevums:\n",
    "# Uzrakstīt funkciju f1, kura no argumentā padotā saraksta izprintē tikai katru otro elementu\n"
   ]
  },
  {
   "cell_type": "code",
   "execution_count": null,
   "metadata": {},
   "outputs": [],
   "source": []
  },
  {
   "cell_type": "code",
   "execution_count": null,
   "metadata": {},
   "outputs": [],
   "source": [
    "#2. Uzdevums:\n",
    "# Uzrakstīt funkciju, kura aprēķina saraksta elementu summu ar for ciklu\n",
    "\n",
    "saraksts = [2,8,16,30,44]\n",
    "# summa = 56"
   ]
  },
  {
   "cell_type": "code",
   "execution_count": null,
   "metadata": {},
   "outputs": [],
   "source": [
    "# 3. Uzdevums:\n",
    "# Uzrakstīt funkciju, kura aprēķina saraksta elementu vidējo vērtību ar for ciklu\n"
   ]
  },
  {
   "cell_type": "code",
   "execution_count": null,
   "metadata": {},
   "outputs": [],
   "source": [
    "# 4. Uzdevums:\n",
    "# Uzrakstīt funkciju, kas kā argumentus ņem 2 sarakstus un tos secīgi apvieno vienā\n",
    "# piem: lst1 = [1,2,3], lst = [9,12,0]\n",
    "# rezultats: [1,2,3,9,12,0]\n",
    "\n",
    "lst1 = [1,2,3]\n",
    "lst2 = [12,11,10,9,5]\n",
    "\n"
   ]
  },
  {
   "cell_type": "code",
   "execution_count": null,
   "metadata": {},
   "outputs": [],
   "source": [
    "# 5. You are given with a list of integer elements. Make a new list which will store square of elements of previous list.\n",
    "\n",
    "saraksts = [2,8,16,30,44]\n",
    "kvadratu_saraksts = []"
   ]
  },
  {
   "cell_type": "markdown",
   "metadata": {},
   "source": [
    "#  Python objekti\n",
    "* Python valodā pilnīgi viss ir objekts. Objekts ir vispārīgais gadījums bibliotēkām un datu struktūrām.\n",
    "* Vispārīgi, visiem viena tipa objektiem ir vienāds tips un vienādas īpašības (visbiežāk funkcijas), bet var būt gadījumi, kuros kāda īpašība nav izpildāma objekta satura dēļ.\n",
    "* punkta notācija bibliotēku (apakš)moduļiem un datu struktūrām nozīmē objekta īpašību izmantošanu."
   ]
  },
  {
   "cell_type": "code",
   "execution_count": null,
   "metadata": {},
   "outputs": [],
   "source": [
    "vardnica1 = {'a':1, 'b':2}\n",
    "vardnica2 = {'c': 3, 'd':4, 'e': 5, 'f':{'g':6, 'h':7}}\n",
    "\n",
    "saraksts1 = [3,2,1]\n",
    "saraksts2 = [20,51,6,[7,8]]"
   ]
  },
  {
   "cell_type": "code",
   "execution_count": null,
   "metadata": {},
   "outputs": [],
   "source": [
    "# Uzdevums: \n",
    "\n",
    "# Izpildiet šūnu vienu virs šīs (lai definētu mainīgos). Tad atkomentējiet sekojošo rindiņu, \n",
    "# aizejiet ar kursoru uz tās beigām un nospiediet `Tab` taustiņu.\n",
    "# vardnica1.\n",
    "\n",
    "\n",
    "\n",
    "\n",
    "\n",
    "# Šīs ir vardnica1 objektam pielietojamās īpašības. "
   ]
  },
  {
   "cell_type": "code",
   "execution_count": null,
   "metadata": {},
   "outputs": [],
   "source": [
    "# Uzdevums:\n",
    "# Izmantojiet list objekta īpašības, lai sakārtotu sarakstu saraksts1 augošā secībā un to izprintētu\n",
    "\n",
    "\n",
    "# Izmēģiniet to pašu darbību ar saraksts2 un paredziet rezultātu. Kādi ir secinājumi?\n",
    "\n"
   ]
  },
  {
   "cell_type": "code",
   "execution_count": null,
   "metadata": {},
   "outputs": [],
   "source": []
  },
  {
   "cell_type": "code",
   "execution_count": null,
   "metadata": {},
   "outputs": [],
   "source": []
  },
  {
   "cell_type": "code",
   "execution_count": null,
   "metadata": {},
   "outputs": [],
   "source": []
  },
  {
   "cell_type": "markdown",
   "metadata": {},
   "source": [
    "Objektus, to instances un to īpašības var definēt manuāli. Šo mēs nedarīsim, bet sintakse ir sekojoša."
   ]
  },
  {
   "cell_type": "code",
   "execution_count": null,
   "metadata": {},
   "outputs": [],
   "source": [
    "# Demonstrācija:\n",
    "\n",
    "class jauns_tips():\n",
    "    klases_mainigais = 'klases_mainiga_vertiba'\n",
    "    klases_saraksts = []\n",
    "    def __init__(self, arg1, arg2):\n",
    "        self.a = arg1\n",
    "        self.b = arg2\n",
    "        self.reizinajums = arg1 * arg2\n",
    "        self.saraksts = [arg1, arg2]\n",
    "        \n",
    "    def papildinat_sarakstu(self, papildinajums):\n",
    "        self.__class__.klases_saraksts.append(papildinajums)"
   ]
  },
  {
   "cell_type": "code",
   "execution_count": null,
   "metadata": {},
   "outputs": [],
   "source": [
    "instance = jauns_tips(2,7)"
   ]
  },
  {
   "cell_type": "code",
   "execution_count": null,
   "metadata": {},
   "outputs": [],
   "source": [
    "# instance.a\n",
    "# instance.b\n",
    "# instance.klases_saraksts"
   ]
  },
  {
   "cell_type": "code",
   "execution_count": null,
   "metadata": {},
   "outputs": [],
   "source": [
    "objekts = jauns_tips(3,7)\n",
    "objekts2 = jauns_tips(4,8)"
   ]
  },
  {
   "cell_type": "code",
   "execution_count": null,
   "metadata": {},
   "outputs": [],
   "source": [
    "# Uzdevums: Izpildiet visas sekojošās demonstrācijas rindiņas mēģinot paredzēt izvades pirms izpildīšanas"
   ]
  },
  {
   "cell_type": "code",
   "execution_count": null,
   "metadata": {},
   "outputs": [],
   "source": [
    "print(type(objekts))\n",
    "print(type(objekts2))"
   ]
  },
  {
   "cell_type": "code",
   "execution_count": null,
   "metadata": {},
   "outputs": [],
   "source": [
    "print(objekts.saraksts)\n",
    "print(objekts2.saraksts)"
   ]
  },
  {
   "cell_type": "code",
   "execution_count": null,
   "metadata": {},
   "outputs": [],
   "source": [
    "print(objekts.reizinajums)\n",
    "print(objekts2.reizinajums)"
   ]
  },
  {
   "cell_type": "code",
   "execution_count": null,
   "metadata": {},
   "outputs": [],
   "source": [
    "objekts.klases_mainigais = 4"
   ]
  },
  {
   "cell_type": "code",
   "execution_count": null,
   "metadata": {},
   "outputs": [],
   "source": [
    "objekts2.klases_mainigais"
   ]
  },
  {
   "cell_type": "code",
   "execution_count": null,
   "metadata": {},
   "outputs": [],
   "source": [
    "objekts.klases_mainigais"
   ]
  },
  {
   "cell_type": "code",
   "execution_count": null,
   "metadata": {},
   "outputs": [],
   "source": [
    "jauns_tips.klases_mainigais"
   ]
  },
  {
   "cell_type": "code",
   "execution_count": null,
   "metadata": {},
   "outputs": [],
   "source": [
    "objekts.papildinat_sarakstu('b')"
   ]
  },
  {
   "cell_type": "code",
   "execution_count": null,
   "metadata": {},
   "outputs": [],
   "source": [
    "objekts.klases_saraksts"
   ]
  },
  {
   "cell_type": "code",
   "execution_count": null,
   "metadata": {},
   "outputs": [],
   "source": [
    "objekts.papildinat_sarakstu('c')"
   ]
  },
  {
   "cell_type": "code",
   "execution_count": null,
   "metadata": {},
   "outputs": [],
   "source": [
    "objekts.klases_saraksts"
   ]
  }
 ],
 "metadata": {
  "kernelspec": {
   "display_name": "Python 3",
   "language": "python",
   "name": "python3"
  },
  "language_info": {
   "codemirror_mode": {
    "name": "ipython",
    "version": 3
   },
   "file_extension": ".py",
   "mimetype": "text/x-python",
   "name": "python",
   "nbconvert_exporter": "python",
   "pygments_lexer": "ipython3",
   "version": "3.8.3"
  }
 },
 "nbformat": 4,
 "nbformat_minor": 4
}
