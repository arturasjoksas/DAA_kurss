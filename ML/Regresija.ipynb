{
 "cells": [
  {
   "cell_type": "code",
   "execution_count": 7,
   "metadata": {},
   "outputs": [],
   "source": [
    "# Nepieciešamās bibliotēkas un bibliotēku moduļi:\n",
    "import numpy as np\n",
    "import pandas as pd\n",
    "import matplotlib.pyplot as plt\n",
    "\n",
    "# Moduļi datu normēšanai\n",
    "from sklearn.preprocessing import MinMaxScaler\n",
    "from sklearn.preprocessing import StandardScaler\n",
    "\n",
    "\n",
    "\n",
    "\n",
    "# Parauga datu kopas:\n",
    "from sklearn.datasets import load_iris\n",
    "iris_dataset = load_iris()\n",
    "\n",
    "from sklearn.datasets import load_breast_cancer\n",
    "cancer = load_breast_cancer()\n",
    "\n",
    "from sklearn.datasets import make_blobs\n"
   ]
  },
  {
   "cell_type": "markdown",
   "metadata": {},
   "source": [
    "## Praktisks vairākās regresijas piemērs  "
   ]
  },
  {
   "cell_type": "markdown",
   "metadata": {},
   "source": [
    "### Dati  \n",
    "Šis ir no ss.com paņemts datasets, kurā atlikta pieejamā informācija par vasarnīcām saulkrastu rajonā, kuras tiek pārdotas, to cenām, zemes platību, uz zemes uzcelto māju platību, māju istabu skaitu un māju stāvu skaitu. Īpašumi, kuri pēc zemes platības nekvalificējas kā vasarnīcas ir atmesti."
   ]
  },
  {
   "cell_type": "code",
   "execution_count": 207,
   "metadata": {},
   "outputs": [],
   "source": [
    "zeme = pd.read_csv(\"cenas_ss.csv\")"
   ]
  },
  {
   "cell_type": "code",
   "execution_count": 209,
   "metadata": {},
   "outputs": [
    {
     "data": {
      "text/plain": [
       "iela         object\n",
       "m2            int64\n",
       "stāvi         int64\n",
       "ist           int64\n",
       "zempl         int64\n",
       "cena_tk       int64\n",
       "cena_smt      int64\n",
       "??          float64\n",
       "dtype: object"
      ]
     },
     "execution_count": 209,
     "metadata": {},
     "output_type": "execute_result"
    }
   ],
   "source": [
    "zeme.dtypes"
   ]
  },
  {
   "cell_type": "code",
   "execution_count": 210,
   "metadata": {},
   "outputs": [],
   "source": [
    "zeme['cena'] = zeme['cena_tk'] * 1000 + zeme['cena_smt']\n",
    "zeme = zeme.drop(columns=['cena_tk','cena_smt','??'])"
   ]
  },
  {
   "cell_type": "code",
   "execution_count": 214,
   "metadata": {},
   "outputs": [
    {
     "data": {
      "text/html": [
       "<div>\n",
       "<style scoped>\n",
       "    .dataframe tbody tr th:only-of-type {\n",
       "        vertical-align: middle;\n",
       "    }\n",
       "\n",
       "    .dataframe tbody tr th {\n",
       "        vertical-align: top;\n",
       "    }\n",
       "\n",
       "    .dataframe thead th {\n",
       "        text-align: right;\n",
       "    }\n",
       "</style>\n",
       "<table border=\"1\" class=\"dataframe\">\n",
       "  <thead>\n",
       "    <tr style=\"text-align: right;\">\n",
       "      <th></th>\n",
       "      <th>iela</th>\n",
       "      <th>m2</th>\n",
       "      <th>stāvi</th>\n",
       "      <th>ist</th>\n",
       "      <th>zempl</th>\n",
       "      <th>cena</th>\n",
       "    </tr>\n",
       "  </thead>\n",
       "  <tbody>\n",
       "    <tr>\n",
       "      <th>34</th>\n",
       "      <td>Samteiņu 1</td>\n",
       "      <td>50</td>\n",
       "      <td>1</td>\n",
       "      <td>3</td>\n",
       "      <td>850</td>\n",
       "      <td>12000</td>\n",
       "    </tr>\n",
       "    <tr>\n",
       "      <th>3</th>\n",
       "      <td>Ābelīte 158</td>\n",
       "      <td>114</td>\n",
       "      <td>2</td>\n",
       "      <td>4</td>\n",
       "      <td>700</td>\n",
       "      <td>14700</td>\n",
       "    </tr>\n",
       "    <tr>\n",
       "      <th>10</th>\n",
       "      <td>Ābelite 61</td>\n",
       "      <td>62</td>\n",
       "      <td>2</td>\n",
       "      <td>4</td>\n",
       "      <td>692</td>\n",
       "      <td>15000</td>\n",
       "    </tr>\n",
       "    <tr>\n",
       "      <th>23</th>\n",
       "      <td>Viršu 7</td>\n",
       "      <td>51</td>\n",
       "      <td>1</td>\n",
       "      <td>3</td>\n",
       "      <td>554</td>\n",
       "      <td>22000</td>\n",
       "    </tr>\n",
       "    <tr>\n",
       "      <th>31</th>\n",
       "      <td>Saulīte 196</td>\n",
       "      <td>52</td>\n",
       "      <td>1</td>\n",
       "      <td>3</td>\n",
       "      <td>1420</td>\n",
       "      <td>22500</td>\n",
       "    </tr>\n",
       "    <tr>\n",
       "      <th>15</th>\n",
       "      <td>Gobu 18</td>\n",
       "      <td>66</td>\n",
       "      <td>2</td>\n",
       "      <td>3</td>\n",
       "      <td>548</td>\n",
       "      <td>24000</td>\n",
       "    </tr>\n",
       "    <tr>\n",
       "      <th>1</th>\n",
       "      <td>Madaru 2</td>\n",
       "      <td>150</td>\n",
       "      <td>2</td>\n",
       "      <td>5</td>\n",
       "      <td>1468</td>\n",
       "      <td>25000</td>\n",
       "    </tr>\n",
       "    <tr>\n",
       "      <th>50</th>\n",
       "      <td>D/s Banga 39</td>\n",
       "      <td>64</td>\n",
       "      <td>1</td>\n",
       "      <td>3</td>\n",
       "      <td>448</td>\n",
       "      <td>27000</td>\n",
       "    </tr>\n",
       "    <tr>\n",
       "      <th>26</th>\n",
       "      <td>Saulainā ieleja 72</td>\n",
       "      <td>50</td>\n",
       "      <td>1</td>\n",
       "      <td>2</td>\n",
       "      <td>735</td>\n",
       "      <td>27000</td>\n",
       "    </tr>\n",
       "    <tr>\n",
       "      <th>20</th>\n",
       "      <td>Vēsma 83</td>\n",
       "      <td>120</td>\n",
       "      <td>2</td>\n",
       "      <td>4</td>\n",
       "      <td>600</td>\n",
       "      <td>27000</td>\n",
       "    </tr>\n",
       "    <tr>\n",
       "      <th>25</th>\n",
       "      <td>Vesma 171</td>\n",
       "      <td>80</td>\n",
       "      <td>2</td>\n",
       "      <td>5</td>\n",
       "      <td>570</td>\n",
       "      <td>32000</td>\n",
       "    </tr>\n",
       "    <tr>\n",
       "      <th>12</th>\n",
       "      <td>Saulainā ieleja 1</td>\n",
       "      <td>200</td>\n",
       "      <td>3</td>\n",
       "      <td>7</td>\n",
       "      <td>650</td>\n",
       "      <td>34900</td>\n",
       "    </tr>\n",
       "    <tr>\n",
       "      <th>2</th>\n",
       "      <td>Ābelīte 192</td>\n",
       "      <td>130</td>\n",
       "      <td>2</td>\n",
       "      <td>5</td>\n",
       "      <td>2254</td>\n",
       "      <td>35000</td>\n",
       "    </tr>\n",
       "    <tr>\n",
       "      <th>14</th>\n",
       "      <td>Liepaine</td>\n",
       "      <td>103</td>\n",
       "      <td>2</td>\n",
       "      <td>3</td>\n",
       "      <td>600</td>\n",
       "      <td>38000</td>\n",
       "    </tr>\n",
       "    <tr>\n",
       "      <th>39</th>\n",
       "      <td>Rožu prospekts 222</td>\n",
       "      <td>88</td>\n",
       "      <td>2</td>\n",
       "      <td>4</td>\n",
       "      <td>620</td>\n",
       "      <td>40000</td>\n",
       "    </tr>\n",
       "    <tr>\n",
       "      <th>42</th>\n",
       "      <td>Ziemeļblāzma</td>\n",
       "      <td>150</td>\n",
       "      <td>2</td>\n",
       "      <td>5</td>\n",
       "      <td>640</td>\n",
       "      <td>40000</td>\n",
       "    </tr>\n",
       "    <tr>\n",
       "      <th>6</th>\n",
       "      <td>Kišupe</td>\n",
       "      <td>70</td>\n",
       "      <td>2</td>\n",
       "      <td>5</td>\n",
       "      <td>685</td>\n",
       "      <td>41000</td>\n",
       "    </tr>\n",
       "    <tr>\n",
       "      <th>43</th>\n",
       "      <td>Vēsma 236</td>\n",
       "      <td>55</td>\n",
       "      <td>1</td>\n",
       "      <td>3</td>\n",
       "      <td>670</td>\n",
       "      <td>41500</td>\n",
       "    </tr>\n",
       "    <tr>\n",
       "      <th>0</th>\n",
       "      <td>Zvaignžņu 1</td>\n",
       "      <td>107</td>\n",
       "      <td>1</td>\n",
       "      <td>5</td>\n",
       "      <td>680</td>\n",
       "      <td>42000</td>\n",
       "    </tr>\n",
       "    <tr>\n",
       "      <th>19</th>\n",
       "      <td>Alojas 26</td>\n",
       "      <td>100</td>\n",
       "      <td>2</td>\n",
       "      <td>4</td>\n",
       "      <td>610</td>\n",
       "      <td>43000</td>\n",
       "    </tr>\n",
       "    <tr>\n",
       "      <th>18</th>\n",
       "      <td>Zvaigžņu 1</td>\n",
       "      <td>107</td>\n",
       "      <td>1</td>\n",
       "      <td>5</td>\n",
       "      <td>680</td>\n",
       "      <td>45000</td>\n",
       "    </tr>\n",
       "    <tr>\n",
       "      <th>24</th>\n",
       "      <td>Aģes 10</td>\n",
       "      <td>70</td>\n",
       "      <td>1</td>\n",
       "      <td>3</td>\n",
       "      <td>1650</td>\n",
       "      <td>45000</td>\n",
       "    </tr>\n",
       "    <tr>\n",
       "      <th>41</th>\n",
       "      <td>Gaismas</td>\n",
       "      <td>190</td>\n",
       "      <td>3</td>\n",
       "      <td>6</td>\n",
       "      <td>700</td>\n",
       "      <td>45000</td>\n",
       "    </tr>\n",
       "    <tr>\n",
       "      <th>17</th>\n",
       "      <td>Vēsma 29</td>\n",
       "      <td>95</td>\n",
       "      <td>2</td>\n",
       "      <td>3</td>\n",
       "      <td>860</td>\n",
       "      <td>45000</td>\n",
       "    </tr>\n",
       "    <tr>\n",
       "      <th>45</th>\n",
       "      <td>V/k Veselība 29</td>\n",
       "      <td>100</td>\n",
       "      <td>2</td>\n",
       "      <td>4</td>\n",
       "      <td>541</td>\n",
       "      <td>47000</td>\n",
       "    </tr>\n",
       "    <tr>\n",
       "      <th>5</th>\n",
       "      <td>Liepaine 97</td>\n",
       "      <td>130</td>\n",
       "      <td>2</td>\n",
       "      <td>4</td>\n",
       "      <td>1200</td>\n",
       "      <td>50000</td>\n",
       "    </tr>\n",
       "    <tr>\n",
       "      <th>22</th>\n",
       "      <td>Rīta 13</td>\n",
       "      <td>200</td>\n",
       "      <td>3</td>\n",
       "      <td>6</td>\n",
       "      <td>600</td>\n",
       "      <td>57000</td>\n",
       "    </tr>\n",
       "    <tr>\n",
       "      <th>9</th>\n",
       "      <td>Vesma 153</td>\n",
       "      <td>96</td>\n",
       "      <td>2</td>\n",
       "      <td>4</td>\n",
       "      <td>600</td>\n",
       "      <td>57900</td>\n",
       "    </tr>\n",
       "    <tr>\n",
       "      <th>36</th>\n",
       "      <td>Ķīšupe 1 16</td>\n",
       "      <td>102</td>\n",
       "      <td>2</td>\n",
       "      <td>5</td>\n",
       "      <td>734</td>\n",
       "      <td>59000</td>\n",
       "    </tr>\n",
       "    <tr>\n",
       "      <th>48</th>\n",
       "      <td>Ezera 31</td>\n",
       "      <td>110</td>\n",
       "      <td>1</td>\n",
       "      <td>5</td>\n",
       "      <td>650</td>\n",
       "      <td>59500</td>\n",
       "    </tr>\n",
       "    <tr>\n",
       "      <th>13</th>\n",
       "      <td>Jāņkalni</td>\n",
       "      <td>190</td>\n",
       "      <td>2</td>\n",
       "      <td>5</td>\n",
       "      <td>1200</td>\n",
       "      <td>68000</td>\n",
       "    </tr>\n",
       "    <tr>\n",
       "      <th>47</th>\n",
       "      <td>Devītā</td>\n",
       "      <td>310</td>\n",
       "      <td>3</td>\n",
       "      <td>4</td>\n",
       "      <td>600</td>\n",
       "      <td>69000</td>\n",
       "    </tr>\n",
       "    <tr>\n",
       "      <th>38</th>\n",
       "      <td>Strazdu 24 58</td>\n",
       "      <td>110</td>\n",
       "      <td>2</td>\n",
       "      <td>4</td>\n",
       "      <td>610</td>\n",
       "      <td>75000</td>\n",
       "    </tr>\n",
       "    <tr>\n",
       "      <th>30</th>\n",
       "      <td>Aģes 25</td>\n",
       "      <td>145</td>\n",
       "      <td>2</td>\n",
       "      <td>7</td>\n",
       "      <td>3400</td>\n",
       "      <td>78000</td>\n",
       "    </tr>\n",
       "    <tr>\n",
       "      <th>21</th>\n",
       "      <td>Lilasti 42a</td>\n",
       "      <td>100</td>\n",
       "      <td>2</td>\n",
       "      <td>4</td>\n",
       "      <td>600</td>\n",
       "      <td>80000</td>\n",
       "    </tr>\n",
       "    <tr>\n",
       "      <th>4</th>\n",
       "      <td>Pureņu 3</td>\n",
       "      <td>150</td>\n",
       "      <td>2</td>\n",
       "      <td>4</td>\n",
       "      <td>802</td>\n",
       "      <td>84350</td>\n",
       "    </tr>\n",
       "    <tr>\n",
       "      <th>29</th>\n",
       "      <td>Ziemeļblāzma 694</td>\n",
       "      <td>245</td>\n",
       "      <td>2</td>\n",
       "      <td>6</td>\n",
       "      <td>700</td>\n",
       "      <td>125000</td>\n",
       "    </tr>\n",
       "    <tr>\n",
       "      <th>28</th>\n",
       "      <td>Pārupes 1</td>\n",
       "      <td>95</td>\n",
       "      <td>1</td>\n",
       "      <td>4</td>\n",
       "      <td>1268</td>\n",
       "      <td>125000</td>\n",
       "    </tr>\n",
       "    <tr>\n",
       "      <th>27</th>\n",
       "      <td>Celtnieku 1</td>\n",
       "      <td>225</td>\n",
       "      <td>2</td>\n",
       "      <td>6</td>\n",
       "      <td>1345</td>\n",
       "      <td>125000</td>\n",
       "    </tr>\n",
       "    <tr>\n",
       "      <th>33</th>\n",
       "      <td>Bruklenaju 3</td>\n",
       "      <td>240</td>\n",
       "      <td>2</td>\n",
       "      <td>6</td>\n",
       "      <td>1800</td>\n",
       "      <td>125000</td>\n",
       "    </tr>\n",
       "    <tr>\n",
       "      <th>40</th>\n",
       "      <td>Dravnieku</td>\n",
       "      <td>210</td>\n",
       "      <td>3</td>\n",
       "      <td>6</td>\n",
       "      <td>566</td>\n",
       "      <td>130000</td>\n",
       "    </tr>\n",
       "    <tr>\n",
       "      <th>32</th>\n",
       "      <td>Vītiņu 8</td>\n",
       "      <td>95</td>\n",
       "      <td>1</td>\n",
       "      <td>4</td>\n",
       "      <td>1268</td>\n",
       "      <td>132000</td>\n",
       "    </tr>\n",
       "    <tr>\n",
       "      <th>35</th>\n",
       "      <td>Rīgas 71</td>\n",
       "      <td>125</td>\n",
       "      <td>2</td>\n",
       "      <td>5</td>\n",
       "      <td>1780</td>\n",
       "      <td>132000</td>\n",
       "    </tr>\n",
       "    <tr>\n",
       "      <th>49</th>\n",
       "      <td>Ziemeļblāzma</td>\n",
       "      <td>145</td>\n",
       "      <td>2</td>\n",
       "      <td>5</td>\n",
       "      <td>730</td>\n",
       "      <td>133000</td>\n",
       "    </tr>\n",
       "    <tr>\n",
       "      <th>11</th>\n",
       "      <td>Gaisma 147</td>\n",
       "      <td>200</td>\n",
       "      <td>2</td>\n",
       "      <td>4</td>\n",
       "      <td>661</td>\n",
       "      <td>139000</td>\n",
       "    </tr>\n",
       "    <tr>\n",
       "      <th>44</th>\n",
       "      <td>Saulrīti 1</td>\n",
       "      <td>120</td>\n",
       "      <td>2</td>\n",
       "      <td>4</td>\n",
       "      <td>600</td>\n",
       "      <td>150000</td>\n",
       "    </tr>\n",
       "    <tr>\n",
       "      <th>8</th>\n",
       "      <td>Tirgus 3</td>\n",
       "      <td>200</td>\n",
       "      <td>2</td>\n",
       "      <td>10</td>\n",
       "      <td>1200</td>\n",
       "      <td>150000</td>\n",
       "    </tr>\n",
       "    <tr>\n",
       "      <th>37</th>\n",
       "      <td>Meža 6</td>\n",
       "      <td>238</td>\n",
       "      <td>2</td>\n",
       "      <td>5</td>\n",
       "      <td>2502</td>\n",
       "      <td>157000</td>\n",
       "    </tr>\n",
       "    <tr>\n",
       "      <th>7</th>\n",
       "      <td>Koklīšu 12</td>\n",
       "      <td>296</td>\n",
       "      <td>2</td>\n",
       "      <td>5</td>\n",
       "      <td>1440</td>\n",
       "      <td>179900</td>\n",
       "    </tr>\n",
       "    <tr>\n",
       "      <th>16</th>\n",
       "      <td>Ainažu 81</td>\n",
       "      <td>131</td>\n",
       "      <td>1</td>\n",
       "      <td>5</td>\n",
       "      <td>2390</td>\n",
       "      <td>191000</td>\n",
       "    </tr>\n",
       "    <tr>\n",
       "      <th>46</th>\n",
       "      <td>Stacijas 4</td>\n",
       "      <td>300</td>\n",
       "      <td>2</td>\n",
       "      <td>7</td>\n",
       "      <td>613</td>\n",
       "      <td>215000</td>\n",
       "    </tr>\n",
       "  </tbody>\n",
       "</table>\n",
       "</div>"
      ],
      "text/plain": [
       "                  iela   m2  stāvi  ist  zempl    cena\n",
       "34          Samteiņu 1   50      1    3    850   12000\n",
       "3          Ābelīte 158  114      2    4    700   14700\n",
       "10          Ābelite 61   62      2    4    692   15000\n",
       "23             Viršu 7   51      1    3    554   22000\n",
       "31         Saulīte 196   52      1    3   1420   22500\n",
       "15             Gobu 18   66      2    3    548   24000\n",
       "1             Madaru 2  150      2    5   1468   25000\n",
       "50        D/s Banga 39   64      1    3    448   27000\n",
       "26  Saulainā ieleja 72   50      1    2    735   27000\n",
       "20            Vēsma 83  120      2    4    600   27000\n",
       "25           Vesma 171   80      2    5    570   32000\n",
       "12   Saulainā ieleja 1  200      3    7    650   34900\n",
       "2          Ābelīte 192  130      2    5   2254   35000\n",
       "14            Liepaine  103      2    3    600   38000\n",
       "39  Rožu prospekts 222   88      2    4    620   40000\n",
       "42        Ziemeļblāzma  150      2    5    640   40000\n",
       "6               Kišupe   70      2    5    685   41000\n",
       "43           Vēsma 236   55      1    3    670   41500\n",
       "0          Zvaignžņu 1  107      1    5    680   42000\n",
       "19           Alojas 26  100      2    4    610   43000\n",
       "18          Zvaigžņu 1  107      1    5    680   45000\n",
       "24             Aģes 10   70      1    3   1650   45000\n",
       "41             Gaismas  190      3    6    700   45000\n",
       "17            Vēsma 29   95      2    3    860   45000\n",
       "45     V/k Veselība 29  100      2    4    541   47000\n",
       "5          Liepaine 97  130      2    4   1200   50000\n",
       "22             Rīta 13  200      3    6    600   57000\n",
       "9            Vesma 153   96      2    4    600   57900\n",
       "36         Ķīšupe 1 16  102      2    5    734   59000\n",
       "48            Ezera 31  110      1    5    650   59500\n",
       "13            Jāņkalni  190      2    5   1200   68000\n",
       "47              Devītā  310      3    4    600   69000\n",
       "38       Strazdu 24 58  110      2    4    610   75000\n",
       "30             Aģes 25  145      2    7   3400   78000\n",
       "21         Lilasti 42a  100      2    4    600   80000\n",
       "4             Pureņu 3  150      2    4    802   84350\n",
       "29    Ziemeļblāzma 694  245      2    6    700  125000\n",
       "28           Pārupes 1   95      1    4   1268  125000\n",
       "27         Celtnieku 1  225      2    6   1345  125000\n",
       "33        Bruklenaju 3  240      2    6   1800  125000\n",
       "40           Dravnieku  210      3    6    566  130000\n",
       "32            Vītiņu 8   95      1    4   1268  132000\n",
       "35            Rīgas 71  125      2    5   1780  132000\n",
       "49        Ziemeļblāzma  145      2    5    730  133000\n",
       "11          Gaisma 147  200      2    4    661  139000\n",
       "44          Saulrīti 1  120      2    4    600  150000\n",
       "8             Tirgus 3  200      2   10   1200  150000\n",
       "37              Meža 6  238      2    5   2502  157000\n",
       "7           Koklīšu 12  296      2    5   1440  179900\n",
       "16           Ainažu 81  131      1    5   2390  191000\n",
       "46          Stacijas 4  300      2    7    613  215000"
      ]
     },
     "execution_count": 214,
     "metadata": {},
     "output_type": "execute_result"
    }
   ],
   "source": [
    "# zeme.sort_values('cena')"
   ]
  },
  {
   "cell_type": "code",
   "execution_count": 254,
   "metadata": {},
   "outputs": [],
   "source": [
    "X = zeme.drop(columns = ['iela','cena']).to_numpy()\n",
    "y = pd.DataFrame(zeme['cena']).to_numpy()"
   ]
  },
  {
   "cell_type": "markdown",
   "metadata": {},
   "source": [
    "### Datu pētīšana  \n",
    "Pirms mēs mēģinam uz datiem piedzīt lineāru modeli, dati būtu jāizpēta, lai iegūt pilnīgaku skatījumu par to, ko mēs varētu sagaidīt no modeļa.  \n",
    "\n",
    "Pirmkārt, būtu jāizpēta kā atsevišķas kolonnas korelē ar īpašuma cenu un kā atsevišķas kolonnas korelē savā starpā  \n",
    "\n",
    "Kolonnas(īpašības / features), kuras labi korelē ar īpašuma cenu būtu jāsaglabā un no kolonnu kopām, kuras korelē savā starpā būtu jātiek vaļā, atstājot no kopas tikai vienu."
   ]
  },
  {
   "cell_type": "code",
   "execution_count": 255,
   "metadata": {},
   "outputs": [
    {
     "data": {
      "text/plain": [
       "Text(0.5, 0, 'Platību skaitliskās vērtības kvadrātmetros')"
      ]
     },
     "execution_count": 255,
     "metadata": {},
     "output_type": "execute_result"
    },
    {
     "data": {
      "image/png": "[encoded data removed]",
      "text/plain": [
       "<Figure size 432x288 with 1 Axes>"
      ]
     },
     "metadata": {
      "needs_background": "light"
     },
     "output_type": "display_data"
    }
   ],
   "source": [
    "plt.scatter(X[:,0],y,label='mājas platība')\n",
    "plt.scatter(X[:,3],y, color='red',label='zemes platība')\n",
    "plt.legend()\n",
    "plt.ylabel('Cena')\n",
    "plt.xlabel('Platību skaitliskās vērtības kvadrātmetros')"
   ]
  },
  {
   "cell_type": "code",
   "execution_count": 256,
   "metadata": {},
   "outputs": [
    {
     "data": {
      "text/plain": [
       "Text(0, 0.5, 'Cena')"
      ]
     },
     "execution_count": 256,
     "metadata": {},
     "output_type": "execute_result"
    },
    {
     "data": {
      "image/png": "[encoded data removed]",
      "text/plain": [
       "<Figure size 432x288 with 1 Axes>"
      ]
     },
     "metadata": {
      "needs_background": "light"
     },
     "output_type": "display_data"
    }
   ],
   "source": [
    "plt.scatter(X[:,1],y,label='mājas stāvu skaits')\n",
    "plt.legend()\n",
    "plt.ylabel('Cena')"
   ]
  },
  {
   "cell_type": "code",
   "execution_count": 257,
   "metadata": {},
   "outputs": [
    {
     "data": {
      "text/plain": [
       "Text(0, 0.5, 'Cena')"
      ]
     },
     "execution_count": 257,
     "metadata": {},
     "output_type": "execute_result"
    },
    {
     "data": {
      "image/png": "[encoded data removed]",
      "text/plain": [
       "<Figure size 432x288 with 1 Axes>"
      ]
     },
     "metadata": {
      "needs_background": "light"
     },
     "output_type": "display_data"
    }
   ],
   "source": [
    "plt.scatter(X[:,2],y,label='mājas istabu skaits')\n",
    "plt.legend()\n",
    "plt.ylabel('Cena')"
   ]
  },
  {
   "cell_type": "code",
   "execution_count": 258,
   "metadata": {},
   "outputs": [
    {
     "name": "stdout",
     "output_type": "stream",
     "text": [
      "(51, 4) (51, 1)\n"
     ]
    }
   ],
   "source": [
    "print(X.shape, y.shape)"
   ]
  },
  {
   "cell_type": "markdown",
   "metadata": {},
   "source": [
    "Pirms mēs ķeramies pie modeļa, būtu jāpārbauda arī vai kolonnas spēcīgi nekorelē savā starpā"
   ]
  },
  {
   "cell_type": "code",
   "execution_count": 273,
   "metadata": {},
   "outputs": [
    {
     "data": {
      "text/plain": [
       "<matplotlib.axes._subplots.AxesSubplot at 0x20d4147b760>"
      ]
     },
     "execution_count": 273,
     "metadata": {},
     "output_type": "execute_result"
    },
    {
     "data": {
      "image/png": "[encoded data removed]",
      "text/plain": [
       "<Figure size 432x288 with 2 Axes>"
      ]
     },
     "metadata": {
      "needs_background": "light"
     },
     "output_type": "display_data"
    }
   ],
   "source": [
    "# zeme.drop(columns=['iela']).corr()\n",
    "import seaborn as sns\n",
    "sns.heatmap(zeme.drop(columns=['iela']).corr())"
   ]
  },
  {
   "cell_type": "code",
   "execution_count": 259,
   "metadata": {},
   "outputs": [],
   "source": [
    "from sklearn.linear_model import LinearRegression\n",
    "import numpy as np"
   ]
  },
  {
   "cell_type": "code",
   "execution_count": 260,
   "metadata": {},
   "outputs": [],
   "source": [
    "reg = LinearRegression().fit(X,y)"
   ]
  },
  {
   "cell_type": "code",
   "execution_count": 261,
   "metadata": {},
   "outputs": [
    {
     "data": {
      "text/plain": [
       "array([[44460.57082431]])"
      ]
     },
     "execution_count": 261,
     "metadata": {},
     "output_type": "execute_result"
    }
   ],
   "source": [
    "mans_ipasums = np.array([[60,1,2,780]])\n",
    "reg.predict(mans_ipasums)"
   ]
  },
  {
   "cell_type": "markdown",
   "metadata": {},
   "source": [
    "Tagad uzkonstruēsim taisni, kur uz X ass ir attiecīgās kolonnas un uz Y ass ir brīvais loceklis + piedzītais slīpuma koeficients reiz X "
   ]
  },
  {
   "cell_type": "code",
   "execution_count": null,
   "metadata": {},
   "outputs": [],
   "source": []
  },
  {
   "cell_type": "code",
   "execution_count": 264,
   "metadata": {},
   "outputs": [
    {
     "data": {
      "text/plain": [
       "Text(0.5, 0, 'Platību skaitliskās vērtības kvadrātmetros')"
      ]
     },
     "execution_count": 264,
     "metadata": {},
     "output_type": "execute_result"
    },
    {
     "data": {
      "image/png": "[encoded data removed]",
      "text/plain": [
       "<Figure size 432x288 with 1 Axes>"
      ]
     },
     "metadata": {
      "needs_background": "light"
     },
     "output_type": "display_data"
    }
   ],
   "source": [
    "plt.scatter(X[:,0],y,label='mājas platība')\n",
    "plt.scatter(X[:,3],y, color='red',label='zemes platība')\n",
    "\n",
    "y_majasplat = reg.intercept_ + reg.coef_[0][0] * X[:,0]\n",
    "y_zemesplat = reg.intercept_ + reg.coef_[0][3] * X[:,3]\n",
    "plt.plot(X[:,0], y_majasplat,label='Mājas platības paredzējums')\n",
    "plt.plot(X[:,3],y_zemesplat,label='Zemes platības paredzējums',color='red')\n",
    "plt.legend()\n",
    "plt.ylabel('Cena')\n",
    "plt.xlabel('Platību skaitliskās vērtības kvadrātmetros')"
   ]
  },
  {
   "cell_type": "code",
   "execution_count": 265,
   "metadata": {},
   "outputs": [
    {
     "data": {
      "text/plain": [
       "5737.997582197549"
      ]
     },
     "execution_count": 265,
     "metadata": {},
     "output_type": "execute_result"
    }
   ],
   "source": [
    "reg.coef_[0][2]"
   ]
  },
  {
   "cell_type": "code",
   "execution_count": 266,
   "metadata": {},
   "outputs": [
    {
     "data": {
      "text/plain": [
       "Text(0, 0.5, 'Cena')"
      ]
     },
     "execution_count": 266,
     "metadata": {},
     "output_type": "execute_result"
    },
    {
     "data": {
      "image/png": "[encoded data removed]",
      "text/plain": [
       "<Figure size 432x288 with 1 Axes>"
      ]
     },
     "metadata": {
      "needs_background": "light"
     },
     "output_type": "display_data"
    }
   ],
   "source": [
    "plt.scatter(X[:,1],y,label='mājas stāvu skaits')\n",
    "y_stavi = reg.intercept_ + reg.coef_[0][1] * X[:,1]\n",
    "plt.plot(X[:,1],y_stavi,label='Stāvu skaita paredzējums')\n",
    "plt.legend()\n",
    "plt.ylabel('Cena')"
   ]
  },
  {
   "cell_type": "code",
   "execution_count": 274,
   "metadata": {},
   "outputs": [],
   "source": [
    "# Uzdevums:\n",
    "# Pārbaudiet kā modelis atbilst datiem priekš mājas istabu skaita"
   ]
  },
  {
   "cell_type": "code",
   "execution_count": 293,
   "metadata": {},
   "outputs": [],
   "source": [
    "# Uzdevums:\n",
    "# Atkārtojiet 4 pazīmju (features) piedzīšanu, izmantojot ridge un lasso regresijas. Ko var secināt?\n",
    "from sklearn.linear_model import Ridge\n",
    "from sklearn.linear_model import Lasso\n",
    "# reg = Ridge(fit_intercept=False).fit(X,y)\n",
    "# reg = Lasso(fit_intercept=False).fit(X,y)"
   ]
  },
  {
   "cell_type": "code",
   "execution_count": null,
   "metadata": {},
   "outputs": [],
   "source": []
  },
  {
   "cell_type": "code",
   "execution_count": null,
   "metadata": {},
   "outputs": [],
   "source": []
  },
  {
   "cell_type": "code",
   "execution_count": 281,
   "metadata": {},
   "outputs": [],
   "source": [
    "divdim_modelis = zeme.drop(columns=['stāvi','ist','iela']).sort_values('cena')"
   ]
  },
  {
   "cell_type": "code",
   "execution_count": 282,
   "metadata": {},
   "outputs": [],
   "source": [
    "X = divdim_modelis[['m2','zempl']].to_numpy()\n",
    "y = divdim_modelis['cena'].to_numpy()"
   ]
  },
  {
   "cell_type": "code",
   "execution_count": 283,
   "metadata": {},
   "outputs": [],
   "source": [
    "reg = LinearRegression().fit(X,y)\n",
    "# reg = Ridge().fit(X,y)\n",
    "# reg = Lasso().fit(X,y)"
   ]
  },
  {
   "cell_type": "code",
   "execution_count": 284,
   "metadata": {},
   "outputs": [
    {
     "data": {
      "text/plain": [
       "array([35735.38850655])"
      ]
     },
     "execution_count": 284,
     "metadata": {},
     "output_type": "execute_result"
    }
   ],
   "source": [
    "Y_pred = reg.predict(X)  # make predictions\n",
    "mans_ipasums_2d = np.array([[60,780]])\n",
    "reg.predict(mans_ipasums_2d)"
   ]
  },
  {
   "cell_type": "code",
   "execution_count": 290,
   "metadata": {},
   "outputs": [
    {
     "data": {
      "text/plain": [
       "452.98094443092356"
      ]
     },
     "execution_count": 290,
     "metadata": {},
     "output_type": "execute_result"
    }
   ],
   "source": [
    "reg.coef_[0]"
   ]
  },
  {
   "cell_type": "code",
   "execution_count": 291,
   "metadata": {},
   "outputs": [
    {
     "data": {
      "text/plain": [
       "Text(0.5, 0, 'Platību skaitliskās vērtības kvadrātmetros')"
      ]
     },
     "execution_count": 291,
     "metadata": {},
     "output_type": "execute_result"
    },
    {
     "data": {
      "image/png": "[encoded data removed]",
      "text/plain": [
       "<Figure size 432x288 with 1 Axes>"
      ]
     },
     "metadata": {
      "needs_background": "light"
     },
     "output_type": "display_data"
    }
   ],
   "source": [
    "plt.scatter(X[:,0],y,label='mājas platība')\n",
    "plt.scatter(X[:,1],y, color='red',label='zemes platība')\n",
    "\n",
    "y_majasplat = reg.intercept_ + reg.coef_[0] * X[:,0]\n",
    "y_zemesplat = reg.intercept_ + reg.coef_[1] * X[:,1]\n",
    "plt.plot(X[:,0], y_majasplat,label='Mājas platības paredzējums')\n",
    "plt.plot(X[:,1],y_zemesplat,label='Zemes platības paredzējums',color='red')\n",
    "plt.legend()\n",
    "plt.ylabel('Cena')\n",
    "plt.xlabel('Platību skaitliskās vērtības kvadrātmetros')"
   ]
  }
 ],
 "metadata": {
  "kernelspec": {
   "display_name": "Python 3",
   "language": "python",
   "name": "python3"
  },
  "language_info": {
   "codemirror_mode": {
    "name": "ipython",
    "version": 3
   },
   "file_extension": ".py",
   "mimetype": "text/x-python",
   "name": "python",
   "nbconvert_exporter": "python",
   "pygments_lexer": "ipython3",
   "version": "3.8.3"
  }
 },
 "nbformat": 4,
 "nbformat_minor": 4
}
