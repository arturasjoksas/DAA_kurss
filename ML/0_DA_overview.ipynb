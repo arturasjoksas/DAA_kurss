{
 "cells": [
  {
   "cell_type": "markdown",
   "metadata": {},
   "source": [
    "# Ievads datu zinātnē\n",
    "* Kas ir datu zinātne un ko dara datu zinātnieks?  \n",
    "* Kas ir machine learning un kas tai ir kopīgs ar datu zinātni?  \n",
    "* Vispārīgas ML problēmas risināšanas shēma  \n",
    "* Vienkāršākais regresijas modelis  \n",
    "\n",
    "[Source code for most algorithms demonstrated in this notebook](https://github.com/amueller/introduction_to_ml_with_python) Code is slightly varied at places, removing mglearn dependencies"
   ]
  },
  {
   "cell_type": "markdown",
   "metadata": {},
   "source": [
    "## Kas ir datu zinātne un ko dara datu zinātnieks?  \n",
    "Īsi sakot, datu zinātne ir statistika ar datorzinātnes un zināšanu inženierijas elementiem.  \n",
    "Datu zinātnieks ikdienā **cenšās atbildēt** uz jautājumiem un atrast datu pievienoto vērtību, izmantojot programmistisku piekļuvi datubāzēm un datu kopām, lai padarītu datus pielietojamus pētīšanai un statistiskai analīzei, **apgūst nepieciešamās zināšanas** (domain knowledge), lai rezultātus interpretētu, **atrod un pielieto nepieciešamās metodes** un algoritmus, lai šos datus pētītu un **vizualizē/prezentē** iegūtos ieskatus vai rezultātus, **lai nonāktu pie kādas vēlamas rīcības**.  \n",
    "\n",
    "Dati ar kuriem datu zinātniekam ir jāstrādā, var atrasties relāciju / NoSQL datubāzē,    \n",
    "**nestrukturētos** (brīvas formas teksts, attēli, audio),  \n",
    "**daļēji strukturētos** (piem. JSON, kur values ir brīvas formas teksts, arī CSV skaitās daļēji strukturēti)  \n",
    "formātos uz serveriem vai datu ezerā, agregētā vai neagregētā formātā. Var arī būt, ka dati tiek straumēti, tādā gadījumā dati ir pieejami tikai caur kādu specifisku platformu vai rīku (piem. SparkStreaming) un ir jāmāk darboties arī šajā platformā, ja šos datus ir nepieciešams analizēt. Ar datu sākotnējo izpēti, pārveidošanu un padarīšanu pieejamu un ērtu analīzei vairāk nodarbojās datu inženieris, bet datu zinātnieks bieži vien arī veic šos pienākumus.  \n",
    "\n",
    "Lielākā mērogā, datu izpētes un analīzes komandā būtu jābūt gan datu inženieriem, gan datu zinātniekiem. Vidēji 2.5 inženieriem uz vienu zinātnieku."
   ]
  },
  {
   "cell_type": "markdown",
   "metadata": {},
   "source": [
    "## Kas ir Machine Learning un ar ko tas atšķirās no datu zinātnes?  \n",
    "Machine Learning (turpmāk ML) ir algoritmu kopa, kas izmanto statistikas un datorzinātnes konceptus, lai automatizēti veiktu specifiskus uzdevumus bez precīziem norādījumiem vai darbības pārraudzīšanas.  \n",
    "To lieto, lai automatizētu un paātrinātu atkārtojamas darbības vai arī atklātu kādas datiem piemītošas īpašības.  \n",
    "Piem. mēs daudz esam apskatījuši e-veikala piemēru, mēs varētu iegūt vairāk ienākumu, ja mēs klientiem varētu nosūtīt personalizētu preču katalogu ar lietām, kas klientam varētu interesēt, izejot no tā, ko viņš pirms tam ir pircis, piemēram, ar [tirgus groza jeb apriori algoritmu](https://en.wikipedia.org/wiki/Apriori_algorithm)\n",
    "\n",
    "\n",
    "Šis tipiski tiek panākts, izmantojot datus, lai piedzītu matemātiska modeļa parametrus un pēc tam, izmantojot izveidoto modeli, paredzētu ieraksta piederību kādai grupai vai kāda parametra skaitlisko vērtību iepriekš neredzētam ierakstam.  \n",
    "\n",
    "**ML ir tikai daļa no metodēm, ko datu zinātnieks var lietot, atbildot uz jautājumiem vai automatizējot kādas darbības**  \n",
    "\n",
    "Datu zinātniekam pieejamo metožu klāstā ir arī klasiskās statistiskās metodes (hipotēžu pārbaude, laikrindu analīze u.t.t.) un algoritmi, kas ir paredzēti datu dimensiju redukcijai, zināšanas par grafiku zīmēšanas bibliotēkām (it īpaši matplotlib), arī ar SQL, MS Excel, Power BI.  \n",
    "\n",
    "\n",
    "Machine Learning problēmas un tās atrisinošos algoritmus lielākoties iedala trīs (plus divās) lielās grupās.  \n",
    "Šīs trīs (plus dvas) grupas tiek iedalītas sekojoši:  \n",
    "![](https://d2h0cx97tjks2p.cloudfront.net/blogs/wp-content/uploads/sites/2/2019/08/Types-of-Machine-Learning-algorithms.jpg)  \n",
    "Avots: https://data-flair.training/blogs/types-of-machine-learning-algorithms/  \n",
    "\n"
   ]
  },
  {
   "cell_type": "markdown",
   "metadata": {},
   "source": [
    "Dimensionality Reduction ir izdalāma atsevišķi jo  vairāk paredzēta pētniecībai un datu transformēšanai, nevis problēmu risināšanai.  \n",
    "\n",
    "Reinforcement Learning ir reti pielietots un advancēts ML virziens, kas lielākoties izmanto mākslīgos neironu tīklus, lai risinātu ļoti sarežģītas mākslīgā intelekta problēmas.\n",
    "\n",
    "Trīs lielākās grupas raksturo divas pazīmes.  \n",
    "* Vai datu kopa ar kuru algoritms tiek piedzīts, **satur pareizo atbilžu kolonnu vai nē**, \n",
    "* Vai atbildē mums ir **nepieciešams iegūt skaitli** (Privātmājas sagaidāmā tirgus vērtība, lineāra modeļa slīpuma koeficients) **vai grupu** ('Riskants'/'Nav riskants' klients? Cik ir uzvedību raksturojošo grupu mūsu klientu kopā un kādas? Kurā grupā iekrīt mums interesējošs klients?)"
   ]
  },
  {
   "cell_type": "markdown",
   "metadata": {},
   "source": [
    "## Vispārīgas ML problēmas risināšanas shēma  \n",
    "Praktiska ML problēmas risināšana sastāv no sekojošajiem soļiem:  "
   ]
  },
  {
   "cell_type": "markdown",
   "metadata": {},
   "source": [
    "### 0. Datu strukturēšana / pētīšana  \n",
    "Pirms mēs sākam datus pielietot modelī, tie būtu jāpārveido tabulārā vai vienkārši modelim saprotamā formātā un tie jāvizualizē. Jāiegūst pamatstatistikas par atsevišķām kolonnām / atslēgām, jāidentificē unikālo vērtību skaiti, jāidentificē kuras kolonnas / īpašības mēdz saturēt kļūdainu vai iztrūkstošu informāciju.  \n",
    "Šo dara arī datu inženieri, jo šis solis bieži vien ir visdarbietilpīgākais un nekad nav pilnībā pabeigts, ja vien nav iztestētas visas iespējamās uzvedības, kādas vien var parādīties datos."
   ]
  },
  {
   "cell_type": "markdown",
   "metadata": {},
   "source": [
    "### 1. Modeļa izvēle ![](https://scikit-learn.org/stable/_static/ml_map.png)  \n",
    "Lai gan ML modelis spēj pielāgot modeļa parametrus, pašu modeli ir jāizvēlās apzināti t.i. mēs neizvēlēsimies klasifikācijas algoritmu, ja nepieciešams automātiski prognozēt skaitlisku vērtību un neizvēlēsimies eksponenciālu sakarību modelēt ar lineāru modeli, pat ja ir iespējams salīdzinoši adekvātu slīpuma koeficientu.\n",
    "Avots: [oficiālā sklearn dokumentācija](https://scikit-learn.org/stable/tutorial/machine_learning_map/index.html)"
   ]
  },
  {
   "cell_type": "markdown",
   "metadata": {},
   "source": [
    "### 2. Datu attīrīšana / transformēšana  \n",
    "* Dati ne vienmēr ir piemēroti, lai tos pa taisno liktu iekšā modelī. Bieži var rasties situācijas, kad, piemēram, pandas, ielasot csv failu, kādu kolonnu interpretē kā string tipu. \n",
    "* Šajā solī tiek galā ar iztrūkstošajām vērtībām un vai nu tās speciāli apzīmē, iestāda default uzvedības vai arī kļūdainos ierakstus atmet.  \n",
    "* Var nākties arī n-kategoriskus teksta datus (vienā kolonnā ir n dažādas vērtības) izvērst par binārām vērtībām n kolonnās. Šī darbība ir pazīštama kā **One-Hot encoding**, kas ir plaši pielietots triks, lai tiktu galā ar kategoriskiem datiem.  \n",
    "* Datus varētu būt nepieciešams normēt vienā no vairākiem veidiem jo ir modeļi, kuri ir ļoti jūtīgi pret datu punktu absolūtajām vērtībām (SVM, PCA). \n",
    "\n",
    "\n"
   ]
  },
  {
   "cell_type": "markdown",
   "metadata": {},
   "source": [
    "### 3. Datu kopas sadale  \n",
    "Lai piedzītu izvēlētā modeļa parametrus (to 'uztrenētu'), ir nepieciešams pietiekams daudzums datu. Pietiekamais daudzums variē no modeļa uz modeli, bet jo vairāk datu, jo labāka treniņkopa. \n",
    "Ja ir pieejama viena datu kopa un ir jāuztrenē modelis, mēs, protams, šo kopu izmantosim, lai trenētu modeli, bet, jāņem vērā, ka modeli mums pēc tam arī ir jāpārbauda.  \n",
    "Ja mums pieejamā kopa ir labelota ar pareizajām atbildēm (supervised learning), tad datu kopa ir jāsadala treniņa un testa (un iespējams arī validācijas) kopās.  \n",
    "\n",
    "**!! Turpmāk visi piemēri un analoģijas būs tieši ar supervised classification un supervised regression piemēriem. !!**  \n",
    "\n",
    "* Treniņa kopai būtu jābūt pietiekoši lielai, lai ierakstu (rindiņu) un īpašību (kolonnu) skaita attiecība būtu KĀ MINIMUMS 10:1 , bet praktiski tai būtu jābūt daudz lielākai.  \n",
    "* Testa/validācijas kopas arī nedrīkst būt pārāk mazas. sklearn iebūvētās funkcijas, treniņa/testa kopu veidošanai, testa kopā ievieto aptuveni 25% no visiem datiem.  \n",
    "* Validācijas kopa ir kopa ar ko tiek mērīta modeļa reālā uzvedība. Šī kopa ir jāizveido un to modelis trenēšanas-testēšanas ciklā nekad nedrīkst būt redzējis.  "
   ]
  },
  {
   "cell_type": "markdown",
   "metadata": {},
   "source": [
    "### 4. Modeļa treniņš  \n",
    "Sekojot modeļa īpašībām un modeļa implementācijas dokumentācijai, modeli uztrenē.  \n",
    "Lielākajai daļai modeļu ir iestatīti noklusējuma parametri, bet tos visus var mainīt. Parametri, kas tiek padoti, modeli trenējot, ir tā saucamie hiperparametri t.i. tie nav modeļa aprēķināti, bet gan mūsu izvēlēti, modeļa uzvedību definējoši parametri. Hiperparameru piemērs ir piemēram K-NearestNeighbors tuvāko kaimiņu skaits, kas tiks lietots, modeli trenējot un lietojot.  "
   ]
  },
  {
   "cell_type": "markdown",
   "metadata": {},
   "source": [
    "### 5. Modeļa pārbaude  \n",
    "Kad modelis ir uztrenēts, laiks to pārbaudīt.  \n",
    "Ja mēs darbojamies ar labelotiem datiem, tad klasifikācijas problēmā mēs pārbaudītu gan cik procenti no visiem piemēriem mums atgriež pareizu labeli gan no treniņa kopas, gan no testa kopas.  \n",
    "\n",
    "Ar labelotām regresijas problēmām ir mazliet sarežģītāk. Var pārbaudīt R^2 vērtības, var pētīt vai residuals atbilst normālsadalījumam, bet, bieži vien, ja mēs darbojamies ar bibliotēkās paslēptām modeļu implementācijām, šīs metodes ir vispārinātas, pielāgotas un par tām jāuztraucās nav. Rezultāts tāpat ir skaitlis, kas raksturo modeļa paredzēšanas spējas robežās no 0 līdz 1.\n",
    "\n",
    "**! ! !** Bieži var saskarties ar to, ka treniņkopas precizitāte ir ārkārtīgi augsta (virs 90%), bet testa kopas, savukārt, ir zema. Tas nozīmē, ka modelis, tā vietā, lai būtu iemācījies kādu vispārīgu sakarību no datiem, ir vienkārši iegaumējis datu kopas specifiku. Šādu situāciju sauc par **over-fitting**. Šim par upuri bieži mēdz krist Decision Tree algoritms un tā variācijas.   \n",
    "\n",
    "Ja mēs esam uztrenējuši non-supervised modeli, tad tiešas testēšanas pieejas nav. Mēs varam veikt k-fold cross validation (izskaidrots nākamajā punktā) un pētīt vai modeļa precizitātes un izvade (parametru komplekts kā piem. iegūto klasteru skaits un īpašības) drastiski nemainās, varam mēģināt paši ar roku veikt kādu klasifikāciju, pētīt vai ir kāda loģika datiem sadalīties tieši šādi piem. socioloģiskos pētījumos varētu būt pamatojums tam, kāpēc konkrēti datu punkti iekrīt konkrētās grupās u.t.t."
   ]
  },
  {
   "cell_type": "markdown",
   "metadata": {},
   "source": [
    "### 6. Train, test, analyze, repeat  \n",
    "Modeļa pirmās iterācijas reti kad atgriezīs apmierinošu precizitāti un saprast kāpēc precizitāte ir tāda, kāda ir, nav vienkāršs uzdevums.  \n",
    "Ir vairākas metodes, kas var palīdzēt sākt skatīties pareizajā virzienā.  \n",
    "* k-Fold Cross validation ir metode, kurā mēs paņemam visu datu kopu (izņemot validācijai paredzētos datus), nejauši sakārtojam un sadalam k daļās. Tad atkārtojam modeļa treniņu un testēšanu k reizes, katru reizi izmantojot citu daļu kā testa kopu un visas pārējās kā treniņkopu.  \n",
    "* Hiperparametru variēšana var palīdzēt uzlabot precizitāti. Tos arī varētu mēģināt variēt. \n",
    "* Var mēģināt izveido jaunu īpašību/kolonnu kā funkciju no kādas citas kolonnas un izmantot to vai nu papildus esošajām kolonnām, vai kā aizstājēju. Šīs kolonnas var vai nu sadalīt vienu kolonnu vairākās vai apvienot vairākas kolonnas vienā.  \n",
    "* Var pamēģināt arī tieši pretējo - atmest kādu kolonnu, kuras pienesums varētu būt minimāls vai ļoti trokšņains  \n",
    "\n",
    "Var pamēģināt arī darbības ar pašiem modeļiem:  \n",
    "* Var mēģināt ansambli ar modeļiem t.i. trenēt/lietot vairākus modeļus uz šiem datiem, kuri pēc tam 'vienojās' par pareizo atbildi, piem. izvelkot vidējo no visu regresijas modeļu sniegto paredzējumu summas.  \n",
    "* Var pamēģināt arī sadalīt datu kopu loģiskās daļās un izmēģināt dažādus modeļus dažādiem kādas kolonnas/-u vērtību intervāliem vai kategorijām.  \n",
    "\n",
    "Kad modelis ir uztrenēts un precizitāte ir apmierinoša, modelis ir jāpārbauda var validācijas kopu. Ja precizitāte vēl aizvien nav apmierinoša, būtu jāapsver cits modelis vai jāatrod variācija, kura strādā pietiekoši labi. \n",
    "Ja nekas nesanāk, jāatgriežās pie **0.** punkta un jāmēģina problēmu apskatīt savādāk. "
   ]
  },
  {
   "cell_type": "code",
   "execution_count": null,
   "metadata": {},
   "outputs": [],
   "source": []
  },
  {
   "cell_type": "code",
   "execution_count": null,
   "metadata": {},
   "outputs": [],
   "source": []
  },
  {
   "cell_type": "code",
   "execution_count": null,
   "metadata": {},
   "outputs": [],
   "source": []
  },
  {
   "cell_type": "code",
   "execution_count": null,
   "metadata": {},
   "outputs": [],
   "source": []
  },
  {
   "cell_type": "code",
   "execution_count": null,
   "metadata": {},
   "outputs": [],
   "source": []
  },
  {
   "cell_type": "code",
   "execution_count": null,
   "metadata": {},
   "outputs": [],
   "source": [
    "# Nepieciešamās bibliotēkas un bibliotēku moduļi:\n",
    "import numpy as np\n",
    "import pandas as pd\n",
    "import matplotlib.pyplot as plt\n",
    "\n",
    "# Moduļi datu normēšanai\n",
    "from sklearn.preprocessing import MinMaxScaler\n",
    "from sklearn.preprocessing import StandardScaler\n",
    "\n",
    "\n",
    "\n",
    "\n",
    "# Parauga datu kopas:\n",
    "from sklearn.datasets import load_iris\n",
    "iris_dataset = load_iris()\n",
    "\n",
    "from sklearn.datasets import load_breast_cancer\n",
    "cancer = load_breast_cancer()\n",
    "\n",
    "from sklearn.datasets import make_blobs\n"
   ]
  },
  {
   "cell_type": "markdown",
   "metadata": {},
   "source": [
    "### Vienkāršākais regresijas modeļi  \n",
    "Apskatīsim vienkāršāko lineāro regresiju - taisnes piedzīšanu divās dimensijās.  \n"
   ]
  },
  {
   "cell_type": "code",
   "execution_count": null,
   "metadata": {},
   "outputs": [],
   "source": [
    "# Source: \n",
    "# https://github.com/chasinginfinity/ml-from-scratch/tree/master/03%20Linear%20Regression%20in%202%20minutes\n",
    "from sklearn.linear_model import LinearRegression\n",
    "\n",
    "data = pd.read_csv('data.csv')  # load data set\n",
    "X = data.iloc[:, 0].values.reshape(-1, 1)  # values converts it into a numpy array\n",
    "Y = data.iloc[:, 1].values.reshape(-1, 1)  # -1 means that calculate the dimension of rows, but have 1 column\n"
   ]
  },
  {
   "cell_type": "code",
   "execution_count": null,
   "metadata": {
    "scrolled": true
   },
   "outputs": [],
   "source": [
    "data"
   ]
  },
  {
   "cell_type": "code",
   "execution_count": null,
   "metadata": {},
   "outputs": [],
   "source": [
    "X"
   ]
  },
  {
   "cell_type": "code",
   "execution_count": null,
   "metadata": {},
   "outputs": [],
   "source": [
    "linear_regressor = LinearRegression()  # create object for the class\n",
    "linear_regressor.fit(X, Y)  # perform linear regression \n",
    "# //Praktiski visiem sklearn modeļiem ir funkcijas .fit(), .predict() un .score()\n"
   ]
  },
  {
   "cell_type": "code",
   "execution_count": null,
   "metadata": {},
   "outputs": [],
   "source": [
    "# linear_regressor.get_params()\n",
    "linear_regressor.coef_"
   ]
  },
  {
   "cell_type": "code",
   "execution_count": null,
   "metadata": {},
   "outputs": [],
   "source": [
    "Y_pred = linear_regressor.predict(X)  # make predictions\n",
    "plt.scatter(X, Y)\n",
    "plt.plot(X, Y_pred, color='red')\n",
    "plt.show()"
   ]
  },
  {
   "cell_type": "markdown",
   "metadata": {},
   "source": [
    "## Vienkāršākie klasifikācijas modeļi  \n",
    "Apskatīsim K-Nearest Neighbors, SVC un Logistic Regression algoritmus. Par spīti nosaukumam, Logistic Regression NAV regresijas modelis, bet klasifikācijas modelis, kas piemērots binārajai klasifikācijai."
   ]
  },
  {
   "cell_type": "markdown",
   "metadata": {},
   "source": [
    "### K-NearestNeighbors klasifikators"
   ]
  },
  {
   "cell_type": "code",
   "execution_count": null,
   "metadata": {},
   "outputs": [],
   "source": [
    "print(\"Keys of iris_dataset:\\n\", iris_dataset.keys())"
   ]
  },
  {
   "cell_type": "code",
   "execution_count": null,
   "metadata": {},
   "outputs": [],
   "source": [
    "print(iris_dataset['DESCR'][:193] + \"\\n...\")\n",
    "print(\"\\n\\n\\n\")\n",
    "print(\"Target names:\", iris_dataset['target_names'])\n",
    "print(\"Feature names:\\n\", iris_dataset['feature_names'])\n",
    "print(\"Type of data:\", type(iris_dataset['data']))\n",
    "print(\"Shape of data:\", iris_dataset['data'].shape)\n",
    "print(\"Type of target:\", type(iris_dataset['target']))\n",
    "print(\"Shape of target:\", iris_dataset['target'].shape)\n",
    "print(\"First five rows of data:\\n\", iris_dataset['data'][:5])"
   ]
  },
  {
   "cell_type": "code",
   "execution_count": null,
   "metadata": {},
   "outputs": [],
   "source": [
    "\n",
    "X_train, X_test, y_train, y_test = train_test_split(\n",
    "iris_dataset['data'], iris_dataset['target'], random_state=0)\n",
    "\n",
    "print(\"X_train shape:\", X_train.shape)\n",
    "print(\"y_train shape:\", y_train.shape)\n",
    "print(\"X_test shape:\", X_test.shape)\n",
    "print(\"y_test shape:\", y_test.shape)"
   ]
  },
  {
   "cell_type": "code",
   "execution_count": null,
   "metadata": {},
   "outputs": [],
   "source": [
    "y_train"
   ]
  },
  {
   "cell_type": "code",
   "execution_count": null,
   "metadata": {},
   "outputs": [],
   "source": [
    "# create dataframe from data in X_train\n",
    "# label the columns using the strings in iris_dataset.feature_names\n",
    "iris_dataframe = pd.DataFrame(X_train, columns=iris_dataset.feature_names)\n",
    "# create a scatter matrix from the dataframe, color by y_train\n",
    "pd.plotting.scatter_matrix(iris_dataframe, c=y_train, figsize=(15, 15),\n",
    "                           marker='o', hist_kwds={'bins': 20}, s=60,\n",
    "                           alpha=.8)\n"
   ]
  },
  {
   "cell_type": "code",
   "execution_count": null,
   "metadata": {},
   "outputs": [],
   "source": [
    "from sklearn.neighbors import KNeighborsClassifier\n",
    "knn = KNeighborsClassifier(n_neighbors=2)\n",
    "knn.fit(X_train, y_train)"
   ]
  },
  {
   "cell_type": "code",
   "execution_count": null,
   "metadata": {},
   "outputs": [],
   "source": [
    "knn.score(X_train, y_train)"
   ]
  },
  {
   "cell_type": "code",
   "execution_count": null,
   "metadata": {},
   "outputs": [],
   "source": [
    "knn.score(X_test, y_test)"
   ]
  },
  {
   "cell_type": "code",
   "execution_count": null,
   "metadata": {},
   "outputs": [],
   "source": []
  },
  {
   "cell_type": "code",
   "execution_count": null,
   "metadata": {},
   "outputs": [],
   "source": []
  },
  {
   "cell_type": "markdown",
   "metadata": {},
   "source": [
    "### Support Vector Classifier (SVC) jeb klasifikācija, izmantojot hiperplaknes. Kļūdas (cost) funkcija.\n",
    "SVC ir skaitlļošanas ziņā viegli pielietojams modelis, kas var kalpot kā labs sākums jebkuram binārās klasifikācijas uzdevumam.  \n",
    "\n",
    "Tāpat kā nākamajā algoritmā, šeit, nevis, lai izmantotu kādu vienkāršu parametru kā izsvērt vidējo vērtību tuvākajiem n kaimiņiem vai aprēķinātu kādas statistiskas īpašības pa kolonnām, mēs mēģinam n-dimensionālu funkciju piedzīt tā, lai tā labi atdalītu mums interesējošāš grupas. SVC gadījumā tā ir plakne.  \n",
    "\n",
    "**Funkciju piedzīšana notiek, izmantojot kļūdas funkcijas**, kas labu modeli no slikta nošķir ar to, cik ļoti modeļa paredzējums ir nobīdīts no reālajiem rezultātiem. Kļūdas funkcijas arī ir iespējams regulēt, ko nosaka SVC un LogisticRegression hiperparametri **'penalty'** un **'C'**, kas ievieš papildu matemātiskas īpašības kļūdas funkcijā, kas padara overfitting par mazvarbūtīgāku.  \n"
   ]
  },
  {
   "cell_type": "code",
   "execution_count": null,
   "metadata": {},
   "outputs": [],
   "source": [
    "from sklearn.svm import LinearSVC\n",
    "\n",
    "cancer = load_breast_cancer()\n",
    "X = cancer.data\n",
    "y = cancer.target\n",
    "X_train, X_test, y_train, y_test = train_test_split(\n",
    "    cancer.data, cancer.target, stratify=cancer.target, random_state=42)\n",
    "\n",
    "clf = LinearSVC().fit(X_train, y_train)\n",
    "print(\"training set precision: \",clf.score(X_train,y_train))\n",
    "print(\"test set precision: \",clf.score(X_test,y_test))\n"
   ]
  },
  {
   "cell_type": "code",
   "execution_count": null,
   "metadata": {},
   "outputs": [],
   "source": []
  },
  {
   "cell_type": "markdown",
   "metadata": {},
   "source": [
    "### Logistic Regression klasifikators  \n",
    "\n",
    "Apskatīsim loģistisko regresiju, kas labi piemērota binārās klasifikācijas uzdevumiem. Atšķirībā no SVC, šeit izmantojam specifisku funkciju, ko sauc arī par loģistisko funkciju\n",
    "\n",
    "Apskatīsim padziļinātāk arī kā hiperparametru pielāgošana var mainīt modeļa uzvedību."
   ]
  },
  {
   "cell_type": "code",
   "execution_count": null,
   "metadata": {},
   "outputs": [],
   "source": [
    "from sklearn.linear_model import LogisticRegression\n",
    "\n",
    "cancer = load_breast_cancer()\n",
    "X_train, X_test, y_train, y_test = train_test_split(\n",
    "    cancer.data, cancer.target, stratify=cancer.target, random_state=42)\n",
    "\n",
    "logreg = LogisticRegression().fit(X_train, y_train)\n",
    "\n",
    "print(\"Training set score: {:.3f}\".format(logreg.score(X_train, y_train)))\n",
    "print(\"Test set score: {:.3f}\".format(logreg.score(X_test, y_test)))\n"
   ]
  },
  {
   "cell_type": "code",
   "execution_count": null,
   "metadata": {},
   "outputs": [],
   "source": [
    "logreg100 = LogisticRegression(C=100).fit(X_train, y_train)\n",
    "print(\"Training set score: {:.3f}\".format(logreg100.score(X_train, y_train)))\n",
    "print(\"Test set score: {:.3f}\".format(logreg100.score(X_test, y_test)))"
   ]
  },
  {
   "cell_type": "code",
   "execution_count": null,
   "metadata": {},
   "outputs": [],
   "source": [
    "logreg001 = LogisticRegression(C=0.01).fit(X_train, y_train)\n",
    "print(\"Training set score: {:.3f}\".format(logreg001.score(X_train, y_train)))\n",
    "print(\"Test set score: {:.3f}\".format(logreg001.score(X_test, y_test)))"
   ]
  },
  {
   "cell_type": "code",
   "execution_count": null,
   "metadata": {},
   "outputs": [],
   "source": []
  },
  {
   "cell_type": "code",
   "execution_count": null,
   "metadata": {},
   "outputs": [],
   "source": [
    "# Šeit variējam C parametru (inverso regularizācijas stiprumu)\n",
    "\n",
    "for C, marker in zip([0.001, 1, 100], ['o', '^', 'v']):\n",
    "    lr_l1 = LogisticRegression(C=C, solver='liblinear', penalty=\"l1\").fit(X_train, y_train)\n",
    "    print(\"Training accuracy of l1 logreg with C={:.3f}: {:.2f}\".format(\n",
    "          C, lr_l1.score(X_train, y_train)))\n",
    "    print(\"Test accuracy of l1 logreg with C={:.3f}: {:.2f}\".format(\n",
    "          C, lr_l1.score(X_test, y_test)))\n",
    "    plt.plot(lr_l1.coef_.T, marker, label=\"C={:.3f}\".format(C))\n",
    "\n",
    "plt.xticks(range(cancer.data.shape[1]), cancer.feature_names, rotation=90)\n",
    "xlims = plt.xlim()\n",
    "plt.hlines(0, xlims[0], xlims[1])\n",
    "plt.xlim(xlims)\n",
    "plt.xlabel(\"Feature\")\n",
    "plt.ylabel(\"Coefficient magnitude\")\n",
    "\n",
    "plt.ylim(-5, 5)\n",
    "plt.legend(loc=3)"
   ]
  },
  {
   "cell_type": "code",
   "execution_count": null,
   "metadata": {},
   "outputs": [],
   "source": []
  },
  {
   "cell_type": "code",
   "execution_count": null,
   "metadata": {},
   "outputs": [],
   "source": []
  },
  {
   "cell_type": "code",
   "execution_count": null,
   "metadata": {},
   "outputs": [],
   "source": [
    "#Uzdevums:\n",
    "# Izveidojiet pandas DataFrame ar kuru tad veiciet lineāro regresiju"
   ]
  },
  {
   "cell_type": "code",
   "execution_count": null,
   "metadata": {},
   "outputs": [],
   "source": [
    "# Uzdevums:\n",
    "# Paspēlējieties ar LogisticRegression() un LinearSVC() hiperparametriem, mēģinot uzlabot rezultātus.\n",
    "# Visus iespējamos parametrus var atrast sklearn dokumentācijā"
   ]
  },
  {
   "cell_type": "code",
   "execution_count": null,
   "metadata": {},
   "outputs": [],
   "source": []
  },
  {
   "cell_type": "code",
   "execution_count": null,
   "metadata": {},
   "outputs": [],
   "source": []
  },
  {
   "cell_type": "code",
   "execution_count": null,
   "metadata": {},
   "outputs": [],
   "source": []
  }
 ],
 "metadata": {
  "kernelspec": {
   "display_name": "Python 3",
   "language": "python",
   "name": "python3"
  },
  "language_info": {
   "codemirror_mode": {
    "name": "ipython",
    "version": 3
   },
   "file_extension": ".py",
   "mimetype": "text/x-python",
   "name": "python",
   "nbconvert_exporter": "python",
   "pygments_lexer": "ipython3",
   "version": "3.7.5"
  }
 },
 "nbformat": 4,
 "nbformat_minor": 2
}
