{
 "cells": [
  {
   "cell_type": "markdown",
   "metadata": {},
   "source": [
    "# Komandrindas argumenti\n",
    "(angliski: command line arguments)  \n",
    "Ja python kods tiek izpildīts no komandrindas, tad tāpat kā bash funkcijām *mv*, *ls* un *cd* aiz atstarpes var padot komandrindas argumentu.  \n",
    "Protams, failā, kurš tiek izpildīts, ir jābūt nepieciešamajam kodam, kas šo padoto argumentu ieliek mainīgajā.  \n",
    "Ja mums ir fails `md2.py` un vēlamies tam kā argumentu padot vērtību 157, tad uz macOS un Linux operētājsistēmām tas izskatīsies šādi  \n",
    "\n",
    "``oskars@oskara_dators:~$ python md2.py 157``\n",
    "\n",
    "Savukārt, lai kodā izmantotu komandrindas argumentu, failā `md2.py` būtu jābūt sekojošajai struktūrai:  \n",
    "\n",
    "``\n",
    "import sys\n",
    "a = sys.argv[1]\n",
    "``  \n",
    "\n",
    "`sys` ir pitona standartbibliotēka, kas atļauj veikt darbības, kas ir saistītas ar darbībām ārpus paša python faila koda. Ar `sys` ir iespējams veikt tādas pašas darbības kā ar linux komanrindu t.i. pārvietot failus, skatīt direktoriju saturu un arī parsēt komandrindas argumentus.  \n",
    "Kā parasti, argumenta nosaukumam nav nekādas nozīmes. a vietā var lietot jebko. \n",
    "\n",
    "**!!** Ievērojiet, ka fails var ņemt vairākus argumentus un `sys.argv` ir saraksta tips.  \n",
    "**!!** Ievērojiet arī, ka nevis šeit skaitīšana sākās no vieninieka, bet nulltais komandrindas arguments ir pats padotā .py faila nosaukums."
   ]
  },
  {
   "cell_type": "code",
   "execution_count": null,
   "metadata": {},
   "outputs": [],
   "source": []
  }
 ],
 "metadata": {
  "kernelspec": {
   "display_name": "Python 3",
   "language": "python",
   "name": "python3"
  },
  "language_info": {
   "codemirror_mode": {
    "name": "ipython",
    "version": 3
   },
   "file_extension": ".py",
   "mimetype": "text/x-python",
   "name": "python",
   "nbconvert_exporter": "python",
   "pygments_lexer": "ipython3",
   "version": "3.8.3"
  }
 },
 "nbformat": 4,
 "nbformat_minor": 4
}
