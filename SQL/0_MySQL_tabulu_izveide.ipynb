{
 "cells": [
  {
   "cell_type": "code",
   "execution_count": 6,
   "metadata": {},
   "outputs": [],
   "source": [
    "import pandas as pd\n",
    "import getpass\n",
    "from sqlalchemy import create_engine\n",
    "from sqlalchemy.exc import ResourceClosedError"
   ]
  },
  {
   "cell_type": "code",
   "execution_count": 7,
   "metadata": {},
   "outputs": [],
   "source": [
    "class MySQLConnection:\n",
    "    def __init__(self,user,hostname,db):\n",
    "        self.user = str(user)\n",
    "        self.hostname = str(hostname)\n",
    "        self.db = str(db)\n",
    "        pword = getpass.getpass(\"Enter password for user {}\".format(user))\n",
    "        # self.cnx = mysql.connector.connect(host=self.hostname,user=self.user, password=pword,database=self.db)\n",
    "        self.engine = create_engine(\"mysql+mysqlconnector://{}:{}@{}/{}\".format(user,pword,hostname,db))\n",
    "        self.cnx = self.engine.connect()\n",
    "    \n",
    "    def write_to_db(self, df, table_name):\n",
    "        try:\n",
    "            df.to_sql(table_name,con = self.cnx,if_exists='fail',index=False)\n",
    "        except Exception as e:\n",
    "            print(\"\\n SQL Write error with: \")\n",
    "            print(df,\"\\n\", e)\n",
    "    \n",
    "    def query(self,q):\n",
    "        try:\n",
    "            res = pd.read_sql(q,self.cnx)\n",
    "            return res\n",
    "        except ResourceClosedError:\n",
    "            print(\"Query success, nothing was returned\")"
   ]
  },
  {
   "cell_type": "code",
   "execution_count": 8,
   "metadata": {},
   "outputs": [
    {
     "name": "stdout",
     "output_type": "stream",
     "text": [
      "Enter password for user oskars_s········\n"
     ]
    }
   ],
   "source": [
    "sql = MySQLConnection('oskars_s','ec2-13-53-140-213.eu-north-1.compute.amazonaws.com','dati')"
   ]
  },
  {
   "cell_type": "code",
   "execution_count": 5,
   "metadata": {},
   "outputs": [],
   "source": [
    "a_code = pd.read_csv('access-code.csv',';')\n",
    "a_code_pword_rec = pd.read_csv('access-code-password-recovery-code.csv',sep=';')\n",
    "un_pw_rec_code = pd.read_csv('username-password-recovery-code.csv',sep=';')\n",
    "un = pd.read_csv('username.csv',sep=';')\n",
    "email = pd.read_csv('email.csv',sep=';')\n",
    "un_email = pd.read_csv('username-or-email.csv',sep=';')\n",
    "email_pw_rec = pd.read_csv('email-password-recovery-code.csv',sep=';')"
   ]
  },
  {
   "cell_type": "code",
   "execution_count": 6,
   "metadata": {},
   "outputs": [],
   "source": [
    "a_code.columns = ['Identifier', 'Firstname','Lastname']\n",
    "a_code_pword_rec.columns = ['Identifier','Accesscode','Recoverycode','Firstname','Lastname','Department','Location']\n",
    "un_pw_rec_code.columns = ['Username','Identifier','Onetimepassword','Recoverycode','Firstname','Lastname','Department','Location']\n",
    "un.columns = ['Username', 'Identifier', 'Firstname','Lastname']\n",
    "email.columns = ['Loginemail','Identifier', 'Firstname','Lastname']\n",
    "un_email.columns = ['Username','Loginemail','Identifier', 'Firstname','Lastname']\n",
    "email_pw_rec.columns = ['Loginemail','Identifier','Onetimepassword','Recoverycode', 'Firstname','Lastname','Department','Location']"
   ]
  },
  {
   "cell_type": "code",
   "execution_count": null,
   "metadata": {},
   "outputs": [],
   "source": []
  },
  {
   "cell_type": "code",
   "execution_count": 7,
   "metadata": {},
   "outputs": [],
   "source": [
    "sql.write_to_db(a_code,'access_code')\n",
    "sql.write_to_db(a_code_pword_rec,'access_code_password_recovery_code')\n",
    "sql.write_to_db(un_pw_rec_code,'username_password_recovery_code')\n",
    "sql.write_to_db(un,'username')\n",
    "sql.write_to_db(email,'email')\n",
    "sql.write_to_db(un_email,'username_or_email')\n",
    "sql.write_to_db(email_pw_rec,'email_password_recovery_code')\n",
    "check = True"
   ]
  }
 ],
 "metadata": {
  "kernelspec": {
   "display_name": "Python 3",
   "language": "python",
   "name": "python3"
  },
  "language_info": {
   "codemirror_mode": {
    "name": "ipython",
    "version": 3
   },
   "file_extension": ".py",
   "mimetype": "text/x-python",
   "name": "python",
   "nbconvert_exporter": "python",
   "pygments_lexer": "ipython3",
   "version": "3.7.5"
  }
 },
 "nbformat": 4,
 "nbformat_minor": 2
}
