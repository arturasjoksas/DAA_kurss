{
 "cells": [
  {
   "cell_type": "code",
   "execution_count": 6,
   "metadata": {},
   "outputs": [],
   "source": [
    "import pandas as pd\n",
    "import getpass\n",
    "from sqlalchemy import create_engine\n",
    "from sqlalchemy.exc import ResourceClosedError"
   ]
  },
  {
   "cell_type": "code",
   "execution_count": 7,
   "metadata": {},
   "outputs": [],
   "source": [
    "class MySQLConnection:\n",
    "    def __init__(self,user,hostname,db):\n",
    "        self.user = str(user)\n",
    "        self.hostname = str(hostname)\n",
    "        self.db = str(db)\n",
    "        pword = getpass.getpass(\"Enter password for user {}\".format(user))\n",
    "        # self.cnx = mysql.connector.connect(host=self.hostname,user=self.user, password=pword,database=self.db)\n",
    "        self.engine = create_engine(\"mysql+mysqlconnector://{}:{}@{}/{}\".format(user,pword,hostname,db))\n",
    "        self.cnx = self.engine.connect()\n",
    "    \n",
    "    def write_to_db(self, df, table_name):\n",
    "        try:\n",
    "            df.to_sql(table_name,con = self.cnx,if_exists='fail',index=False)\n",
    "        except Exception as e:\n",
    "            print(\"\\n SQL Write error with: \")\n",
    "            print(df,\"\\n\", e)\n",
    "    \n",
    "    def query(self,q):\n",
    "        try:\n",
    "            res = pd.read_sql(q,self.cnx)\n",
    "            return res\n",
    "        except ResourceClosedError:\n",
    "            print(\"Query success, nothing was returned\")"
   ]
  },
  {
   "cell_type": "code",
   "execution_count": 8,
   "metadata": {},
   "outputs": [
    {
     "name": "stdout",
     "output_type": "stream",
     "text": [
      "Enter password for user oskars_s········\n"
     ]
    }
   ],
   "source": [
    "sql = MySQLConnection('oskars_s','ec2-13-53-140-213.eu-north-1.compute.amazonaws.com','dati')"
   ]
  },
  {
   "cell_type": "code",
   "execution_count": 8,
   "metadata": {},
   "outputs": [
    {
     "data": {
      "text/html": [
       "<div>\n",
       "<style scoped>\n",
       "    .dataframe tbody tr th:only-of-type {\n",
       "        vertical-align: middle;\n",
       "    }\n",
       "\n",
       "    .dataframe tbody tr th {\n",
       "        vertical-align: top;\n",
       "    }\n",
       "\n",
       "    .dataframe thead th {\n",
       "        text-align: right;\n",
       "    }\n",
       "</style>\n",
       "<table border=\"1\" class=\"dataframe\">\n",
       "  <thead>\n",
       "    <tr style=\"text-align: right;\">\n",
       "      <th></th>\n",
       "      <th>Username</th>\n",
       "      <th>Identifier</th>\n",
       "    </tr>\n",
       "  </thead>\n",
       "  <tbody>\n",
       "    <tr>\n",
       "      <th>0</th>\n",
       "      <td>jenkins46</td>\n",
       "      <td>9346</td>\n",
       "    </tr>\n",
       "    <tr>\n",
       "      <th>1</th>\n",
       "      <td>booker12</td>\n",
       "      <td>9012</td>\n",
       "    </tr>\n",
       "    <tr>\n",
       "      <th>2</th>\n",
       "      <td>smith79</td>\n",
       "      <td>5079</td>\n",
       "    </tr>\n",
       "  </tbody>\n",
       "</table>\n",
       "</div>"
      ],
      "text/plain": [
       "    Username  Identifier\n",
       "0  jenkins46        9346\n",
       "1   booker12        9012\n",
       "2    smith79        5079"
      ]
     },
     "execution_count": 8,
     "metadata": {},
     "output_type": "execute_result"
    }
   ],
   "source": [
    "select_query_template = \"\"\" \n",
    "SELECT \n",
    "    Username, \n",
    "    Identifier \n",
    "FROM \n",
    "    username_or_email \n",
    "WHERE \n",
    "    identifier > 4000\n",
    "ORDER BY \n",
    "    identifier DESC \n",
    "LIMIT 3\n",
    "\"\"\"\n",
    "\n",
    "pd.read_sql(select_query_template, sql.cnx)"
   ]
  },
  {
   "cell_type": "code",
   "execution_count": 9,
   "metadata": {},
   "outputs": [
    {
     "data": {
      "text/html": [
       "<div>\n",
       "<style scoped>\n",
       "    .dataframe tbody tr th:only-of-type {\n",
       "        vertical-align: middle;\n",
       "    }\n",
       "\n",
       "    .dataframe tbody tr th {\n",
       "        vertical-align: top;\n",
       "    }\n",
       "\n",
       "    .dataframe thead th {\n",
       "        text-align: right;\n",
       "    }\n",
       "</style>\n",
       "<table border=\"1\" class=\"dataframe\">\n",
       "  <thead>\n",
       "    <tr style=\"text-align: right;\">\n",
       "      <th></th>\n",
       "      <th>Location</th>\n",
       "      <th>count(*)</th>\n",
       "    </tr>\n",
       "  </thead>\n",
       "  <tbody>\n",
       "    <tr>\n",
       "      <th>0</th>\n",
       "      <td>London</td>\n",
       "      <td>2</td>\n",
       "    </tr>\n",
       "    <tr>\n",
       "      <th>1</th>\n",
       "      <td>Manchester</td>\n",
       "      <td>3</td>\n",
       "    </tr>\n",
       "  </tbody>\n",
       "</table>\n",
       "</div>"
      ],
      "text/plain": [
       "     Location  count(*)\n",
       "0      London         2\n",
       "1  Manchester         3"
      ]
     },
     "execution_count": 9,
     "metadata": {},
     "output_type": "execute_result"
    }
   ],
   "source": [
    "grouping_query_template = \"\"\"\n",
    "select\n",
    "    Location,\n",
    "    count(*) \n",
    "from \n",
    "    username_password_recovery_code \n",
    "group by \n",
    "    Location\n",
    "\"\"\"\n",
    "# username_password_recovery_code\n",
    "pd.read_sql(grouping_query_template, sql.cnx)"
   ]
  },
  {
   "cell_type": "code",
   "execution_count": 10,
   "metadata": {},
   "outputs": [
    {
     "data": {
      "text/html": [
       "<div>\n",
       "<style scoped>\n",
       "    .dataframe tbody tr th:only-of-type {\n",
       "        vertical-align: middle;\n",
       "    }\n",
       "\n",
       "    .dataframe tbody tr th {\n",
       "        vertical-align: top;\n",
       "    }\n",
       "\n",
       "    .dataframe thead th {\n",
       "        text-align: right;\n",
       "    }\n",
       "</style>\n",
       "<table border=\"1\" class=\"dataframe\">\n",
       "  <thead>\n",
       "    <tr style=\"text-align: right;\">\n",
       "      <th></th>\n",
       "      <th>username</th>\n",
       "      <th>Identifier</th>\n",
       "    </tr>\n",
       "  </thead>\n",
       "  <tbody>\n",
       "    <tr>\n",
       "      <th>0</th>\n",
       "      <td>grey07</td>\n",
       "      <td>2070</td>\n",
       "    </tr>\n",
       "    <tr>\n",
       "      <th>1</th>\n",
       "      <td>johnson81</td>\n",
       "      <td>4081</td>\n",
       "    </tr>\n",
       "    <tr>\n",
       "      <th>2</th>\n",
       "      <td>jenkins46</td>\n",
       "      <td>9346</td>\n",
       "    </tr>\n",
       "    <tr>\n",
       "      <th>3</th>\n",
       "      <td>smith79</td>\n",
       "      <td>5079</td>\n",
       "    </tr>\n",
       "  </tbody>\n",
       "</table>\n",
       "</div>"
      ],
      "text/plain": [
       "    username  Identifier\n",
       "0     grey07        2070\n",
       "1  johnson81        4081\n",
       "2  jenkins46        9346\n",
       "3    smith79        5079"
      ]
     },
     "execution_count": 10,
     "metadata": {},
     "output_type": "execute_result"
    }
   ],
   "source": [
    "join_query_template = \"\"\"\n",
    "select\n",
    "    username.username,\n",
    "    email.Identifier\n",
    "from \n",
    "    username inner join email on \n",
    "    username.Identifier = email.Identifier\n",
    "\"\"\"\n",
    "\n",
    "pd.read_sql(join_query_template, sql.cnx)"
   ]
  },
  {
   "cell_type": "code",
   "execution_count": null,
   "metadata": {},
   "outputs": [],
   "source": []
  },
  {
   "cell_type": "markdown",
   "metadata": {},
   "source": [
    "# CREATE TABLE  \n",
    "Šie divi atslēgvārdi izveido tabulu ar fiksētu kolonnu skaitu un fiksētiem kolonnu vērtību tipiem.  \n",
    "Piemērs:  \n",
    "CREATE TABLE Tabula1 (Kolonna1 Int, Kolonna2 Int, Kolonna3 char)  "
   ]
  },
  {
   "cell_type": "code",
   "execution_count": null,
   "metadata": {},
   "outputs": [],
   "source": [
    "izveidosanas_vaicajums = \"\"\"\n",
    "create table tabula1(kolonna1 int , kolonna2 int, kolonna3 char)\n",
    "\"\"\"\n",
    "\n",
    "# pd.read_sql(izveidosanas_vaicajums, sql.cnx)"
   ]
  },
  {
   "cell_type": "markdown",
   "metadata": {},
   "source": [
    "# SELECT atslēgvārds  \n",
    "SELECT atslēgvārds atlasa kolonnas. Select atslēgvārdam ir jābūt jebkurā SQL vaicājumā. Select kā argumentus ņem vai nu attiecīgās tabulas kolonnas vai arī īpašu argumentu * , kas atlasa visas kolonnas"
   ]
  },
  {
   "cell_type": "code",
   "execution_count": null,
   "metadata": {},
   "outputs": [],
   "source": [
    "select_vaicajums = \"\"\"\n",
    "select * from email\n",
    "\"\"\"\n",
    "pd.read_sql(select_vaicajums, sql.cnx)"
   ]
  },
  {
   "cell_type": "markdown",
   "metadata": {},
   "source": [
    "# FROM atslēgvārds  \n",
    "Tāpat kā SELECT, arī FROM atslēgvārds ir atrodams jebkurā SQL vaicājumā. Loģika aiz šī ir tāda, ka mēs vienmēr ņemam kādas kolonnas no kādas tabulas.  \n",
    "**Visas kolonnas vienmēr tiek ņemtas no kādas tabulas, neatkarīgi no tā vai tabula ir jau esoša vai tiek izveidota kāda cita vaicājuma rezultātā.**  "
   ]
  },
  {
   "cell_type": "markdown",
   "metadata": {},
   "source": [
    "# WHERE atslēgvārds  \n",
    "**WHERE atslēgvārds NAV obligāts. WHERE atslēgvārds tiek izmantots, lai atlasītu rindas, kuras atbilst 'būla mainīgā' apgalvojumam piem:**  \n",
    "\n",
    "SELECT  \n",
    "  Kolonna1,  \n",
    "  Kolonna2  \n",
    "FROM Tabula1  \n",
    "WHERE Kolonna1 > 10  \n",
    "\n",
    "**WHERE atslēgvārdam var padot vairākus argumentus, kurus var apvienot ar AND piem:**\n",
    "\n",
    "SELECT  \n",
    "  Kolonna1,  \n",
    "  Kolonna2  \n",
    "FROM Tabula1  \n",
    "WHERE Kolonna1 > 10  AND Kolonna2 < 4  \n",
    "\n"
   ]
  },
  {
   "cell_type": "code",
   "execution_count": null,
   "metadata": {},
   "outputs": [],
   "source": [
    "a = 4\n",
    "b = 5\n",
    "\n",
    "d = 6\n",
    "e = 7\n",
    "\n",
    "f = d == e\n",
    "c = a == b \n",
    "\n",
    "f and c"
   ]
  },
  {
   "cell_type": "markdown",
   "metadata": {},
   "source": [
    "# ORDER BY funkcija/atslēgvārdi  \n",
    "Order by funkcija SQL vaicājumā vienmēr būs pēc WHERE atslēgvārda, bet pirms LIMIT, ja tāds tiek lietots. Sakārto tabulu vai nu augoši vai dilstoši. Piemērs:  \n",
    "SELECT * FROM Tabula1 ORDER BY <kolonnas_nosaukums> <asc/desc>"
   ]
  },
  {
   "cell_type": "code",
   "execution_count": null,
   "metadata": {},
   "outputs": [],
   "source": [
    "order_vaicajums = \"\"\"\n",
    "select * from email order by identifier desc\n",
    "\"\"\"\n",
    "\n",
    "pd.read_sql(order_vaicajums, sql.cnx)"
   ]
  },
  {
   "cell_type": "markdown",
   "metadata": {},
   "source": [
    "# Tabulas var veidot arī ar SELECT atslēgvārdu  \n",
    "**Izmantojot CREATE TABLE, tipiski ir jānorāda tabulas nosaukums, kolonnu nosaukumi un to tipi, bet izveidot tabulu var arī ar sekojošo sintaksi:**  \n",
    "\n",
    "CREATE TABLE skelums AS SELECT Kolonna1, Kolonna2  \n",
    "FROM Tabula1  \n",
    "\n",
    "**Šis strādā, jo, ja mēs atsaucamies uz eksistējošu tabulu, tās kolonnām jau ir gan nosaukumi, gan tipi un tie nav jānorāda vēlreiz**  \n"
   ]
  },
  {
   "cell_type": "code",
   "execution_count": null,
   "metadata": {},
   "outputs": [],
   "source": [
    "# Uzdevums:\n",
    "# 1. Ar select <kolonnas> from <tabula>' izpētiet tabulas 'email' un 'username', \n",
    "# 2. Izveidojiet tabulu username_sample no tabulas username, kurā ir tikai kolonnas 'Identifier' un 'username' tikai \n",
    "# no tiem darbiniekiem, kuriem Identificator ir lielāks par 4000"
   ]
  },
  {
   "cell_type": "code",
   "execution_count": null,
   "metadata": {},
   "outputs": [],
   "source": [
    "# uzdevums = \"\"\"\n",
    "# create table username_sample as select Identifier, username from username where Identifier > 4000\n",
    "# \"\"\"\n",
    "\n",
    "uzdevums = \"\"\"\n",
    "select \n",
    "    * \n",
    "from \n",
    "    username_sample\n",
    "\"\"\"\n",
    "\n",
    "pd.read_sql(uzdevums,sql.cnx)"
   ]
  },
  {
   "cell_type": "markdown",
   "metadata": {},
   "source": [
    "# Agregācijas funkcijas: COUNT, SUM, MIN, MAX, AVG  "
   ]
  },
  {
   "cell_type": "code",
   "execution_count": null,
   "metadata": {},
   "outputs": [],
   "source": [
    "agr_skaita_vaicajums = \"\"\"\n",
    "select count(distinct(firstname)) from email where identifier > 4000\n",
    "\"\"\"\n",
    "pd.read_sql(agr_skaita_vaicajums,sql.cnx)"
   ]
  },
  {
   "cell_type": "code",
   "execution_count": null,
   "metadata": {},
   "outputs": [],
   "source": [
    "agr_sum_vaicajums = \"\"\"\n",
    "select sum(*) from email\n",
    "\"\"\"\n",
    "\n",
    "# agr_sum_vaicajums = \"\"\"\n",
    "# select sum(loginemail) from email\n",
    "# \"\"\"\n",
    "\n",
    "agr_sum_vaicajums = \"\"\"\n",
    "select sum(Identifier) from email\n",
    "\"\"\"\n",
    "\n",
    "# agr_sum_vaicajums = \"\"\"\n",
    "# select count from email\n",
    "# \"\"\"\n",
    "\n",
    "pd.read_sql(agr_sum_vaicajums,sql.cnx)"
   ]
  },
  {
   "cell_type": "code",
   "execution_count": null,
   "metadata": {},
   "outputs": [],
   "source": [
    "agr_sum_vaicajums = \"\"\"\n",
    "select max(Identifier) from email\n",
    "\"\"\"\n",
    "\n",
    "pd.read_sql(agr_sum_vaicajums,sql.cnx)"
   ]
  },
  {
   "cell_type": "code",
   "execution_count": null,
   "metadata": {},
   "outputs": [],
   "source": [
    "agr_sum_vaicajums = \"\"\"\n",
    "select count(*) from email\n",
    "\"\"\"\n",
    "pd.read_sql(agr_sum_vaicajums,sql.cnx)"
   ]
  },
  {
   "cell_type": "markdown",
   "metadata": {},
   "source": [
    "# JOIN atslēgvārds  \n",
    "Viena no spēcīgākajām SQL iespējām ir salīdzinoši vienkāršā tabulu sapludināšana.  \n",
    "JOIN atslēgvārds izveido jaunu tabulu no divām citām tabulām, apvienojot rindiņas.  \n",
    "Rindiņas tiek apvienotas izmantojot kādas norādītas kolonnas vērtības.  \n",
    "**Svarīgi: JOIN atslēgvārds tabulas izveido, bet lai kaut kas tiktu atgriezts, vaicājumam tāpat ir jāsatur SELECT.**  \n",
    "Piemērs:  \n",
    "SELECT < kolonnas > FROM <join apgalvojums šeit>\n",
    "\n",
    "Ir 4 apvienošanas stratēģijas 'inner', 'outer', 'left' un 'right'"
   ]
  },
  {
   "cell_type": "code",
   "execution_count": 10,
   "metadata": {},
   "outputs": [
    {
     "data": {
      "text/html": [
       "<div>\n",
       "<style scoped>\n",
       "    .dataframe tbody tr th:only-of-type {\n",
       "        vertical-align: middle;\n",
       "    }\n",
       "\n",
       "    .dataframe tbody tr th {\n",
       "        vertical-align: top;\n",
       "    }\n",
       "\n",
       "    .dataframe thead th {\n",
       "        text-align: right;\n",
       "    }\n",
       "</style>\n",
       "<table border=\"1\" class=\"dataframe\">\n",
       "  <thead>\n",
       "    <tr style=\"text-align: right;\">\n",
       "      <th></th>\n",
       "      <th>Username</th>\n",
       "      <th>Identifier</th>\n",
       "      <th>Firstname</th>\n",
       "      <th>Lastname</th>\n",
       "    </tr>\n",
       "  </thead>\n",
       "  <tbody>\n",
       "    <tr>\n",
       "      <th>0</th>\n",
       "      <td>booker12</td>\n",
       "      <td>9012</td>\n",
       "      <td>Rachel</td>\n",
       "      <td>Booker</td>\n",
       "    </tr>\n",
       "    <tr>\n",
       "      <th>1</th>\n",
       "      <td>grey07</td>\n",
       "      <td>2070</td>\n",
       "      <td>Laura</td>\n",
       "      <td>Grey</td>\n",
       "    </tr>\n",
       "    <tr>\n",
       "      <th>2</th>\n",
       "      <td>johnson81</td>\n",
       "      <td>4081</td>\n",
       "      <td>Craig</td>\n",
       "      <td>Johnson</td>\n",
       "    </tr>\n",
       "    <tr>\n",
       "      <th>3</th>\n",
       "      <td>jenkins46</td>\n",
       "      <td>9346</td>\n",
       "      <td>Mary</td>\n",
       "      <td>Jenkins</td>\n",
       "    </tr>\n",
       "    <tr>\n",
       "      <th>4</th>\n",
       "      <td>smith79</td>\n",
       "      <td>5079</td>\n",
       "      <td>Jamie</td>\n",
       "      <td>Smith</td>\n",
       "    </tr>\n",
       "  </tbody>\n",
       "</table>\n",
       "</div>"
      ],
      "text/plain": [
       "    Username  Identifier Firstname Lastname\n",
       "0   booker12        9012    Rachel   Booker\n",
       "1     grey07        2070     Laura     Grey\n",
       "2  johnson81        4081     Craig  Johnson\n",
       "3  jenkins46        9346      Mary  Jenkins\n",
       "4    smith79        5079     Jamie    Smith"
      ]
     },
     "execution_count": 10,
     "metadata": {},
     "output_type": "execute_result"
    }
   ],
   "source": [
    "# # Uzdevums:\n",
    "# # Sekojošajā piemērā izstājiet atslēgvārdu 'inner' ar secīgi 'left' un 'right'. Ko var secināt?\n",
    "\n",
    "# join_query_template = \"\"\"\n",
    "# select\n",
    "#     username_sample.username,\n",
    "#     email.Identifier\n",
    "# from \n",
    "#     username_sample inner join email on \n",
    "#     username_sample.Identifier = email.Identifier\n",
    "# \"\"\"\n",
    "\n",
    "# pd.read_sql(join_query_template, sql.cnx)\n",
    "sql.query(\"select * from username\")"
   ]
  },
  {
   "cell_type": "code",
   "execution_count": 12,
   "metadata": {},
   "outputs": [
    {
     "data": {
      "text/html": [
       "<div>\n",
       "<style scoped>\n",
       "    .dataframe tbody tr th:only-of-type {\n",
       "        vertical-align: middle;\n",
       "    }\n",
       "\n",
       "    .dataframe tbody tr th {\n",
       "        vertical-align: top;\n",
       "    }\n",
       "\n",
       "    .dataframe thead th {\n",
       "        text-align: right;\n",
       "    }\n",
       "</style>\n",
       "<table border=\"1\" class=\"dataframe\">\n",
       "  <thead>\n",
       "    <tr style=\"text-align: right;\">\n",
       "      <th></th>\n",
       "      <th>Loginemail</th>\n",
       "      <th>Identifier</th>\n",
       "      <th>Firstname</th>\n",
       "      <th>Lastname</th>\n",
       "    </tr>\n",
       "  </thead>\n",
       "  <tbody>\n",
       "    <tr>\n",
       "      <th>0</th>\n",
       "      <td>laura@example.com</td>\n",
       "      <td>2070</td>\n",
       "      <td>Laura</td>\n",
       "      <td>Grey</td>\n",
       "    </tr>\n",
       "    <tr>\n",
       "      <th>1</th>\n",
       "      <td>craig@example.com</td>\n",
       "      <td>4081</td>\n",
       "      <td>Craig</td>\n",
       "      <td>Johnson</td>\n",
       "    </tr>\n",
       "    <tr>\n",
       "      <th>2</th>\n",
       "      <td>mary@example.com</td>\n",
       "      <td>9346</td>\n",
       "      <td>Mary</td>\n",
       "      <td>Jenkins</td>\n",
       "    </tr>\n",
       "    <tr>\n",
       "      <th>3</th>\n",
       "      <td>jamie@example.com</td>\n",
       "      <td>5079</td>\n",
       "      <td>Jamie</td>\n",
       "      <td>Smith</td>\n",
       "    </tr>\n",
       "  </tbody>\n",
       "</table>\n",
       "</div>"
      ],
      "text/plain": [
       "          Loginemail  Identifier Firstname Lastname\n",
       "0  laura@example.com        2070     Laura     Grey\n",
       "1  craig@example.com        4081     Craig  Johnson\n",
       "2   mary@example.com        9346      Mary  Jenkins\n",
       "3  jamie@example.com        5079     Jamie    Smith"
      ]
     },
     "execution_count": 12,
     "metadata": {},
     "output_type": "execute_result"
    }
   ],
   "source": [
    "sql.query(\"select * from email\")"
   ]
  },
  {
   "cell_type": "code",
   "execution_count": 19,
   "metadata": {},
   "outputs": [
    {
     "data": {
      "text/html": [
       "<div>\n",
       "<style scoped>\n",
       "    .dataframe tbody tr th:only-of-type {\n",
       "        vertical-align: middle;\n",
       "    }\n",
       "\n",
       "    .dataframe tbody tr th {\n",
       "        vertical-align: top;\n",
       "    }\n",
       "\n",
       "    .dataframe thead th {\n",
       "        text-align: right;\n",
       "    }\n",
       "</style>\n",
       "<table border=\"1\" class=\"dataframe\">\n",
       "  <thead>\n",
       "    <tr style=\"text-align: right;\">\n",
       "      <th></th>\n",
       "      <th>Firstname</th>\n",
       "      <th>Loginemail</th>\n",
       "      <th>Username</th>\n",
       "    </tr>\n",
       "  </thead>\n",
       "  <tbody>\n",
       "    <tr>\n",
       "      <th>0</th>\n",
       "      <td>Laura</td>\n",
       "      <td>laura@example.com</td>\n",
       "      <td>grey07</td>\n",
       "    </tr>\n",
       "    <tr>\n",
       "      <th>1</th>\n",
       "      <td>Craig</td>\n",
       "      <td>craig@example.com</td>\n",
       "      <td>johnson81</td>\n",
       "    </tr>\n",
       "    <tr>\n",
       "      <th>2</th>\n",
       "      <td>Mary</td>\n",
       "      <td>mary@example.com</td>\n",
       "      <td>jenkins46</td>\n",
       "    </tr>\n",
       "    <tr>\n",
       "      <th>3</th>\n",
       "      <td>Jamie</td>\n",
       "      <td>jamie@example.com</td>\n",
       "      <td>smith79</td>\n",
       "    </tr>\n",
       "    <tr>\n",
       "      <th>4</th>\n",
       "      <td>Rachel</td>\n",
       "      <td>None</td>\n",
       "      <td>booker12</td>\n",
       "    </tr>\n",
       "  </tbody>\n",
       "</table>\n",
       "</div>"
      ],
      "text/plain": [
       "  Firstname         Loginemail   Username\n",
       "0     Laura  laura@example.com     grey07\n",
       "1     Craig  craig@example.com  johnson81\n",
       "2      Mary   mary@example.com  jenkins46\n",
       "3     Jamie  jamie@example.com    smith79\n",
       "4    Rachel               None   booker12"
      ]
     },
     "execution_count": 19,
     "metadata": {},
     "output_type": "execute_result"
    }
   ],
   "source": [
    "basic_join = \"\"\"\n",
    "select \n",
    "    username.Firstname,\n",
    "    Loginemail,\n",
    "    Username\n",
    "from \n",
    "    username left join email on \n",
    "    username.Identifier=email.Identifier\n",
    "\"\"\"\n",
    "sql.query(basic_join)"
   ]
  },
  {
   "cell_type": "markdown",
   "metadata": {},
   "source": [
    "![alt text](http://codinghelptech.com/blog_post/Sql-Join.png \"Logo Title Text 1\")\n",
    "<!-- http://codinghelptech.com/Database/Sql-Join.html -->"
   ]
  },
  {
   "cell_type": "code",
   "execution_count": null,
   "metadata": {},
   "outputs": [],
   "source": []
  },
  {
   "cell_type": "code",
   "execution_count": null,
   "metadata": {},
   "outputs": [],
   "source": []
  },
  {
   "cell_type": "code",
   "execution_count": null,
   "metadata": {},
   "outputs": [],
   "source": [
    "# Uzdevums / MAJAS DARBS:\n",
    "# Izveidojiet tabulu, kurā ir TIKAI visu lietotāju lietotājvārdi e-pasti un atrašanās vietas,\n",
    "# izmantojot tikai tabulas, kuras iegūtas no uzskaititajiem failiem. Mums interese tikai ieraksti, kur nekas netrukst.\n",
    "# 1. email.csv\n",
    "# 2. username-password-recovery-code.csv"
   ]
  },
  {
   "cell_type": "code",
   "execution_count": 22,
   "metadata": {
    "scrolled": true
   },
   "outputs": [
    {
     "data": {
      "text/html": [
       "<div>\n",
       "<style scoped>\n",
       "    .dataframe tbody tr th:only-of-type {\n",
       "        vertical-align: middle;\n",
       "    }\n",
       "\n",
       "    .dataframe tbody tr th {\n",
       "        vertical-align: top;\n",
       "    }\n",
       "\n",
       "    .dataframe thead th {\n",
       "        text-align: right;\n",
       "    }\n",
       "</style>\n",
       "<table border=\"1\" class=\"dataframe\">\n",
       "  <thead>\n",
       "    <tr style=\"text-align: right;\">\n",
       "      <th></th>\n",
       "      <th>Loginemail</th>\n",
       "      <th>Identifier</th>\n",
       "      <th>Firstname</th>\n",
       "      <th>Lastname</th>\n",
       "    </tr>\n",
       "  </thead>\n",
       "  <tbody>\n",
       "    <tr>\n",
       "      <th>0</th>\n",
       "      <td>laura@example.com</td>\n",
       "      <td>2070</td>\n",
       "      <td>Laura</td>\n",
       "      <td>Grey</td>\n",
       "    </tr>\n",
       "    <tr>\n",
       "      <th>1</th>\n",
       "      <td>craig@example.com</td>\n",
       "      <td>4081</td>\n",
       "      <td>Craig</td>\n",
       "      <td>Johnson</td>\n",
       "    </tr>\n",
       "    <tr>\n",
       "      <th>2</th>\n",
       "      <td>mary@example.com</td>\n",
       "      <td>9346</td>\n",
       "      <td>Mary</td>\n",
       "      <td>Jenkins</td>\n",
       "    </tr>\n",
       "    <tr>\n",
       "      <th>3</th>\n",
       "      <td>jamie@example.com</td>\n",
       "      <td>5079</td>\n",
       "      <td>Jamie</td>\n",
       "      <td>Smith</td>\n",
       "    </tr>\n",
       "  </tbody>\n",
       "</table>\n",
       "</div>"
      ],
      "text/plain": [
       "          Loginemail  Identifier Firstname Lastname\n",
       "0  laura@example.com        2070     Laura     Grey\n",
       "1  craig@example.com        4081     Craig  Johnson\n",
       "2   mary@example.com        9346      Mary  Jenkins\n",
       "3  jamie@example.com        5079     Jamie    Smith"
      ]
     },
     "execution_count": 22,
     "metadata": {},
     "output_type": "execute_result"
    }
   ],
   "source": [
    "sql.query(\"select * from email\")"
   ]
  },
  {
   "cell_type": "code",
   "execution_count": 23,
   "metadata": {},
   "outputs": [
    {
     "data": {
      "text/html": [
       "<div>\n",
       "<style scoped>\n",
       "    .dataframe tbody tr th:only-of-type {\n",
       "        vertical-align: middle;\n",
       "    }\n",
       "\n",
       "    .dataframe tbody tr th {\n",
       "        vertical-align: top;\n",
       "    }\n",
       "\n",
       "    .dataframe thead th {\n",
       "        text-align: right;\n",
       "    }\n",
       "</style>\n",
       "<table border=\"1\" class=\"dataframe\">\n",
       "  <thead>\n",
       "    <tr style=\"text-align: right;\">\n",
       "      <th></th>\n",
       "      <th>Username</th>\n",
       "      <th>Identifier</th>\n",
       "      <th>Onetimepassword</th>\n",
       "      <th>Recoverycode</th>\n",
       "      <th>Firstname</th>\n",
       "      <th>Lastname</th>\n",
       "      <th>Department</th>\n",
       "      <th>Location</th>\n",
       "    </tr>\n",
       "  </thead>\n",
       "  <tbody>\n",
       "    <tr>\n",
       "      <th>0</th>\n",
       "      <td>booker12</td>\n",
       "      <td>9012</td>\n",
       "      <td>12se74</td>\n",
       "      <td>rb9012</td>\n",
       "      <td>Rachel</td>\n",
       "      <td>Booker</td>\n",
       "      <td>Sales</td>\n",
       "      <td>Manchester</td>\n",
       "    </tr>\n",
       "    <tr>\n",
       "      <th>1</th>\n",
       "      <td>grey07</td>\n",
       "      <td>2070</td>\n",
       "      <td>04ap67</td>\n",
       "      <td>lg2070</td>\n",
       "      <td>Laura</td>\n",
       "      <td>Grey</td>\n",
       "      <td>Depot</td>\n",
       "      <td>London</td>\n",
       "    </tr>\n",
       "    <tr>\n",
       "      <th>2</th>\n",
       "      <td>johnson81</td>\n",
       "      <td>4081</td>\n",
       "      <td>30no86</td>\n",
       "      <td>cj4081</td>\n",
       "      <td>Craig</td>\n",
       "      <td>Johnson</td>\n",
       "      <td>Depot</td>\n",
       "      <td>London</td>\n",
       "    </tr>\n",
       "    <tr>\n",
       "      <th>3</th>\n",
       "      <td>jenkins46</td>\n",
       "      <td>9346</td>\n",
       "      <td>14ju73</td>\n",
       "      <td>mj9346</td>\n",
       "      <td>Mary</td>\n",
       "      <td>Jenkins</td>\n",
       "      <td>Engineering</td>\n",
       "      <td>Manchester</td>\n",
       "    </tr>\n",
       "    <tr>\n",
       "      <th>4</th>\n",
       "      <td>smith79</td>\n",
       "      <td>5079</td>\n",
       "      <td>09ja61</td>\n",
       "      <td>js5079</td>\n",
       "      <td>Jamie</td>\n",
       "      <td>Smith</td>\n",
       "      <td>Engineering</td>\n",
       "      <td>Manchester</td>\n",
       "    </tr>\n",
       "  </tbody>\n",
       "</table>\n",
       "</div>"
      ],
      "text/plain": [
       "    Username  Identifier Onetimepassword Recoverycode Firstname Lastname  \\\n",
       "0   booker12        9012          12se74       rb9012    Rachel   Booker   \n",
       "1     grey07        2070          04ap67       lg2070     Laura     Grey   \n",
       "2  johnson81        4081          30no86       cj4081     Craig  Johnson   \n",
       "3  jenkins46        9346          14ju73       mj9346      Mary  Jenkins   \n",
       "4    smith79        5079          09ja61       js5079     Jamie    Smith   \n",
       "\n",
       "    Department    Location  \n",
       "0        Sales  Manchester  \n",
       "1        Depot      London  \n",
       "2        Depot      London  \n",
       "3  Engineering  Manchester  \n",
       "4  Engineering  Manchester  "
      ]
     },
     "execution_count": 23,
     "metadata": {},
     "output_type": "execute_result"
    }
   ],
   "source": [
    "sql.query(\"select * from username_password_recovery_code\")"
   ]
  },
  {
   "cell_type": "code",
   "execution_count": 26,
   "metadata": {},
   "outputs": [
    {
     "data": {
      "text/html": [
       "<div>\n",
       "<style scoped>\n",
       "    .dataframe tbody tr th:only-of-type {\n",
       "        vertical-align: middle;\n",
       "    }\n",
       "\n",
       "    .dataframe tbody tr th {\n",
       "        vertical-align: top;\n",
       "    }\n",
       "\n",
       "    .dataframe thead th {\n",
       "        text-align: right;\n",
       "    }\n",
       "</style>\n",
       "<table border=\"1\" class=\"dataframe\">\n",
       "  <thead>\n",
       "    <tr style=\"text-align: right;\">\n",
       "      <th></th>\n",
       "      <th>Username</th>\n",
       "      <th>Identifier</th>\n",
       "      <th>Firstname</th>\n",
       "      <th>Lastname</th>\n",
       "    </tr>\n",
       "  </thead>\n",
       "  <tbody>\n",
       "    <tr>\n",
       "      <th>0</th>\n",
       "      <td>booker12</td>\n",
       "      <td>9012</td>\n",
       "      <td>Rachel</td>\n",
       "      <td>Booker</td>\n",
       "    </tr>\n",
       "    <tr>\n",
       "      <th>1</th>\n",
       "      <td>grey07</td>\n",
       "      <td>2070</td>\n",
       "      <td>Laura</td>\n",
       "      <td>Grey</td>\n",
       "    </tr>\n",
       "    <tr>\n",
       "      <th>2</th>\n",
       "      <td>johnson81</td>\n",
       "      <td>4081</td>\n",
       "      <td>Craig</td>\n",
       "      <td>Johnson</td>\n",
       "    </tr>\n",
       "    <tr>\n",
       "      <th>3</th>\n",
       "      <td>jenkins46</td>\n",
       "      <td>9346</td>\n",
       "      <td>Mary</td>\n",
       "      <td>Jenkins</td>\n",
       "    </tr>\n",
       "    <tr>\n",
       "      <th>4</th>\n",
       "      <td>smith79</td>\n",
       "      <td>5079</td>\n",
       "      <td>Jamie</td>\n",
       "      <td>Smith</td>\n",
       "    </tr>\n",
       "  </tbody>\n",
       "</table>\n",
       "</div>"
      ],
      "text/plain": [
       "    Username  Identifier Firstname Lastname\n",
       "0   booker12        9012    Rachel   Booker\n",
       "1     grey07        2070     Laura     Grey\n",
       "2  johnson81        4081     Craig  Johnson\n",
       "3  jenkins46        9346      Mary  Jenkins\n",
       "4    smith79        5079     Jamie    Smith"
      ]
     },
     "execution_count": 26,
     "metadata": {},
     "output_type": "execute_result"
    }
   ],
   "source": [
    "sql.query(\"select * from username\")"
   ]
  },
  {
   "cell_type": "code",
   "execution_count": 24,
   "metadata": {},
   "outputs": [],
   "source": [
    "basic_join = \"\"\"\n",
    "SELECT\n",
    "    username.Firstname,\n",
    "    Loginemail,\n",
    "    Username\n",
    "FROM \n",
    "    username JOIN email ON \n",
    "    username.Identifier=email.Identifier\n",
    "\"\"\"\n",
    "\n",
    "\n",
    "\n",
    "vaic = \"\"\"\n",
    "SELECT\n",
    "    loginemail,\n",
    "    location\n",
    "FROM \n",
    "    username_password_recovery_code INNER JOIN email ON \n",
    "    username_password_recovery_code.Identifier = email.Identifier\n",
    "\"\"\"\n",
    "\n"
   ]
  },
  {
   "cell_type": "code",
   "execution_count": 25,
   "metadata": {},
   "outputs": [
    {
     "data": {
      "text/html": [
       "<div>\n",
       "<style scoped>\n",
       "    .dataframe tbody tr th:only-of-type {\n",
       "        vertical-align: middle;\n",
       "    }\n",
       "\n",
       "    .dataframe tbody tr th {\n",
       "        vertical-align: top;\n",
       "    }\n",
       "\n",
       "    .dataframe thead th {\n",
       "        text-align: right;\n",
       "    }\n",
       "</style>\n",
       "<table border=\"1\" class=\"dataframe\">\n",
       "  <thead>\n",
       "    <tr style=\"text-align: right;\">\n",
       "      <th></th>\n",
       "      <th>loginemail</th>\n",
       "      <th>location</th>\n",
       "    </tr>\n",
       "  </thead>\n",
       "  <tbody>\n",
       "    <tr>\n",
       "      <th>0</th>\n",
       "      <td>laura@example.com</td>\n",
       "      <td>London</td>\n",
       "    </tr>\n",
       "    <tr>\n",
       "      <th>1</th>\n",
       "      <td>craig@example.com</td>\n",
       "      <td>London</td>\n",
       "    </tr>\n",
       "    <tr>\n",
       "      <th>2</th>\n",
       "      <td>mary@example.com</td>\n",
       "      <td>Manchester</td>\n",
       "    </tr>\n",
       "    <tr>\n",
       "      <th>3</th>\n",
       "      <td>jamie@example.com</td>\n",
       "      <td>Manchester</td>\n",
       "    </tr>\n",
       "  </tbody>\n",
       "</table>\n",
       "</div>"
      ],
      "text/plain": [
       "          loginemail    location\n",
       "0  laura@example.com      London\n",
       "1  craig@example.com      London\n",
       "2   mary@example.com  Manchester\n",
       "3  jamie@example.com  Manchester"
      ]
     },
     "execution_count": 25,
     "metadata": {},
     "output_type": "execute_result"
    }
   ],
   "source": [
    "sql.query(vaic)"
   ]
  },
  {
   "cell_type": "code",
   "execution_count": null,
   "metadata": {},
   "outputs": [],
   "source": []
  },
  {
   "cell_type": "code",
   "execution_count": null,
   "metadata": {},
   "outputs": [],
   "source": []
  },
  {
   "cell_type": "code",
   "execution_count": null,
   "metadata": {},
   "outputs": [],
   "source": []
  },
  {
   "cell_type": "markdown",
   "metadata": {},
   "source": [
    "# GROUP BY atslēgvārds  \n",
    "<!-- https://www.w3schools.com/sql/sql_groupby.asp-->\n",
    "GROUP BY atslēgvārds ir komanda, kas ir nevis paredzēts lai filtrētu vai atgrieztu tabulas, bet gan lai sagrupētu tabulas pēc kādas kolonnas unikālajām vērtībām."
   ]
  },
  {
   "cell_type": "code",
   "execution_count": null,
   "metadata": {},
   "outputs": [],
   "source": []
  },
  {
   "cell_type": "code",
   "execution_count": null,
   "metadata": {},
   "outputs": [],
   "source": []
  }
 ],
 "metadata": {
  "kernelspec": {
   "display_name": "Python 3",
   "language": "python",
   "name": "python3"
  },
  "language_info": {
   "codemirror_mode": {
    "name": "ipython",
    "version": 3
   },
   "file_extension": ".py",
   "mimetype": "text/x-python",
   "name": "python",
   "nbconvert_exporter": "python",
   "pygments_lexer": "ipython3",
   "version": "3.7.5"
  }
 },
 "nbformat": 4,
 "nbformat_minor": 2
}
