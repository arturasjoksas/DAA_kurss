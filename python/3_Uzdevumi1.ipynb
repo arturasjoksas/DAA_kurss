{
 "cells": [
  {
   "cell_type": "code",
   "execution_count": null,
   "metadata": {},
   "outputs": [],
   "source": [
    "# Uzdevums:\n",
    "# Salabo kodu.\n",
    "\n",
    "# Šim koda fragmentam būtu jāuzdefinē saraksts ar teksta pavedieniem.\n",
    "# Ja saraksts satur teksta pavedienu 'a', tad jāizprintē 'satur'\n",
    "\n",
    "saraksts = ['1', '2', 'c', 'b', 'a']\n",
    "\n",
    "if a in saraksts:\n",
    "    print('saraksts')"
   ]
  },
  {
   "cell_type": "code",
   "execution_count": null,
   "metadata": {},
   "outputs": [],
   "source": [
    "# Uzdevums:\n",
    "# Salabo kodu.\n",
    "\n",
    "# Šai funkcijai būtu jāņem trīs argumenti. \n",
    "# Funkciju izsaucot, ja pirmajiem diviem ir vienādi tipi, jāizprintē trešais\n",
    "\n",
    "#Funkcijas definīcija:\n",
    "def f1(arguments1, arguments2, arguments3):\n",
    "    if type(arguments1) = type(arguments2):\n",
    "        print('arguments3')\n",
    "\n",
    "\n",
    "# Funkcijas izsaukšana (zemāk par šo rindiņu kodu nemainīt)\n",
    "f1('pirmais', 'otrais', 'sakrita')"
   ]
  },
  {
   "cell_type": "code",
   "execution_count": null,
   "metadata": {},
   "outputs": [],
   "source": [
    "# Uzdevums: Salabo kodu\n",
    "\n",
    "# Šim koda fragmentam būtu jāimportē pandas bibliotēka, \n",
    "# jāizveido bibliotēkai specifiskā datu struktūra DataFrame,\n",
    "# jāizmanto datu struktūras īpašība .drop_duplicates un tā jāizprintē\n",
    "\n",
    "import pandas as pd\n",
    "\n",
    "a = pandas.DataFrame([1870, 2300, 4585, 900, 1870])\n",
    "a = a.drop_duplicates()\n",
    "print(a)"
   ]
  },
  {
   "cell_type": "code",
   "execution_count": null,
   "metadata": {},
   "outputs": [],
   "source": [
    "# Uzdevums: \n",
    "# Salabo kodu.\n",
    "\n",
    "# Šim koda fragmentam būtu jāizprintē mainīgajā a ievietotais divu skaitļu dalījums un tā tips. \n",
    "# Jāizprintē būtu tikai viena rindiņa\n",
    "\n",
    "# Funkcijas definīcija\n",
    "def dalit(skaitlis1, skaitlis2):\n",
    "    rezultats = skaitlis1 / skaitlis2\n",
    "    print( \"rezultats bus \" + str(rezultats) + \" \" + str(type(rezultats)) + \" tipa\")\n",
    "\n",
    "# Funkcijas izsaukšana (kodu zemāk par šo rindiņu nemainīt)\n",
    "a = dalit(80, 40)\n",
    "print(a)"
   ]
  },
  {
   "cell_type": "code",
   "execution_count": null,
   "metadata": {},
   "outputs": [],
   "source": []
  }
 ],
 "metadata": {
  "kernelspec": {
   "display_name": "Python 3",
   "language": "python",
   "name": "python3"
  },
  "language_info": {
   "codemirror_mode": {
    "name": "ipython",
    "version": 3
   },
   "file_extension": ".py",
   "mimetype": "text/x-python",
   "name": "python",
   "nbconvert_exporter": "python",
   "pygments_lexer": "ipython3",
   "version": "3.8.3"
  }
 },
 "nbformat": 4,
 "nbformat_minor": 4
}
