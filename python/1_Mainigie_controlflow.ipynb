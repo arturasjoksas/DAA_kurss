{
 "cells": [
  {
   "cell_type": "code",
   "execution_count": null,
   "metadata": {},
   "outputs": [],
   "source": [
    "# Šis ir koda komentārs. Viss, kas kādā rindiņā seko aiz '#' netiek izpildīts. \n",
    "# Komentāri tiek lietoti, lai paskaidrotu kodu t.i. padarītu to lasāmāku\n",
    "# Komentāri var sastāvēt no veselām rindiņām un komentāri var būt pielikt kādas rindiņas galā.\n",
    "\n",
    "# !! ieliekot kursoru kādā rindiņā vai iekrāsojot vairākas rindiņas un nospiežot Ctr + / , šīs rindiņas tiks aiz/atkomentētas.\n",
    "\n",
    "print(\"sveiki\") # Šī komanda (tehniski, tā ir funkcija jo tai iekavās jāpadod arguments, bet līdz tam vēl tiksim)\n",
    "# izprintē uz ekrāna (standartizvadē, saīsināti pierakstīta kā 'stdout') simbolu virkni 'sveiki'"
   ]
  },
  {
   "cell_type": "markdown",
   "metadata": {},
   "source": [
    "# Mainīgo piešķiršana un operācijas, primitīvie tipi"
   ]
  },
  {
   "cell_type": "code",
   "execution_count": null,
   "metadata": {},
   "outputs": [],
   "source": [
    "\n",
    "# # Šie ir veselo skaitļu jeb 'integer' tipa mainīgie\n",
    "a = 4\n",
    "b = 5\n",
    "# print(a)\n",
    "# print(b)\n",
    "# print(type(a), type(b))\n"
   ]
  },
  {
   "cell_type": "code",
   "execution_count": null,
   "metadata": {},
   "outputs": [],
   "source": []
  },
  {
   "cell_type": "code",
   "execution_count": null,
   "metadata": {},
   "outputs": [],
   "source": [
    "# Python valoda ir jūtīga pret burtu kapitalizāciju (lielais vai mazais burts). \n",
    "# Uzdevums: Izmēģiniet sekojošo komandu:\n",
    "print(A)"
   ]
  },
  {
   "cell_type": "code",
   "execution_count": null,
   "metadata": {},
   "outputs": [],
   "source": [
    "# Šie ir decimālskaitļu jeb 'floating point', īsāk, 'float' tipa mainīgie\n",
    "i = 0.5\n",
    "j = 3.1415\n",
    "print(type(i),type(j))"
   ]
  },
  {
   "cell_type": "code",
   "execution_count": null,
   "metadata": {},
   "outputs": [],
   "source": [
    "# Šie ir simbolu virknes / pavediena jeb 'string tipa mainīgie'. String tipu mainīgie ir simbolu virkne, \n",
    "# kura no abām pusēm ir ielikta vienkāršajās ( '' ) vai divkāršajās ( \"\") pēdiņās. \n",
    "o = \"string tips ir teksta simbolu virkne. \"\n",
    "m = \"string tips saīsināti pierakstās kā 'str' un var saturēt garumzīmes un citus (bet ne visus) simbolus\"\n",
    "print(o)\n",
    "print(m)\n",
    "print(type(o),type(m))"
   ]
  },
  {
   "cell_type": "code",
   "execution_count": null,
   "metadata": {},
   "outputs": [],
   "source": [
    "# Mainīgie atcerās sev piešķirtās vērtības, skaitliskas vai jebkādas citas. Mainīgajā var ielikt jebko.\n",
    "c = a + b"
   ]
  },
  {
   "cell_type": "code",
   "execution_count": null,
   "metadata": {},
   "outputs": [],
   "source": []
  },
  {
   "cell_type": "code",
   "execution_count": null,
   "metadata": {},
   "outputs": [],
   "source": [
    "print(c)\n",
    "print(9)\n",
    "print(\"c\")"
   ]
  },
  {
   "cell_type": "code",
   "execution_count": null,
   "metadata": {},
   "outputs": [],
   "source": [
    "print(\"c = \",c)"
   ]
  },
  {
   "cell_type": "code",
   "execution_count": null,
   "metadata": {},
   "outputs": [],
   "source": [
    "# Jautājums: Kā vērtības tiek pārrēķinātas?\n",
    "a = 4\n",
    "b = 2\n",
    "print(c) # Ko izprintēs šī komanda?"
   ]
  },
  {
   "cell_type": "code",
   "execution_count": null,
   "metadata": {},
   "outputs": [],
   "source": [
    "# Mainīgo var izdzēst izmantojot del komandu\n",
    "a = 4\n",
    "print(a)\n",
    "del a\n",
    "print(a) # Šim butu jaatgriez kluda"
   ]
  },
  {
   "cell_type": "code",
   "execution_count": null,
   "metadata": {},
   "outputs": [],
   "source": []
  },
  {
   "cell_type": "code",
   "execution_count": null,
   "metadata": {},
   "outputs": [],
   "source": [
    "# Uzdevums: Izprintējiet dalīšanas operācijas rezultātu starp mainīgajiem a un b.\n",
    "# Dalīšanas operators ir simbols '/' . Kāds būs rezultāta tips? int vai float?\n",
    "\n"
   ]
  },
  {
   "cell_type": "code",
   "execution_count": null,
   "metadata": {},
   "outputs": [],
   "source": [
    "# Uzdevums: Izprintējiet reizināšanas operācijas rezultātu starp mainīgajiem a un b. \n",
    "# Reizināšanas operators ir simbols ' * '\n",
    "\n"
   ]
  },
  {
   "cell_type": "code",
   "execution_count": null,
   "metadata": {},
   "outputs": [],
   "source": [
    "# Uzdevums: Izprintējiet reizināšanas operācijas rezultātu starp mainīgajiem a un j.\n",
    "# Kāds būs rezultāta tips? int vai float?\n",
    "\n"
   ]
  },
  {
   "cell_type": "code",
   "execution_count": null,
   "metadata": {},
   "outputs": [],
   "source": [
    "# Uzdevums: Izprintējiet dalīšanas operācijas rezultātu starp mainīgajiem a un b.\n",
    "# Dalīšanas operators ir simbols '/' . Kāds būs rezultāta tips? int vai float?\n",
    "\n"
   ]
  },
  {
   "cell_type": "code",
   "execution_count": null,
   "metadata": {},
   "outputs": [],
   "source": [
    "# Uzdevums:\n",
    "# Paredziet (gan vērtības, gan tipu), atkomentējiet un pārbaudiet, kas tiks izprintēts sekojošajās koda rindiņās:\n",
    "\n",
    "# z = 4 / 2.0\n",
    "# print(z)\n",
    "# print(type(z))\n",
    "\n",
    "# z = 4 * 2.0\n",
    "# print(z)\n",
    "# print(type(z))\n",
    "\n",
    "# z = 4 - 2.0\n",
    "# print(z)\n",
    "# print(type(z))\n",
    "\n",
    "# z = 4.0 - 2\n",
    "# print(z)\n",
    "# print(type(z))\n",
    "\n",
    "# z = 4 / 3\n",
    "# print(z)\n",
    "# print(type(z))"
   ]
  },
  {
   "cell_type": "code",
   "execution_count": null,
   "metadata": {},
   "outputs": [],
   "source": [
    "# Augstāk mēs uzdefinējām mainīgos o un m kā teksta pavediena tipu mainīgos.\n",
    "# Paredziet un pārbaudiet, kas tiks izprintēts,secīgi atkomentējot sekojošās rindiņas:\n",
    "\n",
    "# print(o + m)\n",
    "\n",
    "# print(o-m)\n",
    "\n",
    "# print(2 * o)\n",
    "\n",
    "# print(\" o + m \")"
   ]
  },
  {
   "cell_type": "code",
   "execution_count": null,
   "metadata": {},
   "outputs": [],
   "source": []
  },
  {
   "cell_type": "markdown",
   "metadata": {},
   "source": [
    "# IF / ELSE / ELIF  \n",
    "Viens no programmēšanas pamatkonceptiem ir programmas plūsmas kontrole jeb if / else izteiksmes.  \n",
    "If/else var bāzējoties uz kādu nosacījumu izpildīt vai neizpildīt kādu koda fragmentu.  \n",
    "Šie apgalvojumi operē ar **vēl vienu primitīvo mainīgo tipu: Būla mainīgajiem** (boolean variables), īsi pierakstīti kā 'bool'  \n",
    "  \n",
    "Šim mainīgo tipam ir iespējamas tikai divas vērtības.  \n",
    "**'True'** vai **'False'**"
   ]
  },
  {
   "cell_type": "code",
   "execution_count": null,
   "metadata": {},
   "outputs": [],
   "source": [
    "t = True\n",
    "f = False\n",
    "print(t)\n",
    "print(type(t))\n",
    "print(f)\n",
    "print(type(f))"
   ]
  },
  {
   "cell_type": "code",
   "execution_count": null,
   "metadata": {},
   "outputs": [],
   "source": [
    "tt = 3 < 8\n",
    "ff = 3 > 8\n",
    "print(tt, type(tt))\n",
    "print(ff, type(ff))\n"
   ]
  },
  {
   "cell_type": "code",
   "execution_count": null,
   "metadata": {},
   "outputs": [],
   "source": [
    "# Īsi sakot, būla mainīgos rada visas salīdzināšanas operācijas"
   ]
  },
  {
   "cell_type": "markdown",
   "metadata": {},
   "source": [
    "Nepieciešamība:  \n",
    "\n",
    "* Ja izpildās kāds nosacījums, tad mēs esam ieinteresēti izpildīt vienu komplektu darbību,  \n",
    "<!-- * Ja izpildās otrais nosacījums, tad šim gadījumam ir paredzēts savs, cits darbību komplekts,   -->\n",
    "<!-- * Ja neizpildās nedz pirmais, nedz otrais, tad jāizpilda trešais darbību komplekts.   -->\n",
    "* Ja šis nosacījums neizpildās, jāizpilda cits darbību komplekts.  \n",
    "  \n",
    "Šāda loģika Python valodā izskatās šādi:"
   ]
  },
  {
   "cell_type": "code",
   "execution_count": null,
   "metadata": {},
   "outputs": [],
   "source": [
    "if 3 < 8:\n",
    "    print(\" aiz 'if' ir kaut kas patiess, citādi šis neizpildītos\")\n",
    "else:\n",
    "    print(\"aiz 'if ir kaut kas nepatiess, citādi šis neizpildītos\")\n",
    "print(\"\\n šis tiek izprintēts jebkurā gadījumā, neatkarīgi no tā, kas seko aiz if jo ir ārpus if loģikas bloka\")"
   ]
  },
  {
   "cell_type": "markdown",
   "metadata": {},
   "source": [
    "**!!** Ievērojiet   \n",
    "Python valodā **ATKĀPES ATDALA KODA FRAGMENTU LOĢIKU**, kura ir piesaistīti if / elif / else komandām.\n",
    "Šis mazliet vēlāk attieksies arī uz **for** un **while** cikliem un arī funkciju definīcijām"
   ]
  },
  {
   "cell_type": "markdown",
   "metadata": {},
   "source": [
    "\n",
    "![alt text](https://cdn.programiz.com/sites/tutorial2program/files/Python_if_statement.jpg \"If flowchart\")\n"
   ]
  },
  {
   "cell_type": "code",
   "execution_count": null,
   "metadata": {},
   "outputs": [],
   "source": [
    "# Jau pirms tam redzējām, ka būla mainīgos tīrā izteiksmē var ielikt mainīgajos, \n",
    "# bet arī novērtējumu rezultātus var ielikt mainīgajos\n",
    "\n",
    "# Jautājums: Kas šeit tiks izprintēts?\n",
    "# print(t)\n",
    "\n",
    "# Jautājums: Kas šeit tiks izprintēts?\n",
    "# t = 3 > 8\n",
    "# print(t)\n",
    "\n",
    "\n",
    "# Jautājums: Kas šeit tiks izprintēts?\n",
    "# t = (3 > 8)\n",
    "\n"
   ]
  },
  {
   "cell_type": "code",
   "execution_count": null,
   "metadata": {},
   "outputs": [],
   "source": [
    "# Python valodā eksistē arī nolieguma operators 'not'\n",
    "# Šī rindiņa invertēs būla mainīgo, kas glabājas mainīgajā t uz pretējo un saglabās to mainīgajā not_t\n",
    "not_t = not t\n",
    "\n"
   ]
  },
  {
   "cell_type": "code",
   "execution_count": 2,
   "metadata": {},
   "outputs": [],
   "source": [
    "# Ir iespējama arī noliedzošā salīdzināšana  ar operatoru ' != ' piem\n",
    "print(4 != 5) # Šis izprintēs True\n",
    "\n",
    "print('a' != 'abc') # Šis izprintēs True\n",
    "\n",
    "print(1 != 1.0) # Ko izprintēs šis?"
   ]
  },
  {
   "cell_type": "code",
   "execution_count": null,
   "metadata": {},
   "outputs": [],
   "source": [
    "# Aiz if atslēgvārda vienmēr jābūt True vai False. Arī ja tas atrodās mainīgajā.\n",
    "t = True\n",
    "if t:\n",
    "    print(\"patiess\")\n",
    "else:\n",
    "    print(\"nepatiess\")"
   ]
  },
  {
   "cell_type": "code",
   "execution_count": null,
   "metadata": {},
   "outputs": [],
   "source": []
  },
  {
   "cell_type": "code",
   "execution_count": null,
   "metadata": {},
   "outputs": [],
   "source": [
    "print(\"divi ir vienads ar 2: \", 2 == 2) #Vienādības operators ir viens no biežāk lietotajiem. \n",
    "\n",
    "\n",
    "\n",
    "print(\"3 ir mazaks ka 5: \", 3 < 5)\n",
    "\n",
    "print(\"3 ir lielaks ka 7: \", 3 > 7) \n",
    "# print(\"\\n\\n\")\n",
    "\n",
    "\n",
    "# # Lielaks/vienads un mazaks/vienads operatori:\n",
    "print(\"3 ir mazāks vai vienāds ar 4: \",3 <=4)\n",
    "print(\"3 ir mazāks vai vienāds ar  3: \",3 <=3)\n",
    "print(\"960 ir lielāks vai vienāds ar 4: \", 960 >= 4)"
   ]
  },
  {
   "cell_type": "code",
   "execution_count": null,
   "metadata": {},
   "outputs": [],
   "source": [
    "# Vienadibas operatoru var izmantot, lai salidzinatu ne tikai veselus skaitļus\n",
    "# Var salīdzināt decimālskaitļus:\n",
    "print(\"0.2 ir vienads ar 0.3: \", 0.2 == 0.3)\n",
    "print(\"0.1 ir vienads ar viens dalits ar 10: \", 0.1 == 1/10)\n",
    "print(\"\\n\")\n",
    "\n",
    "# Uzdevums: Paredzēt iznākumu šim novērtējumam un to pārbaudīt\n",
    "print(\"vai 2 ir vienāds ar 2.0: \", 2 == 2.0)"
   ]
  },
  {
   "cell_type": "code",
   "execution_count": null,
   "metadata": {},
   "outputs": [],
   "source": [
    "#  Var salīdzināt ne tikai skaitļus, bet arī teksta virknes:\n",
    "virkne1 = \"abc\"\n",
    "virkne2 = \"def\"\n",
    "virkne3 = \"abcdef\"\n",
    "\n",
    "\n",
    "# ord(virkne1)\n",
    "# ord(\"abc\")\n",
    "# ord(\"/\")\n",
    "# print(\"virkne 1 ir vienada ar virkni 2: \", virkne1 == virkne2)\n",
    "# print(\"virkne 1 ir mazaka ka virkne 2: \", virkne1 < virkne2)\n",
    "# print(\"virkne 1 ir lielaka ka virkne 2: \", virkne1 > virkne2)\n",
    "# print(\"virkne 3 ir lielaka ka virkne 2: \", virkne3 > virkne2)\n",
    "\n",
    "# help(eval)\n",
    "\n",
    "\n",
    "#  Lielākoties stringu salīdzināšanu mēs veicam tikai, lai pārbaudītu vai divi teksta pavedieni sakrīt vai ne."
   ]
  },
  {
   "cell_type": "markdown",
   "metadata": {},
   "source": [
    "Ir Iespējams izveidot arī advancētākas if / else struktūras un izmantot arī atslēgvārdu **elif**\n",
    "* Ja izpildās kāds nosacījums, tad mēs esam ieinteresēti izpildīt vienu komplektu darbību,  \n",
    "* Ja izpildās otrais nosacījums, tad šim gadījumam ir paredzēts savs, cits darbību komplekts,  \n",
    "* Ja neizpildās nedz pirmais, nedz otrais, tad jāizpilda trešais darbību komplekts.  "
   ]
  },
  {
   "cell_type": "code",
   "execution_count": null,
   "metadata": {},
   "outputs": [],
   "source": [
    "kads_nosacijums = False\n",
    "otrais_nosacijums = True\n",
    "\n",
    "if kads_nosacijums:\n",
    "    print(\"kads_nosacijums ir patiess\")\n",
    "elif otrais_nosacijums:\n",
    "    print(\"otrais_nosacijums ir patiess\")\n",
    "else:\n",
    "    print(\"neviens nav patiess\")"
   ]
  },
  {
   "cell_type": "code",
   "execution_count": null,
   "metadata": {},
   "outputs": [],
   "source": [
    "# Mazliet sarezgitaka logika ar nested if blokiem\n",
    "\n",
    "# Uzdevums:\n",
    "# Variējiet skaitlis un cits_skaitlis vērtības un paredziet izvades\n",
    "\n",
    "\n",
    "skaitlis = -4\n",
    "cits_skaitlis = 8\n",
    "\n",
    "if skaitlis < 0:\n",
    "    print(\"kads ir patiess\")\n",
    "    if cits_skaitlis > 5:\n",
    "        print(\"kkas\")\n",
    "    else:\n",
    "        print(\"kkas cits\")\n",
    "elif skaitlis > 0:\n",
    "    print(\"otrais patiess\")\n",
    "elif skaitlis == 19:\n",
    "    print(\"skaitlis ir 19\")\n",
    "else:\n",
    "    print(\"skaitlis laikam ir nulle\")\n",
    "    \n",
    "# Alternativi, skaitlis == 0"
   ]
  },
  {
   "cell_type": "code",
   "execution_count": null,
   "metadata": {},
   "outputs": [],
   "source": []
  }
 ],
 "metadata": {
  "kernelspec": {
   "display_name": "Python 3",
   "language": "python",
   "name": "python3"
  },
  "language_info": {
   "codemirror_mode": {
    "name": "ipython",
    "version": 3
   },
   "file_extension": ".py",
   "mimetype": "text/x-python",
   "name": "python",
   "nbconvert_exporter": "python",
   "pygments_lexer": "ipython3",
   "version": "3.7.5"
  }
 },
 "nbformat": 4,
 "nbformat_minor": 4
}
