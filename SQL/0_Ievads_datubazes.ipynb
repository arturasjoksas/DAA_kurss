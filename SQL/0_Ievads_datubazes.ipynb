{
 "cells": [
  {
   "cell_type": "code",
   "execution_count": 2,
   "metadata": {},
   "outputs": [],
   "source": [
    "import pandas as pd\n",
    "import getpass\n",
    "from sqlalchemy import create_engine\n",
    "import MySQLdb"
   ]
  },
  {
   "cell_type": "markdown",
   "metadata": {},
   "source": [
    "# Kāpēc ir vajadzīga datubāze?  \n",
    "<!-- e-veikala piemērs. Clients, Sales, Products -->\n",
    "* Kāpēc neglabāt visu uzņēmuma informāciju vienā lielā ekseļa tabulā? Piem. visi klienti un preču nosaukumi kolonnās, tāpat kā ir vai nav piegādāts! Viss vienkārši!\n"
   ]
  },
  {
   "cell_type": "code",
   "execution_count": 3,
   "metadata": {},
   "outputs": [],
   "source": [
    "dct = {\"klients kurs vakar zvanija\": \n",
    "       {\"klienta_vards-uzvards\":\"Andris Berzins\", \n",
    "       \"klienta_tel_nr\" : \"+371 12345678\", \n",
    "       \"nopirkta_prece\": \"laikam kkads samsung ledusskapis vins teica pa telefonu\",\n",
    "       \"piegadats\": \"ne\",\n",
    "        \"kurjers\": \"Andrejs\"\n",
    "       }, \n",
    "       \"klients kurs daudz sudzas\":\n",
    "       {\"klienta_vards-uzvards\":\"Peteris Kalnins\", \n",
    "       \"klienta_tel_nr\": \"+371 87654321\",\n",
    "       \"nopirkta_prece\": \"Huwaei S11\",\n",
    "       \"piegadats\":\"ja\",\n",
    "       \"kurjers\": \"Raivis\"\n",
    "       },\n",
    "       \"vel viens klients\":\n",
    "       {\"klienta_vards-uzvards\":\"Andris Berzins\", \n",
    "       \"klienta_tel_nr\": \"+371 89012345\",\n",
    "       \"nopirkta_prece\": \"nezinams\",\n",
    "       \"piegadats\":\"??\",\n",
    "       \"kurjers\": \"Edgars\"\n",
    "       } \n",
    "      }\n",
    "tabula = pd.DataFrame(dct).T"
   ]
  },
  {
   "cell_type": "code",
   "execution_count": 4,
   "metadata": {},
   "outputs": [
    {
     "data": {
      "text/html": [
       "<div>\n",
       "<style scoped>\n",
       "    .dataframe tbody tr th:only-of-type {\n",
       "        vertical-align: middle;\n",
       "    }\n",
       "\n",
       "    .dataframe tbody tr th {\n",
       "        vertical-align: top;\n",
       "    }\n",
       "\n",
       "    .dataframe thead th {\n",
       "        text-align: right;\n",
       "    }\n",
       "</style>\n",
       "<table border=\"1\" class=\"dataframe\">\n",
       "  <thead>\n",
       "    <tr style=\"text-align: right;\">\n",
       "      <th></th>\n",
       "      <th>klienta_vards-uzvards</th>\n",
       "      <th>klienta_tel_nr</th>\n",
       "      <th>nopirkta_prece</th>\n",
       "      <th>piegadats</th>\n",
       "      <th>kurjers</th>\n",
       "    </tr>\n",
       "  </thead>\n",
       "  <tbody>\n",
       "    <tr>\n",
       "      <th>klients kurs vakar zvanija</th>\n",
       "      <td>Andris Berzins</td>\n",
       "      <td>+371 12345678</td>\n",
       "      <td>laikam kkads samsung ledusskapis vins teica pa...</td>\n",
       "      <td>ne</td>\n",
       "      <td>Andrejs</td>\n",
       "    </tr>\n",
       "    <tr>\n",
       "      <th>klients kurs daudz sudzas</th>\n",
       "      <td>Peteris Kalnins</td>\n",
       "      <td>+371 87654321</td>\n",
       "      <td>Huwaei S11</td>\n",
       "      <td>ja</td>\n",
       "      <td>Raivis</td>\n",
       "    </tr>\n",
       "    <tr>\n",
       "      <th>vel viens klients</th>\n",
       "      <td>Andris Berzins</td>\n",
       "      <td>+371 89012345</td>\n",
       "      <td>nezinams</td>\n",
       "      <td>??</td>\n",
       "      <td>Edgars</td>\n",
       "    </tr>\n",
       "  </tbody>\n",
       "</table>\n",
       "</div>"
      ],
      "text/plain": [
       "                           klienta_vards-uzvards klienta_tel_nr  \\\n",
       "klients kurs vakar zvanija        Andris Berzins  +371 12345678   \n",
       "klients kurs daudz sudzas        Peteris Kalnins  +371 87654321   \n",
       "vel viens klients                 Andris Berzins  +371 89012345   \n",
       "\n",
       "                                                               nopirkta_prece  \\\n",
       "klients kurs vakar zvanija  laikam kkads samsung ledusskapis vins teica pa...   \n",
       "klients kurs daudz sudzas                                          Huwaei S11   \n",
       "vel viens klients                                                    nezinams   \n",
       "\n",
       "                           piegadats  kurjers  \n",
       "klients kurs vakar zvanija        ne  Andrejs  \n",
       "klients kurs daudz sudzas         ja   Raivis  \n",
       "vel viens klients                 ??   Edgars  "
      ]
     },
     "execution_count": 4,
     "metadata": {},
     "output_type": "execute_result"
    }
   ],
   "source": [
    "tabula"
   ]
  },
  {
   "cell_type": "markdown",
   "metadata": {},
   "source": [
    "Problēmas, kuras mēs varētu gribēt atrisināt izmantojot mums pieejamos datus:  \n",
    "* Ja nu mēs gribam apskatīt visas Andra Bērziņa pirktās preces?  \n",
    "* Ja nu mums ir jāveic noliktavas inventarizācija un jāskaita cik televizori un cik datori ir pārdoti?  \n",
    "* Ja nu noliktavā krājās preces, kuras netiek pārdotas un mēs gribētu saprast kuras tieši netiek pārdotas visvairāk relatīvi pret iepirkto daudzumu?  \n",
    "* Ja nu klienti dažreiz sūdzās par piegādes kvalitāti un mēs gribam saprast kurš kurjers ir atbildīgs?  \n",
    "* Ja nu mums mainās preču katalogs vai mums ir trīs dažādi samsung ledusskapji?  \n",
    "* Ja nu klients vēlās uzzināt kāpēc preces nav, bet tabulā rakstīts, ka ir piegādāts?  \n",
    "* Ja nu mēs atrast mūsu aktīvākos klientus (Klientus, kuri nopirkuši vairāk kā trīs preces) ?"
   ]
  },
  {
   "cell_type": "markdown",
   "metadata": {},
   "source": [
    "## Vienkāršākie tabulu noteikumi / labās prakses:\n",
    "* **Visai informācijai ir jābūt attēlotai tabulās**\n",
    "* **Kolonnu un rindiņu secībai nedrīkst būt nozīmei**\n",
    "* **Trūkstošām vērtībām jābūt apzīmētām vienādi visur**\n",
    "* **Visiem ierakstiem katrā tabulā jābūt unikāli un universāli indeksētiem vai nu pēc vienas vai vairākām pazīmēm**\n",
    "* **Kolonnu nosaukumiem vienas tabulas ietvaros jābūt unikāliem**\n",
    "* **Tabulām ir jāsatur vai nu informāciju (dimensiju tabulas) vai arī atsauces uz citām tabulām (faktu tabulas)**"
   ]
  },
  {
   "cell_type": "markdown",
   "metadata": {},
   "source": [
    "Uzdevums:  \n",
    "Izdomājiet kādas tabulas veidot, ievērojot tabulu noteikumus, lai varētu atbildēt uz visām uzdotajām problēmām"
   ]
  },
  {
   "cell_type": "markdown",
   "metadata": {},
   "source": [
    "Jautājumi:\n",
    "* **Kāpēc neglabāt šīs te tabulas vienā vai vairākos excel failos?**  \n",
    "<!-- 1. Jo mēs gribētu šai informācijai efektīvi piekļūt. Atlasīt no vienas tabulas šķēlumu, kas atbilst citas tabulas šķēlumam ir laikietilpīgi, lai uzrakstītu un arī lai izpildītu 2. Jo liels ekselis var būt ļoti lēns 3. Mēs varētu gribētu šim ekselim piekļūt no vairākām vietām vienlaicīgi un paralēli (piem vienlaikus kurjers atzīmē, ka ir piegādāta prece no telefona aplikācijas un mums parādās jauns klients, kurš nopērk preci, kas ir ienākošs pieprasījums no mājaslapas, varbūt noliktavā ienāk sūtījums un darbinieks manuāli liek klāt jaunas preces)-->"
   ]
  },
  {
   "cell_type": "markdown",
   "metadata": {},
   "source": [
    "* **Kāpēc neglabāt šīs tabulas .csv failos?**\n",
    "<!-- Nav slikta ideja, lai atrisinātu liela ekseļa lēnuma problēmu, bet tas neatrisina nepieejamību. .csv fails arī nozīmē, ka mums būtu jāuzraksta kods, kas šos failus ielasa, apstrādā un saglabā-->"
   ]
  },
  {
   "cell_type": "markdown",
   "metadata": {},
   "source": [
    "# Kas ir datubāze?  \n",
    "Datubāze ir strukturētu datu kopa, kas glabājas kādā datorā un ir pieejama / apskatāma / rediģējama vairākos veidos  \n",
    "\n",
    "Datubāze ar kuru mēs strādāsim ir relāciju datubāze. Relāciju datubāze atbalsta relāciju modeli, kura vienkāršota versija ir jau minētie tabulu nosaukumi. Īsi sakot, tabulas var 'savienot' citu ar citu, izmantojot tabulu ierakstiem piemītošos unikālos indeksus, sauktus arī par atslēgām.\n",
    "\n",
    "Datubāzu tabulām piemīt tā saucamie stingrie tipi. Tabulu veidojot, kolonnām tiek piešķirti nosaukumi un tipi, kuri tajās glabāsies.\n",
    "\n",
    "\n",
    "\n",
    "Katrā tabulā tai piemītošie unikālie indeksi tiek saukti par primārajām atslēgām (primary keys) un atsauces uz citu tabulu atslēgām sauc par ārējām atslēgām (foreign keys)  \n"
   ]
  },
  {
   "cell_type": "markdown",
   "metadata": {},
   "source": [
    "<!-- ![alt text](https://github.com/adam-p/markdown-here/raw/master/src/common/images/icon48.png \"Logo Title Text 1\") -->\n",
    "![alt text](https://techdifferences.com/wp-content/uploads/2017/12/STAR-SCHEMA-EX.jpg \"Logo Title Text 1\")"
   ]
  },
  {
   "cell_type": "markdown",
   "metadata": {},
   "source": [
    "Relāciju datubāzes vai arī vispārīgāk, **datubāzes, kuras datus glabā tabulārā formātā atbalsta SQL valodu**\n",
    "SQL valoda vispārīgas datu manipulācijas ar tabulām vai tabulu šķēlumiem (kas arī ir tabulas).  \n",
    "\n",
    "Piemērs SQL vaicājumam, kurš parāda visas ienākošās transakcijas 2020. gada janvārī būtu sekojošs:"
   ]
  },
  {
   "cell_type": "code",
   "execution_count": 4,
   "metadata": {},
   "outputs": [
    {
     "data": {
      "text/plain": [
       "'\\nSELECT \\n    Sales.Time_key,\\n    Sales.Dollars_sold\\nFROM \\n    Sales INNER JOIN TimeDimensionTable on TimeDimensionTable.Time_key = Sales.Time_key\\nWHERE \\n    Month=1 and \\n    Year=2020\\n'"
      ]
     },
     "execution_count": 4,
     "metadata": {},
     "output_type": "execute_result"
    }
   ],
   "source": [
    "\"\"\"\n",
    "SELECT \n",
    "    Sales.Time_key,\n",
    "    Sales.Dollars_sold\n",
    "FROM \n",
    "    Sales INNER JOIN TimeDimensionTable on TimeDimensionTable.Time_key = Sales.Time_key\n",
    "WHERE \n",
    "    Month=1 and \n",
    "    Year=2020\n",
    "\"\"\""
   ]
  },
  {
   "cell_type": "markdown",
   "metadata": {},
   "source": [
    "# Vēl citas problēmas, ko datubāzes risina vai atrisina\n",
    "* Datubāzēm ir iestrādātas pieejas un atļaujas, tāpat kā Linux operētājsistēmai.  \n",
    "Ir read/write/alter tiesības, atkarībā no lietotāja. Piem. zvanu centra darbiniekam nav jāredz tehniskās informācijas tabulas, analītiķim nav jāredz visi personiskie dati. Izstrādātājam/testētājam nebūtu jāredz tikai personiskā informācija, bet būtu jāvar izdarīt pilnīgi viss cits.  \n",
    "* Datubāzes ir iespējams konfigurēt, lai tās datus papildus šifrētu  \n",
    "* Datubāzēm bieži vien ir iebūvēta 'laika attīšanas' opcija un dublējumi, bet tās ir manuāli jākonfigurē.\n",
    "* Datubāzes izmanto ACID pieeju attiecībā uz ierakstu atjaunināšanu.  <!-- https://stackoverflow.com/questions/6703897/transaction-handling-how-are-simultaneous-transaction-managed/6704089 -->\n",
    "* Datubāzes gandrīz vienmēr ierakstus glabā operatīvajā atmiņā, nevis uz diska, kas dod aptuveni 1 - 2 kārtu atšķirību skaitļošanas laika ziņā  \n",
    "* Datubāzes bieži implementē optimizētus meklēšanas algoritmus (hash table, binary search ir daži piemēri) un optimizētas glabāšanas metodes (datu struktūras tiek glabātas blakus viena otrai atmiņā zināmos attālumos, nevis patvaļīgās vietās)\n",
    "* Datubāzu datiem viegli var piekļūt izmantojot populārus datubāzu-programmēšanas valodu mijiedarbības standartus (jdbc, odbc), kas atļauj rakstīt ātras aplikācijas un automatizēt lielu skaitu darbību ar datiem\n"
   ]
  },
  {
   "cell_type": "code",
   "execution_count": null,
   "metadata": {},
   "outputs": [],
   "source": []
  },
  {
   "cell_type": "markdown",
   "metadata": {},
   "source": [
    "# pandas un MySQL  \n",
    "\n",
    "Darbu sākam pievēršoties failam MySQL_pandas_API_install.sh\n",
    "Pēc instrukciju izpildes, ielādējam šos csv ar curl -O komandu terminālī  \n",
    "https://support.staffbase.com/hc/en-us/article_attachments/360009159392/access-code.csv  \n",
    "https://support.staffbase.com/hc/en-us/article_attachments/360009159412/access-code-password-recovery-code.csv  \n",
    "https://support.staffbase.com/hc/en-us/article_attachments/360009197011/username-password-recovery-code.csv  \n",
    "https://support.staffbase.com/hc/en-us/article_attachments/360009197031/username.csv  \n",
    "https://support.staffbase.com/hc/en-us/article_attachments/360009197071/email.csv  \n",
    "https://support.staffbase.com/hc/en-us/article_attachments/360009197051/username-or-email.csv  \n",
    "https://support.staffbase.com/hc/en-us/article_attachments/360009197091/email-password-recovery-code.csv\n",
    "\n",
    "Sekojošajam kodam jāpievēršas, kad ir izpildīta Anaconda Python, MySQL, un Python-MySQL API instalācija"
   ]
  },
  {
   "cell_type": "code",
   "execution_count": 5,
   "metadata": {},
   "outputs": [],
   "source": [
    "class MySQLConnection:\n",
    "    def __init__(self,user,hostname,db):\n",
    "        self.user = str(user)\n",
    "        self.hostname = str(hostname)\n",
    "        self.db = str(db)\n",
    "        pword = getpass.getpass(\"Enter password for user {}\".format(user))\n",
    "        # self.cnx = mysql.connector.connect(host=self.hostname,user=self.user, password=pword,database=self.db)\n",
    "        self.engine = create_engine(\"mysql+mysqlconnector://{}:{}@{}/{}\".format(user,pword,hostname,db))\n",
    "        self.cnx = self.engine.connect()\n",
    "    \n",
    "    def write_to_db(self, df, table_name):\n",
    "        try:\n",
    "            df.to_sql(table_name,con = self.cnx,if_exists='append',index=False)\n",
    "        except Exception as e:\n",
    "            print(\"\\n SQL Write error with: \")\n",
    "            print(df,\"\\n\", e)"
   ]
  },
  {
   "cell_type": "code",
   "execution_count": null,
   "metadata": {},
   "outputs": [],
   "source": [
    "sql = MySQLConnection('ubuntu','13.53.192.184','trenins')"
   ]
  },
  {
   "cell_type": "markdown",
   "metadata": {},
   "source": [
    "Lasāmviela:  \n",
    "https://www.bbc.co.uk/bitesize/guides/z8yg87h/revision/4  \n",
    "https://en.wikipedia.org/wiki/Relational_model  \n",
    "https://web.stanford.edu/~ouster/cgi-bin/cs142-fall10/lecture.php?topic=sql  \n",
    "https://www.tutorialspoint.com/CODD-s-Twelve-Rules-of-Relational-Database  \n",
    "https://en.wikipedia.org/wiki/In-memory_database"
   ]
  },
  {
   "cell_type": "code",
   "execution_count": null,
   "metadata": {},
   "outputs": [],
   "source": []
  }
 ],
 "metadata": {
  "kernelspec": {
   "display_name": "Python 3",
   "language": "python",
   "name": "python3"
  },
  "language_info": {
   "codemirror_mode": {
    "name": "ipython",
    "version": 3
   },
   "file_extension": ".py",
   "mimetype": "text/x-python",
   "name": "python",
   "nbconvert_exporter": "python",
   "pygments_lexer": "ipython3",
   "version": "3.7.5"
  }
 },
 "nbformat": 4,
 "nbformat_minor": 2
}
